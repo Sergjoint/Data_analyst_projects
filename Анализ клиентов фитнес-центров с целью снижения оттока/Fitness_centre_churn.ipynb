{
 "cells": [
  {
   "cell_type": "markdown",
   "metadata": {},
   "source": [
    "[ Описание проекта](#0)\n",
    "\n",
    "[1. Подготовка данных](#1)\n",
    "\n",
    "[2. Исследовательский анализ данных (EDA)](#2)\n",
    "\n",
    "[3. Построение модели прогнозирования оттока клиентов](#3)\n",
    "\n",
    "[4. Кластеризация клиентов](#4)\n",
    "\n",
    "[5. Выводы и рекомендации](#5)"
   ]
  },
  {
   "cell_type": "markdown",
   "metadata": {},
   "source": [
    "# Анализ клиентов фитнес-центров для снижения оттока"
   ]
  },
  {
   "cell_type": "markdown",
   "metadata": {},
   "source": [
    "<a name=\"0\"></a>\n",
    "# Описание проекта\n",
    "Отдел по работе с клиентами сети фитнес-центров предоставил клиентские анкеты в электроном виде для разработки стратегии взаимодействия с клиентами на основе аналитических данных. Данные содержат сведения на месяц до оттока и факт оттока на определённый месяц.\n",
    "\n",
    "**Цель - провести анализ и подготовить план действий по удержанию клиентов.**\n",
    "\n",
    "**Задачи:**\n",
    "- спрогнозировать вероятность оттока (на уровне следующего месяца) для каждого клиента;\n",
    "- сформировать типичные портреты клиентов: выделить несколько наиболее ярких групп и охарактеризовать их основные свойства;\n",
    "- проанализировать основные признаки, наиболее сильно влияющие на отток;\n",
    "- сформулировать основные выводы и разработать рекомендации по повышению качества работы с клиентами:\n",
    " - выделить целевые группы клиентов;\n",
    " - предложить меры по снижению оттока;\n",
    " - определить другие особенности взаимодействия с клиентами"
   ]
  },
  {
   "cell_type": "markdown",
   "metadata": {},
   "source": [
    "<a name=\"1\"></a>\n",
    "## Подготовка данных"
   ]
  },
  {
   "cell_type": "code",
   "execution_count": 1,
   "metadata": {},
   "outputs": [],
   "source": [
    "# Импортируем библиотеки:\n",
    "import pandas as pd\n",
    "from sklearn.model_selection import train_test_split\n",
    "import seaborn as sns\n",
    "import matplotlib.pyplot as plt\n",
    "\n",
    "#Загрузим модули для обучения и метрики оценки моделей из соответсвующей библиотеки:\n",
    "from sklearn.linear_model import LogisticRegression\n",
    "from sklearn.metrics import accuracy_score, precision_score, recall_score\n",
    "from sklearn.preprocessing import StandardScaler\n",
    "from sklearn.ensemble import RandomForestClassifier\n",
    "from scipy.cluster.hierarchy import dendrogram, linkage \n",
    "from sklearn.cluster import KMeans"
   ]
  },
  {
   "cell_type": "code",
   "execution_count": 3,
   "metadata": {
    "scrolled": false
   },
   "outputs": [
    {
     "data": {
      "text/html": [
       "<div>\n",
       "<style scoped>\n",
       "    .dataframe tbody tr th:only-of-type {\n",
       "        vertical-align: middle;\n",
       "    }\n",
       "\n",
       "    .dataframe tbody tr th {\n",
       "        vertical-align: top;\n",
       "    }\n",
       "\n",
       "    .dataframe thead th {\n",
       "        text-align: right;\n",
       "    }\n",
       "</style>\n",
       "<table border=\"1\" class=\"dataframe\">\n",
       "  <thead>\n",
       "    <tr style=\"text-align: right;\">\n",
       "      <th></th>\n",
       "      <th>gender</th>\n",
       "      <th>Near_Location</th>\n",
       "      <th>Partner</th>\n",
       "      <th>Promo_friends</th>\n",
       "      <th>Phone</th>\n",
       "      <th>Contract_period</th>\n",
       "      <th>Group_visits</th>\n",
       "      <th>Age</th>\n",
       "      <th>Avg_additional_charges_total</th>\n",
       "      <th>Month_to_end_contract</th>\n",
       "      <th>Lifetime</th>\n",
       "      <th>Avg_class_frequency_total</th>\n",
       "      <th>Avg_class_frequency_current_month</th>\n",
       "      <th>Churn</th>\n",
       "    </tr>\n",
       "  </thead>\n",
       "  <tbody>\n",
       "    <tr>\n",
       "      <th>0</th>\n",
       "      <td>1</td>\n",
       "      <td>1</td>\n",
       "      <td>1</td>\n",
       "      <td>1</td>\n",
       "      <td>0</td>\n",
       "      <td>6</td>\n",
       "      <td>1</td>\n",
       "      <td>29</td>\n",
       "      <td>14.227470</td>\n",
       "      <td>5.0</td>\n",
       "      <td>3</td>\n",
       "      <td>0.020398</td>\n",
       "      <td>0.000000</td>\n",
       "      <td>0</td>\n",
       "    </tr>\n",
       "    <tr>\n",
       "      <th>1</th>\n",
       "      <td>0</td>\n",
       "      <td>1</td>\n",
       "      <td>0</td>\n",
       "      <td>0</td>\n",
       "      <td>1</td>\n",
       "      <td>12</td>\n",
       "      <td>1</td>\n",
       "      <td>31</td>\n",
       "      <td>113.202938</td>\n",
       "      <td>12.0</td>\n",
       "      <td>7</td>\n",
       "      <td>1.922936</td>\n",
       "      <td>1.910244</td>\n",
       "      <td>0</td>\n",
       "    </tr>\n",
       "    <tr>\n",
       "      <th>2</th>\n",
       "      <td>0</td>\n",
       "      <td>1</td>\n",
       "      <td>1</td>\n",
       "      <td>0</td>\n",
       "      <td>1</td>\n",
       "      <td>1</td>\n",
       "      <td>0</td>\n",
       "      <td>28</td>\n",
       "      <td>129.448479</td>\n",
       "      <td>1.0</td>\n",
       "      <td>2</td>\n",
       "      <td>1.859098</td>\n",
       "      <td>1.736502</td>\n",
       "      <td>0</td>\n",
       "    </tr>\n",
       "    <tr>\n",
       "      <th>3</th>\n",
       "      <td>0</td>\n",
       "      <td>1</td>\n",
       "      <td>1</td>\n",
       "      <td>1</td>\n",
       "      <td>1</td>\n",
       "      <td>12</td>\n",
       "      <td>1</td>\n",
       "      <td>33</td>\n",
       "      <td>62.669863</td>\n",
       "      <td>12.0</td>\n",
       "      <td>2</td>\n",
       "      <td>3.205633</td>\n",
       "      <td>3.357215</td>\n",
       "      <td>0</td>\n",
       "    </tr>\n",
       "    <tr>\n",
       "      <th>4</th>\n",
       "      <td>1</td>\n",
       "      <td>1</td>\n",
       "      <td>1</td>\n",
       "      <td>1</td>\n",
       "      <td>1</td>\n",
       "      <td>1</td>\n",
       "      <td>0</td>\n",
       "      <td>26</td>\n",
       "      <td>198.362265</td>\n",
       "      <td>1.0</td>\n",
       "      <td>3</td>\n",
       "      <td>1.113884</td>\n",
       "      <td>1.120078</td>\n",
       "      <td>0</td>\n",
       "    </tr>\n",
       "  </tbody>\n",
       "</table>\n",
       "</div>"
      ],
      "text/plain": [
       "   gender  Near_Location  Partner  Promo_friends  Phone  Contract_period  \\\n",
       "0       1              1        1              1      0                6   \n",
       "1       0              1        0              0      1               12   \n",
       "2       0              1        1              0      1                1   \n",
       "3       0              1        1              1      1               12   \n",
       "4       1              1        1              1      1                1   \n",
       "\n",
       "   Group_visits  Age  Avg_additional_charges_total  Month_to_end_contract  \\\n",
       "0             1   29                     14.227470                    5.0   \n",
       "1             1   31                    113.202938                   12.0   \n",
       "2             0   28                    129.448479                    1.0   \n",
       "3             1   33                     62.669863                   12.0   \n",
       "4             0   26                    198.362265                    1.0   \n",
       "\n",
       "   Lifetime  Avg_class_frequency_total  Avg_class_frequency_current_month  \\\n",
       "0         3                   0.020398                           0.000000   \n",
       "1         7                   1.922936                           1.910244   \n",
       "2         2                   1.859098                           1.736502   \n",
       "3         2                   3.205633                           3.357215   \n",
       "4         3                   1.113884                           1.120078   \n",
       "\n",
       "   Churn  \n",
       "0      0  \n",
       "1      0  \n",
       "2      0  \n",
       "3      0  \n",
       "4      0  "
      ]
     },
     "metadata": {},
     "output_type": "display_data"
    },
    {
     "name": "stdout",
     "output_type": "stream",
     "text": [
      "<class 'pandas.core.frame.DataFrame'>\n",
      "RangeIndex: 4000 entries, 0 to 3999\n",
      "Data columns (total 14 columns):\n",
      " #   Column                             Non-Null Count  Dtype  \n",
      "---  ------                             --------------  -----  \n",
      " 0   gender                             4000 non-null   int64  \n",
      " 1   Near_Location                      4000 non-null   int64  \n",
      " 2   Partner                            4000 non-null   int64  \n",
      " 3   Promo_friends                      4000 non-null   int64  \n",
      " 4   Phone                              4000 non-null   int64  \n",
      " 5   Contract_period                    4000 non-null   int64  \n",
      " 6   Group_visits                       4000 non-null   int64  \n",
      " 7   Age                                4000 non-null   int64  \n",
      " 8   Avg_additional_charges_total       4000 non-null   float64\n",
      " 9   Month_to_end_contract              4000 non-null   float64\n",
      " 10  Lifetime                           4000 non-null   int64  \n",
      " 11  Avg_class_frequency_total          4000 non-null   float64\n",
      " 12  Avg_class_frequency_current_month  4000 non-null   float64\n",
      " 13  Churn                              4000 non-null   int64  \n",
      "dtypes: float64(4), int64(10)\n",
      "memory usage: 437.6 KB\n"
     ]
    },
    {
     "data": {
      "text/plain": [
       "None"
      ]
     },
     "metadata": {},
     "output_type": "display_data"
    },
    {
     "data": {
      "text/html": [
       "<div>\n",
       "<style scoped>\n",
       "    .dataframe tbody tr th:only-of-type {\n",
       "        vertical-align: middle;\n",
       "    }\n",
       "\n",
       "    .dataframe tbody tr th {\n",
       "        vertical-align: top;\n",
       "    }\n",
       "\n",
       "    .dataframe thead th {\n",
       "        text-align: right;\n",
       "    }\n",
       "</style>\n",
       "<table border=\"1\" class=\"dataframe\">\n",
       "  <thead>\n",
       "    <tr style=\"text-align: right;\">\n",
       "      <th></th>\n",
       "      <th>gender</th>\n",
       "      <th>Near_Location</th>\n",
       "      <th>Partner</th>\n",
       "      <th>Promo_friends</th>\n",
       "      <th>Phone</th>\n",
       "      <th>Contract_period</th>\n",
       "      <th>Group_visits</th>\n",
       "      <th>Age</th>\n",
       "      <th>Avg_additional_charges_total</th>\n",
       "      <th>Month_to_end_contract</th>\n",
       "      <th>Lifetime</th>\n",
       "      <th>Avg_class_frequency_total</th>\n",
       "      <th>Avg_class_frequency_current_month</th>\n",
       "      <th>Churn</th>\n",
       "    </tr>\n",
       "  </thead>\n",
       "  <tbody>\n",
       "    <tr>\n",
       "      <th>count</th>\n",
       "      <td>4000.000000</td>\n",
       "      <td>4000.000000</td>\n",
       "      <td>4000.000000</td>\n",
       "      <td>4000.000000</td>\n",
       "      <td>4000.000000</td>\n",
       "      <td>4000.000000</td>\n",
       "      <td>4000.000000</td>\n",
       "      <td>4000.000000</td>\n",
       "      <td>4000.000000</td>\n",
       "      <td>4000.000000</td>\n",
       "      <td>4000.000000</td>\n",
       "      <td>4000.000000</td>\n",
       "      <td>4000.000000</td>\n",
       "      <td>4000.000000</td>\n",
       "    </tr>\n",
       "    <tr>\n",
       "      <th>mean</th>\n",
       "      <td>0.510250</td>\n",
       "      <td>0.845250</td>\n",
       "      <td>0.486750</td>\n",
       "      <td>0.308500</td>\n",
       "      <td>0.903500</td>\n",
       "      <td>4.681250</td>\n",
       "      <td>0.412250</td>\n",
       "      <td>29.184250</td>\n",
       "      <td>146.943728</td>\n",
       "      <td>4.322750</td>\n",
       "      <td>3.724750</td>\n",
       "      <td>1.879020</td>\n",
       "      <td>1.767052</td>\n",
       "      <td>0.265250</td>\n",
       "    </tr>\n",
       "    <tr>\n",
       "      <th>std</th>\n",
       "      <td>0.499957</td>\n",
       "      <td>0.361711</td>\n",
       "      <td>0.499887</td>\n",
       "      <td>0.461932</td>\n",
       "      <td>0.295313</td>\n",
       "      <td>4.549706</td>\n",
       "      <td>0.492301</td>\n",
       "      <td>3.258367</td>\n",
       "      <td>96.355602</td>\n",
       "      <td>4.191297</td>\n",
       "      <td>3.749267</td>\n",
       "      <td>0.972245</td>\n",
       "      <td>1.052906</td>\n",
       "      <td>0.441521</td>\n",
       "    </tr>\n",
       "    <tr>\n",
       "      <th>min</th>\n",
       "      <td>0.000000</td>\n",
       "      <td>0.000000</td>\n",
       "      <td>0.000000</td>\n",
       "      <td>0.000000</td>\n",
       "      <td>0.000000</td>\n",
       "      <td>1.000000</td>\n",
       "      <td>0.000000</td>\n",
       "      <td>18.000000</td>\n",
       "      <td>0.148205</td>\n",
       "      <td>1.000000</td>\n",
       "      <td>0.000000</td>\n",
       "      <td>0.000000</td>\n",
       "      <td>0.000000</td>\n",
       "      <td>0.000000</td>\n",
       "    </tr>\n",
       "    <tr>\n",
       "      <th>25%</th>\n",
       "      <td>0.000000</td>\n",
       "      <td>1.000000</td>\n",
       "      <td>0.000000</td>\n",
       "      <td>0.000000</td>\n",
       "      <td>1.000000</td>\n",
       "      <td>1.000000</td>\n",
       "      <td>0.000000</td>\n",
       "      <td>27.000000</td>\n",
       "      <td>68.868830</td>\n",
       "      <td>1.000000</td>\n",
       "      <td>1.000000</td>\n",
       "      <td>1.180875</td>\n",
       "      <td>0.963003</td>\n",
       "      <td>0.000000</td>\n",
       "    </tr>\n",
       "    <tr>\n",
       "      <th>50%</th>\n",
       "      <td>1.000000</td>\n",
       "      <td>1.000000</td>\n",
       "      <td>0.000000</td>\n",
       "      <td>0.000000</td>\n",
       "      <td>1.000000</td>\n",
       "      <td>1.000000</td>\n",
       "      <td>0.000000</td>\n",
       "      <td>29.000000</td>\n",
       "      <td>136.220159</td>\n",
       "      <td>1.000000</td>\n",
       "      <td>3.000000</td>\n",
       "      <td>1.832768</td>\n",
       "      <td>1.719574</td>\n",
       "      <td>0.000000</td>\n",
       "    </tr>\n",
       "    <tr>\n",
       "      <th>75%</th>\n",
       "      <td>1.000000</td>\n",
       "      <td>1.000000</td>\n",
       "      <td>1.000000</td>\n",
       "      <td>1.000000</td>\n",
       "      <td>1.000000</td>\n",
       "      <td>6.000000</td>\n",
       "      <td>1.000000</td>\n",
       "      <td>31.000000</td>\n",
       "      <td>210.949625</td>\n",
       "      <td>6.000000</td>\n",
       "      <td>5.000000</td>\n",
       "      <td>2.536078</td>\n",
       "      <td>2.510336</td>\n",
       "      <td>1.000000</td>\n",
       "    </tr>\n",
       "    <tr>\n",
       "      <th>max</th>\n",
       "      <td>1.000000</td>\n",
       "      <td>1.000000</td>\n",
       "      <td>1.000000</td>\n",
       "      <td>1.000000</td>\n",
       "      <td>1.000000</td>\n",
       "      <td>12.000000</td>\n",
       "      <td>1.000000</td>\n",
       "      <td>41.000000</td>\n",
       "      <td>552.590740</td>\n",
       "      <td>12.000000</td>\n",
       "      <td>31.000000</td>\n",
       "      <td>6.023668</td>\n",
       "      <td>6.146783</td>\n",
       "      <td>1.000000</td>\n",
       "    </tr>\n",
       "  </tbody>\n",
       "</table>\n",
       "</div>"
      ],
      "text/plain": [
       "            gender  Near_Location      Partner  Promo_friends        Phone  \\\n",
       "count  4000.000000    4000.000000  4000.000000    4000.000000  4000.000000   \n",
       "mean      0.510250       0.845250     0.486750       0.308500     0.903500   \n",
       "std       0.499957       0.361711     0.499887       0.461932     0.295313   \n",
       "min       0.000000       0.000000     0.000000       0.000000     0.000000   \n",
       "25%       0.000000       1.000000     0.000000       0.000000     1.000000   \n",
       "50%       1.000000       1.000000     0.000000       0.000000     1.000000   \n",
       "75%       1.000000       1.000000     1.000000       1.000000     1.000000   \n",
       "max       1.000000       1.000000     1.000000       1.000000     1.000000   \n",
       "\n",
       "       Contract_period  Group_visits          Age  \\\n",
       "count      4000.000000   4000.000000  4000.000000   \n",
       "mean          4.681250      0.412250    29.184250   \n",
       "std           4.549706      0.492301     3.258367   \n",
       "min           1.000000      0.000000    18.000000   \n",
       "25%           1.000000      0.000000    27.000000   \n",
       "50%           1.000000      0.000000    29.000000   \n",
       "75%           6.000000      1.000000    31.000000   \n",
       "max          12.000000      1.000000    41.000000   \n",
       "\n",
       "       Avg_additional_charges_total  Month_to_end_contract     Lifetime  \\\n",
       "count                   4000.000000            4000.000000  4000.000000   \n",
       "mean                     146.943728               4.322750     3.724750   \n",
       "std                       96.355602               4.191297     3.749267   \n",
       "min                        0.148205               1.000000     0.000000   \n",
       "25%                       68.868830               1.000000     1.000000   \n",
       "50%                      136.220159               1.000000     3.000000   \n",
       "75%                      210.949625               6.000000     5.000000   \n",
       "max                      552.590740              12.000000    31.000000   \n",
       "\n",
       "       Avg_class_frequency_total  Avg_class_frequency_current_month  \\\n",
       "count                4000.000000                        4000.000000   \n",
       "mean                    1.879020                           1.767052   \n",
       "std                     0.972245                           1.052906   \n",
       "min                     0.000000                           0.000000   \n",
       "25%                     1.180875                           0.963003   \n",
       "50%                     1.832768                           1.719574   \n",
       "75%                     2.536078                           2.510336   \n",
       "max                     6.023668                           6.146783   \n",
       "\n",
       "             Churn  \n",
       "count  4000.000000  \n",
       "mean      0.265250  \n",
       "std       0.441521  \n",
       "min       0.000000  \n",
       "25%       0.000000  \n",
       "50%       0.000000  \n",
       "75%       1.000000  \n",
       "max       1.000000  "
      ]
     },
     "metadata": {},
     "output_type": "display_data"
    }
   ],
   "source": [
    "# Загрузим файл с данными:\n",
    "gym = pd.read_csv('gym_churn.csv')\n",
    "display(gym.head(5))\n",
    "display(gym.info())\n",
    "display(gym.describe())"
   ]
  },
  {
   "cell_type": "markdown",
   "metadata": {},
   "source": [
    "Приведём названия столбцов к нижнему регистру для универсальности и убедимся в отсутствии повторов."
   ]
  },
  {
   "cell_type": "code",
   "execution_count": 4,
   "metadata": {},
   "outputs": [
    {
     "name": "stdout",
     "output_type": "stream",
     "text": [
      "Обнаружено повторов строк: 0\n"
     ]
    }
   ],
   "source": [
    "gym.columns=gym.columns.str.lower()\n",
    "print('Обнаружено повторов строк:', gym.duplicated().sum())"
   ]
  },
  {
   "cell_type": "markdown",
   "metadata": {},
   "source": [
    "В результате предварительного осмотра можем сказать, что:\n",
    "- имеем в распоряжении данные о 4000 клиентах сети;\n",
    "- во всех ячейках соответсвующий тип данных;\n",
    "- пропущенных признаков нет;\n",
    "- большинство клиентов проживают или работают в районе расположения фитнес-центра;\n",
    "- большинстов клиентов не являются сотрудниками компаний-партнёров клуба и не участвовали в акции \"приведи друга\"\n",
    "- контактный номер телефона оставили более 75% клиентов;\n",
    "- длительность абонемента в основном составляет один месяц, время с первого обращения в фитнес-центр - 4 месяца (самые лояльные клиенты посещают занятия уже 31 месяц)\n",
    "- групповые занятия посещают около 25% клиентов;\n",
    "- средний возраст клиента - 30 лет, стандартное отклонение - 3 года\n",
    "- отток составляет около 25% клиентов;\n",
    "- средняя частота посещений в неделю - 2 занятия.\n",
    "\n",
    "У переменных довольно разные по величине стандартные отклонения. Это говорит о том, что их возможно нужно стандартизировать перед обучением"
   ]
  },
  {
   "cell_type": "markdown",
   "metadata": {},
   "source": [
    "<a name=\"2\"></a>\n",
    "## Исследовательский анализ данных (EDA)\n",
    "Ранее мы изучили средние значения, стандартные отклонения и убедились в отсутвии пропущенных признаков.\n",
    "Проведём дальнейшую «разведку данных» — EDA (исследовательский анализ данных).\n",
    "Разделим клиентов на две группы: ушедших из фитнес-центра и оставшихся. Изучим внимательнее средние значения в полученных группах."
   ]
  },
  {
   "cell_type": "code",
   "execution_count": 5,
   "metadata": {
    "scrolled": true
   },
   "outputs": [],
   "source": [
    "churn_clients = gym.query('churn == 1')\n",
    "active_clients = gym.query('churn == 0')"
   ]
  },
  {
   "cell_type": "code",
   "execution_count": 6,
   "metadata": {
    "scrolled": false
   },
   "outputs": [
    {
     "name": "stdout",
     "output_type": "stream",
     "text": [
      "В отток попали 1061 клиентов, что составляет 26.52% от общей базы. Активных клиентов в имеющейся базе - 2939 человек.\n"
     ]
    },
    {
     "data": {
      "text/html": [
       "<div>\n",
       "<style scoped>\n",
       "    .dataframe tbody tr th:only-of-type {\n",
       "        vertical-align: middle;\n",
       "    }\n",
       "\n",
       "    .dataframe tbody tr th {\n",
       "        vertical-align: top;\n",
       "    }\n",
       "\n",
       "    .dataframe thead th {\n",
       "        text-align: right;\n",
       "    }\n",
       "</style>\n",
       "<table border=\"1\" class=\"dataframe\">\n",
       "  <thead>\n",
       "    <tr style=\"text-align: right;\">\n",
       "      <th></th>\n",
       "      <th>active_clients</th>\n",
       "      <th>churn_clients</th>\n",
       "    </tr>\n",
       "  </thead>\n",
       "  <tbody>\n",
       "    <tr>\n",
       "      <th>churn</th>\n",
       "      <td>0.000000</td>\n",
       "      <td>1.000000</td>\n",
       "    </tr>\n",
       "    <tr>\n",
       "      <th>gender</th>\n",
       "      <td>0.510037</td>\n",
       "      <td>0.510839</td>\n",
       "    </tr>\n",
       "    <tr>\n",
       "      <th>near_location</th>\n",
       "      <td>0.873086</td>\n",
       "      <td>0.768143</td>\n",
       "    </tr>\n",
       "    <tr>\n",
       "      <th>partner</th>\n",
       "      <td>0.534195</td>\n",
       "      <td>0.355325</td>\n",
       "    </tr>\n",
       "    <tr>\n",
       "      <th>promo_friends</th>\n",
       "      <td>0.353522</td>\n",
       "      <td>0.183789</td>\n",
       "    </tr>\n",
       "    <tr>\n",
       "      <th>phone</th>\n",
       "      <td>0.903709</td>\n",
       "      <td>0.902922</td>\n",
       "    </tr>\n",
       "    <tr>\n",
       "      <th>contract_period</th>\n",
       "      <td>5.747193</td>\n",
       "      <td>1.728558</td>\n",
       "    </tr>\n",
       "    <tr>\n",
       "      <th>group_visits</th>\n",
       "      <td>0.464103</td>\n",
       "      <td>0.268615</td>\n",
       "    </tr>\n",
       "    <tr>\n",
       "      <th>age</th>\n",
       "      <td>29.976523</td>\n",
       "      <td>26.989632</td>\n",
       "    </tr>\n",
       "    <tr>\n",
       "      <th>avg_additional_charges_total</th>\n",
       "      <td>158.445715</td>\n",
       "      <td>115.082899</td>\n",
       "    </tr>\n",
       "    <tr>\n",
       "      <th>month_to_end_contract</th>\n",
       "      <td>5.283089</td>\n",
       "      <td>1.662582</td>\n",
       "    </tr>\n",
       "    <tr>\n",
       "      <th>lifetime</th>\n",
       "      <td>4.711807</td>\n",
       "      <td>0.990575</td>\n",
       "    </tr>\n",
       "    <tr>\n",
       "      <th>avg_class_frequency_total</th>\n",
       "      <td>2.024876</td>\n",
       "      <td>1.474995</td>\n",
       "    </tr>\n",
       "    <tr>\n",
       "      <th>avg_class_frequency_current_month</th>\n",
       "      <td>2.027882</td>\n",
       "      <td>1.044546</td>\n",
       "    </tr>\n",
       "  </tbody>\n",
       "</table>\n",
       "</div>"
      ],
      "text/plain": [
       "                                   active_clients  churn_clients\n",
       "churn                                    0.000000       1.000000\n",
       "gender                                   0.510037       0.510839\n",
       "near_location                            0.873086       0.768143\n",
       "partner                                  0.534195       0.355325\n",
       "promo_friends                            0.353522       0.183789\n",
       "phone                                    0.903709       0.902922\n",
       "contract_period                          5.747193       1.728558\n",
       "group_visits                             0.464103       0.268615\n",
       "age                                     29.976523      26.989632\n",
       "avg_additional_charges_total           158.445715     115.082899\n",
       "month_to_end_contract                    5.283089       1.662582\n",
       "lifetime                                 4.711807       0.990575\n",
       "avg_class_frequency_total                2.024876       1.474995\n",
       "avg_class_frequency_current_month        2.027882       1.044546"
      ]
     },
     "metadata": {},
     "output_type": "display_data"
    }
   ],
   "source": [
    "print('В отток попали', \n",
    "      len(churn_clients),  \n",
    "      'клиентов, что составляет {:.2%}'.format(len(churn_clients)/len(gym)), \n",
    "      'от общей базы. Активных клиентов в имеющейся базе -',\n",
    "      len(active_clients), 'человек.')\n",
    "\n",
    "display(gym.\n",
    "        groupby('churn', as_index = False).\n",
    "        mean().\n",
    "        transpose().\n",
    "        rename(columns={0: \"active_clients\", 1: \"churn_clients\"})\n",
    "       )\n"
   ]
  },
  {
   "cell_type": "markdown",
   "metadata": {},
   "source": [
    "На первый взгляд видим, что на уровень оттока не оказывают влияния пол и наличие контактных данных.\n",
    "Клиент, попавшие в отток, живут дальше, реже работают в компаниях-партнёрах и, скорее всего, не участвовали в промо акции, имеют меньший срок абонемента, реже посещают групповые тренировки.\n",
    "Изучим распределение отдельных признаков, для этого построим гистограммы признаков. "
   ]
  },
  {
   "cell_type": "code",
   "execution_count": 9,
   "metadata": {},
   "outputs": [
    {
     "name": "stderr",
     "output_type": "stream",
     "text": [
      "G:\\Anaconda\\lib\\site-packages\\seaborn\\distributions.py:2557: FutureWarning: `distplot` is a deprecated function and will be removed in a future version. Please adapt your code to use either `displot` (a figure-level function with similar flexibility) or `histplot` (an axes-level function for histograms).\n",
      "  warnings.warn(msg, FutureWarning)\n",
      "G:\\Anaconda\\lib\\site-packages\\seaborn\\distributions.py:2557: FutureWarning: `distplot` is a deprecated function and will be removed in a future version. Please adapt your code to use either `displot` (a figure-level function with similar flexibility) or `histplot` (an axes-level function for histograms).\n",
      "  warnings.warn(msg, FutureWarning)\n"
     ]
    },
    {
     "data": {
      "image/png": "[encoded data removed]",
      "text/plain": [
       "<Figure size 720x288 with 1 Axes>"
      ]
     },
     "metadata": {
      "needs_background": "light"
     },
     "output_type": "display_data"
    },
    {
     "name": "stderr",
     "output_type": "stream",
     "text": [
      "G:\\Anaconda\\lib\\site-packages\\seaborn\\distributions.py:2557: FutureWarning: `distplot` is a deprecated function and will be removed in a future version. Please adapt your code to use either `displot` (a figure-level function with similar flexibility) or `histplot` (an axes-level function for histograms).\n",
      "  warnings.warn(msg, FutureWarning)\n",
      "G:\\Anaconda\\lib\\site-packages\\seaborn\\distributions.py:2557: FutureWarning: `distplot` is a deprecated function and will be removed in a future version. Please adapt your code to use either `displot` (a figure-level function with similar flexibility) or `histplot` (an axes-level function for histograms).\n",
      "  warnings.warn(msg, FutureWarning)\n"
     ]
    },
    {
     "data": {
      "image/png": "[encoded data removed]",
      "text/plain": [
       "<Figure size 720x288 with 1 Axes>"
      ]
     },
     "metadata": {
      "needs_background": "light"
     },
     "output_type": "display_data"
    },
    {
     "name": "stderr",
     "output_type": "stream",
     "text": [
      "G:\\Anaconda\\lib\\site-packages\\seaborn\\distributions.py:2557: FutureWarning: `distplot` is a deprecated function and will be removed in a future version. Please adapt your code to use either `displot` (a figure-level function with similar flexibility) or `histplot` (an axes-level function for histograms).\n",
      "  warnings.warn(msg, FutureWarning)\n",
      "G:\\Anaconda\\lib\\site-packages\\seaborn\\distributions.py:2557: FutureWarning: `distplot` is a deprecated function and will be removed in a future version. Please adapt your code to use either `displot` (a figure-level function with similar flexibility) or `histplot` (an axes-level function for histograms).\n",
      "  warnings.warn(msg, FutureWarning)\n"
     ]
    },
    {
     "data": {
      "image/png": "[encoded data removed]",
      "text/plain": [
       "<Figure size 720x288 with 1 Axes>"
      ]
     },
     "metadata": {
      "needs_background": "light"
     },
     "output_type": "display_data"
    },
    {
     "name": "stderr",
     "output_type": "stream",
     "text": [
      "G:\\Anaconda\\lib\\site-packages\\seaborn\\distributions.py:2557: FutureWarning: `distplot` is a deprecated function and will be removed in a future version. Please adapt your code to use either `displot` (a figure-level function with similar flexibility) or `histplot` (an axes-level function for histograms).\n",
      "  warnings.warn(msg, FutureWarning)\n",
      "G:\\Anaconda\\lib\\site-packages\\seaborn\\distributions.py:2557: FutureWarning: `distplot` is a deprecated function and will be removed in a future version. Please adapt your code to use either `displot` (a figure-level function with similar flexibility) or `histplot` (an axes-level function for histograms).\n",
      "  warnings.warn(msg, FutureWarning)\n"
     ]
    },
    {
     "data": {
      "image/png": "[encoded data removed]",
      "text/plain": [
       "<Figure size 720x288 with 1 Axes>"
      ]
     },
     "metadata": {
      "needs_background": "light"
     },
     "output_type": "display_data"
    },
    {
     "name": "stderr",
     "output_type": "stream",
     "text": [
      "G:\\Anaconda\\lib\\site-packages\\seaborn\\distributions.py:2557: FutureWarning: `distplot` is a deprecated function and will be removed in a future version. Please adapt your code to use either `displot` (a figure-level function with similar flexibility) or `histplot` (an axes-level function for histograms).\n",
      "  warnings.warn(msg, FutureWarning)\n",
      "G:\\Anaconda\\lib\\site-packages\\seaborn\\distributions.py:2557: FutureWarning: `distplot` is a deprecated function and will be removed in a future version. Please adapt your code to use either `displot` (a figure-level function with similar flexibility) or `histplot` (an axes-level function for histograms).\n",
      "  warnings.warn(msg, FutureWarning)\n"
     ]
    },
    {
     "data": {
      "image/png": "[encoded data removed]",
      "text/plain": [
       "<Figure size 720x288 with 1 Axes>"
      ]
     },
     "metadata": {
      "needs_background": "light"
     },
     "output_type": "display_data"
    },
    {
     "name": "stderr",
     "output_type": "stream",
     "text": [
      "G:\\Anaconda\\lib\\site-packages\\seaborn\\distributions.py:2557: FutureWarning: `distplot` is a deprecated function and will be removed in a future version. Please adapt your code to use either `displot` (a figure-level function with similar flexibility) or `histplot` (an axes-level function for histograms).\n",
      "  warnings.warn(msg, FutureWarning)\n",
      "G:\\Anaconda\\lib\\site-packages\\seaborn\\distributions.py:2557: FutureWarning: `distplot` is a deprecated function and will be removed in a future version. Please adapt your code to use either `displot` (a figure-level function with similar flexibility) or `histplot` (an axes-level function for histograms).\n",
      "  warnings.warn(msg, FutureWarning)\n"
     ]
    },
    {
     "data": {
      "image/png": "[encoded data removed]",
      "text/plain": [
       "<Figure size 720x288 with 1 Axes>"
      ]
     },
     "metadata": {
      "needs_background": "light"
     },
     "output_type": "display_data"
    }
   ],
   "source": [
    "# для упрощения анализа выделим отдельно дискретные переменные:\n",
    "discret_signs = ['gender', 'near_location', 'partner', 'promo_friends', 'phone', 'group_visits','contract_period']   \n",
    "\n",
    "# графики распределения для всех признаков - непрерывных перемен - отрисуем функцией distplot():\n",
    "for sign in gym.drop(discret_signs, axis = 1).drop('churn', axis = 1).columns: \n",
    "    plt.figure(figsize=(10,4)) \n",
    "    plt.title(sign)\n",
    "    sns.distplot(churn_clients[sign])\n",
    "    sns.distplot(active_clients[sign])\n",
    "    plt.legend(['Потерянные клиенты', 'Активные клиенты'])\n",
    "    plt.show()"
   ]
  },
  {
   "cell_type": "code",
   "execution_count": 10,
   "metadata": {},
   "outputs": [
    {
     "data": {
      "image/png": "[encoded data removed]",
      "text/plain": [
       "<Figure size 720x288 with 1 Axes>"
      ]
     },
     "metadata": {
      "needs_background": "light"
     },
     "output_type": "display_data"
    },
    {
     "data": {
      "image/png": "[encoded data removed]",
      "text/plain": [
       "<Figure size 720x288 with 1 Axes>"
      ]
     },
     "metadata": {
      "needs_background": "light"
     },
     "output_type": "display_data"
    },
    {
     "data": {
      "image/png": "[encoded data removed]",
      "text/plain": [
       "<Figure size 720x288 with 1 Axes>"
      ]
     },
     "metadata": {
      "needs_background": "light"
     },
     "output_type": "display_data"
    },
    {
     "data": {
      "image/png": "[encoded data removed]",
      "text/plain": [
       "<Figure size 720x288 with 1 Axes>"
      ]
     },
     "metadata": {
      "needs_background": "light"
     },
     "output_type": "display_data"
    },
    {
     "data": {
      "image/png": "[encoded data removed]",
      "text/plain": [
       "<Figure size 720x288 with 1 Axes>"
      ]
     },
     "metadata": {
      "needs_background": "light"
     },
     "output_type": "display_data"
    },
    {
     "data": {
      "image/png": "[encoded data removed]",
      "text/plain": [
       "<Figure size 720x288 with 1 Axes>"
      ]
     },
     "metadata": {
      "needs_background": "light"
     },
     "output_type": "display_data"
    },
    {
     "data": {
      "image/png": "[encoded data removed]",
      "text/plain": [
       "<Figure size 720x288 with 1 Axes>"
      ]
     },
     "metadata": {
      "needs_background": "light"
     },
     "output_type": "display_data"
    }
   ],
   "source": [
    "# для дискретных переменных построим столбчатые диаграммы:\n",
    "\n",
    "for sign in discret_signs: \n",
    "    plt.figure(figsize=(10,4)) \n",
    "\n",
    "    sns.countplot(x = gym[sign], hue='churn', data=gym)\n",
    "    plt.title(sign)\n",
    "    plt.show()"
   ]
  },
  {
   "cell_type": "markdown",
   "metadata": {},
   "source": [
    "Можем предположить, какие признаки станут ключевыми для модели:\n",
    "- из графиков видно, что чем больше продолжительность абонемента и чем дольше срок до его истечения, тем меньше показатель оттока;\n",
    "- для работников компаний-партнёров отток в два меньше больше, чем клиентов, не имеющих корпоративные скидки;\n",
    "- после посещений групповых занятий снижается склонность покинуть заведение. Почти половина лояльных клиентов посещает групповые занятия, а среди ушедших таких около трети;\n",
    "- чаще всего уходят клиентов в возрасте - 25-28 лет, а остаются люди в возрасте 30 - 32 года.В среднем ушедшие клиенты более молоды, чем оставшиеся — 27 лет против 30 лет;\n",
    "- суммарная выручка от прочих услуг фитнес-центра повышается за счёт клиентов, которые вскоре уйдут;\n",
    "- отток происходит чаще чаще в течение первых двух месяцев занятий, после пятого месяца клиенты уходят крайне редко;\n",
    "- незадолго до ухода снижается частота посещения клиентами фитнес-центра до 1-2 занятий в неделю.\n",
    "- в последний месяц перед уходом клиенты посещали зал в среднем раз в неделю, при норме лояльного клиента два раза в неделю.\n",
    "\n",
    "Следующим признаками при оценке оттока можно пренебречь:\n",
    "- близкое проживание или работа в районе, где находится фитнес-центр, не сильно влияют на мотивацию остаться;\n",
    "- указание контактных данных не влияет на вероятность ухода.\n",
    "\n",
    "Вычислим корреляционную матрицу и нарисуем на её основе тепловой таблицы."
   ]
  },
  {
   "cell_type": "code",
   "execution_count": 11,
   "metadata": {},
   "outputs": [
    {
     "data": {
      "image/png": "[encoded data removed]",
      "text/plain": [
       "<Figure size 1080x1080 with 2 Axes>"
      ]
     },
     "metadata": {
      "needs_background": "light"
     },
     "output_type": "display_data"
    }
   ],
   "source": [
    "# корреляционная матрица\n",
    "corr_m = gym.corr()\n",
    "plt.figure(figsize = (15,15))\n",
    "sns.heatmap(corr_m, square = True, annot = True) \n",
    "plt.show()"
   ]
  },
  {
   "cell_type": "markdown",
   "metadata": {},
   "source": [
    "Обнаружили следующие мультиколлинеарные признаки (имеют тесную взаимосвязь): \n",
    "- длительность текущего абонемента и срок до окончания текущего абонемента;\n",
    "- средняя частота посещений в неделю за предыдущий месяц и средняя частота посещений в неделю за все время с начала действия абонемента.\n",
    "\n",
    "Признаки с самой низкой корелляцией с фактом оттока в текущем месяце:\n",
    "- пол;\n",
    "- наличие контактного телефона.\n",
    "\n",
    "Признаки, наиболее сильно влияющие на отток:\n",
    "- длительность посещений (время с момента первого обращения);\n",
    "- средняя частота посещений в неделю за предыдущий месяц;\n",
    "- возраст;\n",
    "- длительность текущего абонемента. "
   ]
  },
  {
   "cell_type": "markdown",
   "metadata": {},
   "source": [
    "<a name=\"3\"></a>\n",
    "## Построение модели прогнозирования оттока клиентов\n",
    "\n",
    "Для выделения двух классов клиентов - уйдет клиент или нет, выделим факт оттока как целевую переменную. Затем оценим вероятность рассматриваемого события."
   ]
  },
  {
   "cell_type": "code",
   "execution_count": 12,
   "metadata": {},
   "outputs": [],
   "source": [
    "# разделим данные на признаки (матрица X) и целевую переменную (y)\n",
    "X = gym.drop('churn', axis = 1)\n",
    "y = gym['churn']\n",
    "\n",
    "# разделим модель на обучающую и валидационную выборку\n",
    "X_train, X_test, y_train, y_test = train_test_split(X, y, test_size=0.2, random_state=0, stratify = y)"
   ]
  },
  {
   "cell_type": "markdown",
   "metadata": {},
   "source": [
    "Все готово для дальнейшего обучения модели. Для решения задачи с определением факта оттока клиента сначала воспользуемся алгоритмом логистической регрессии. Преобразуем линейную регрессию для вычисления вероятности принадлежности к классу 1 - отток.\n",
    "\n"
   ]
  },
  {
   "cell_type": "code",
   "execution_count": 13,
   "metadata": {},
   "outputs": [],
   "source": [
    "# создадим модель и отключим предупреждение библиотеки об изменеии алгоритма решения по умолчанию:\n",
    "model = LogisticRegression(solver='liblinear', random_state=0)\n",
    "\n",
    "# обучим модель\n",
    "model.fit(X_train, y_train)\n",
    "\n",
    "# рассчитаем прогноз класса после обучения модели:\n",
    "predictions_by_logistic_regression = model.predict(X_test) \n",
    "\n",
    "# получим вероятность принадлежности объекта к первому или второму классу:\n",
    "probabilities_by_logistic_regression = model.predict_proba(X_test)[:,1]"
   ]
  },
  {
   "cell_type": "markdown",
   "metadata": {},
   "source": [
    "Оценим качество модели, полученной способом линейной регрессии.\n",
    "Для оценки будем использовать следующие метрики:\n",
    "- accuracy - доля правильных ответов;\n",
    "- precision - точность;\n",
    "- recall - полнота."
   ]
  },
  {
   "cell_type": "code",
   "execution_count": 14,
   "metadata": {},
   "outputs": [
    {
     "name": "stdout",
     "output_type": "stream",
     "text": [
      "Полученные метрики для модели, полученной алгоритмом линейной регрессии:\n",
      "Accuracy : 0.93\n",
      "Precision: 0.89\n",
      "Recall: 0.83\n"
     ]
    }
   ],
   "source": [
    "# выведем метрики для полученного прогноза: \n",
    "print('Полученные метрики для модели, полученной алгоритмом линейной регрессии:')\n",
    "print('Accuracy : {:.2f}'.format(accuracy_score(y_test, predictions_by_logistic_regression) ))\n",
    "print('Precision: {:.2f}'.format(precision_score (y_test, predictions_by_logistic_regression)))\n",
    "print('Recall: {:.2f}'.format(recall_score (y_test, predictions_by_logistic_regression)))"
   ]
  },
  {
   "cell_type": "markdown",
   "metadata": {},
   "source": [
    "Доля правильных ответов модели составляет 93%. Точность прогнозов среди целевого класса - оттока, составляет 86%. С помощью модели мы смогли обнаружить 83% реальных клиентов, попавших в отток. \n",
    "\n",
    "Для решения задачи с определением факта оттока клиента теперь воспользуемся алгоритмом случайного леса, т.е. сгенерируем ответы множества различных независимых друг от друга деревьев слегка разными способами, и на их основании ответов получим итоговое решение. "
   ]
  },
  {
   "cell_type": "code",
   "execution_count": 15,
   "metadata": {},
   "outputs": [],
   "source": [
    "# создаём объект класса scaler (нормализатор)\n",
    "scaler = StandardScaler()  \n",
    "scaler.fit(X_train)\n",
    "\n",
    "# остандартизируем обучающую и тестовую выборки:\n",
    "X_train_st = scaler.transform(X_train)\n",
    "X_test_st = scaler.transform(X_test)"
   ]
  },
  {
   "cell_type": "code",
   "execution_count": 16,
   "metadata": {},
   "outputs": [],
   "source": [
    "# зададим алгоритм для новой модели на основе алгоритма случайного леса:\n",
    "\n",
    "model_by_random_forest = RandomForestClassifier(n_estimators = 100, random_state = 0)\n",
    "\n",
    "# обучим модель случайного леса:\n",
    "model_by_random_forest.fit(X_train_st, y_train)\n",
    "\n",
    "# воспользуемся уже обученной моделью, чтобы сделать прогнозы:\n",
    "predictions_by_random_forest = model_by_random_forest.predict(X_test_st) # Ваш код здесь\n",
    "probabilities_by_random_forest = model_by_random_forest.predict_proba(X_test_st)[:,1]"
   ]
  },
  {
   "cell_type": "code",
   "execution_count": 17,
   "metadata": {},
   "outputs": [
    {
     "name": "stdout",
     "output_type": "stream",
     "text": [
      "Полученные метрики для модели, полученной алгоритмом случайного леса:\n",
      "Accuracy: 0.92\n",
      "Precision: 0.88\n",
      "Recall: 0.83\n"
     ]
    }
   ],
   "source": [
    "# выведем метрики для полученного прогноза: \n",
    "print('Полученные метрики для модели, полученной алгоритмом случайного леса:')\n",
    "print('Accuracy: {:.2f}'.format(accuracy_score(y_test, predictions_by_random_forest) ))\n",
    "print('Precision: {:.2f}'.format(precision_score (y_test, predictions_by_random_forest)))\n",
    "print('Recall: {:.2f}'.format(recall_score (y_test, predictions_by_random_forest)))"
   ]
  },
  {
   "cell_type": "markdown",
   "metadata": {},
   "source": [
    "Доля правильных ответов модели составляет 92%. Точность прогнозов среди целевого класса - оттока, составляет 84%. С помощью модели мы смогли обнаружить 81% реальных клиентов, попавших в отток. \n",
    "\n",
    "По результатам обучения модели двумя способами можем сказать, что более качественной моделью является полученная алгоритмом логистической регрессии. Метрики у неё выше, чем у модели, полученной алгоритмом случайного леса. "
   ]
  },
  {
   "cell_type": "markdown",
   "metadata": {},
   "source": [
    "<a name=\"4\"></a>\n",
    "## Кластеризация клиентов\n",
    "Для вычисления схожести между объектами и группировки объектов (кластеризации), необходимо начать со стандартизации данных. Стандартизация приведёт значения признаков к виду стандартного нормального распределения: значения будут центрированы относительно 0, а средний разброс данных составит 1. "
   ]
  },
  {
   "cell_type": "code",
   "execution_count": 18,
   "metadata": {},
   "outputs": [
    {
     "data": {
      "image/png": "[encoded data removed]",
      "text/plain": [
       "<Figure size 1080x720 with 1 Axes>"
      ]
     },
     "metadata": {
      "needs_background": "light"
     },
     "output_type": "display_data"
    }
   ],
   "source": [
    "# обучаем нормализатор и преобразуем набор данных:\n",
    "x_sc = scaler.fit_transform(X) \n",
    "# Передадим получившуюся стандартизированную таблицу в качестве параметра функции linkage():\n",
    "linked = linkage(x_sc, method = 'ward') \n",
    "# Визуализируем таблицу связей между объектами как дендрограмму:\n",
    "plt.figure(figsize=(15, 10))  \n",
    "dendrogram(linked, orientation='top')\n",
    "plt.show() "
   ]
  },
  {
   "cell_type": "markdown",
   "metadata": {},
   "source": [
    "Предложенное оптимальное число кластеров 4 — четыре разных цвета на графике. Однако четвертый кластер занимет почти половину всех данных, поэтому разделим его на две части. Таким образом, предположим что можно выделить пять кластеров.\n",
    "\n",
    "Получим модель кластеризации на основании алгоритма K-Means.\n"
   ]
  },
  {
   "cell_type": "code",
   "execution_count": 19,
   "metadata": {},
   "outputs": [],
   "source": [
    "# задаём число кластеров, равное 5:\n",
    "# в функции KMeans укажем random_state для сохранения комбинаций наблюдений при перезапуске кода\n",
    "km = KMeans(n_clusters = 5, random_state = 0)\n",
    "# применим алгоритм к данным и сформируем вектор кластеров:\n",
    "labels = km.fit_predict(x_sc) \n",
    "\n",
    "# сохраним индексы предложенных алгоритмом групп в столбец датасета:\n",
    "gym['cluster'] = labels"
   ]
  },
  {
   "cell_type": "markdown",
   "metadata": {},
   "source": [
    "Посмотрим на средние значения признаков для кластеров. Для каждого полученного кластера спрогнозируем долю оттока (groupby). "
   ]
  },
  {
   "cell_type": "code",
   "execution_count": 20,
   "metadata": {
    "scrolled": true
   },
   "outputs": [
    {
     "data": {
      "text/html": [
       "<div>\n",
       "<style scoped>\n",
       "    .dataframe tbody tr th:only-of-type {\n",
       "        vertical-align: middle;\n",
       "    }\n",
       "\n",
       "    .dataframe tbody tr th {\n",
       "        vertical-align: top;\n",
       "    }\n",
       "\n",
       "    .dataframe thead th {\n",
       "        text-align: right;\n",
       "    }\n",
       "</style>\n",
       "<table border=\"1\" class=\"dataframe\">\n",
       "  <thead>\n",
       "    <tr style=\"text-align: right;\">\n",
       "      <th></th>\n",
       "      <th>gender</th>\n",
       "      <th>near_location</th>\n",
       "      <th>partner</th>\n",
       "      <th>promo_friends</th>\n",
       "      <th>phone</th>\n",
       "      <th>contract_period</th>\n",
       "      <th>group_visits</th>\n",
       "      <th>age</th>\n",
       "      <th>avg_additional_charges_total</th>\n",
       "      <th>month_to_end_contract</th>\n",
       "      <th>lifetime</th>\n",
       "      <th>avg_class_frequency_total</th>\n",
       "      <th>avg_class_frequency_current_month</th>\n",
       "      <th>churn</th>\n",
       "    </tr>\n",
       "    <tr>\n",
       "      <th>cluster</th>\n",
       "      <th></th>\n",
       "      <th></th>\n",
       "      <th></th>\n",
       "      <th></th>\n",
       "      <th></th>\n",
       "      <th></th>\n",
       "      <th></th>\n",
       "      <th></th>\n",
       "      <th></th>\n",
       "      <th></th>\n",
       "      <th></th>\n",
       "      <th></th>\n",
       "      <th></th>\n",
       "      <th></th>\n",
       "    </tr>\n",
       "  </thead>\n",
       "  <tbody>\n",
       "    <tr>\n",
       "      <th>0</th>\n",
       "      <td>0.502970</td>\n",
       "      <td>0.959406</td>\n",
       "      <td>0.783168</td>\n",
       "      <td>0.574257</td>\n",
       "      <td>1.000000</td>\n",
       "      <td>10.889109</td>\n",
       "      <td>0.542574</td>\n",
       "      <td>29.982178</td>\n",
       "      <td>160.761016</td>\n",
       "      <td>9.954455</td>\n",
       "      <td>4.736634</td>\n",
       "      <td>1.982055</td>\n",
       "      <td>1.974789</td>\n",
       "      <td>0.027723</td>\n",
       "    </tr>\n",
       "    <tr>\n",
       "      <th>1</th>\n",
       "      <td>0.522078</td>\n",
       "      <td>0.862338</td>\n",
       "      <td>0.470130</td>\n",
       "      <td>0.306494</td>\n",
       "      <td>0.000000</td>\n",
       "      <td>4.787013</td>\n",
       "      <td>0.425974</td>\n",
       "      <td>29.301299</td>\n",
       "      <td>143.957664</td>\n",
       "      <td>4.475325</td>\n",
       "      <td>3.924675</td>\n",
       "      <td>1.847220</td>\n",
       "      <td>1.716369</td>\n",
       "      <td>0.267532</td>\n",
       "    </tr>\n",
       "    <tr>\n",
       "      <th>2</th>\n",
       "      <td>0.495050</td>\n",
       "      <td>0.000000</td>\n",
       "      <td>0.463366</td>\n",
       "      <td>0.079208</td>\n",
       "      <td>1.000000</td>\n",
       "      <td>2.352475</td>\n",
       "      <td>0.215842</td>\n",
       "      <td>28.477228</td>\n",
       "      <td>135.457501</td>\n",
       "      <td>2.198020</td>\n",
       "      <td>2.809901</td>\n",
       "      <td>1.660461</td>\n",
       "      <td>1.477324</td>\n",
       "      <td>0.443564</td>\n",
       "    </tr>\n",
       "    <tr>\n",
       "      <th>3</th>\n",
       "      <td>0.485737</td>\n",
       "      <td>1.000000</td>\n",
       "      <td>0.350238</td>\n",
       "      <td>0.240095</td>\n",
       "      <td>1.000000</td>\n",
       "      <td>1.948494</td>\n",
       "      <td>0.341521</td>\n",
       "      <td>28.167987</td>\n",
       "      <td>131.622204</td>\n",
       "      <td>1.856577</td>\n",
       "      <td>2.440571</td>\n",
       "      <td>1.247634</td>\n",
       "      <td>1.012983</td>\n",
       "      <td>0.514263</td>\n",
       "    </tr>\n",
       "    <tr>\n",
       "      <th>4</th>\n",
       "      <td>0.559666</td>\n",
       "      <td>0.976134</td>\n",
       "      <td>0.356802</td>\n",
       "      <td>0.230310</td>\n",
       "      <td>0.998807</td>\n",
       "      <td>2.669451</td>\n",
       "      <td>0.473747</td>\n",
       "      <td>30.125298</td>\n",
       "      <td>161.657905</td>\n",
       "      <td>2.459427</td>\n",
       "      <td>4.898568</td>\n",
       "      <td>2.852002</td>\n",
       "      <td>2.850161</td>\n",
       "      <td>0.068019</td>\n",
       "    </tr>\n",
       "  </tbody>\n",
       "</table>\n",
       "</div>"
      ],
      "text/plain": [
       "           gender  near_location   partner  promo_friends     phone  \\\n",
       "cluster                                                               \n",
       "0        0.502970       0.959406  0.783168       0.574257  1.000000   \n",
       "1        0.522078       0.862338  0.470130       0.306494  0.000000   \n",
       "2        0.495050       0.000000  0.463366       0.079208  1.000000   \n",
       "3        0.485737       1.000000  0.350238       0.240095  1.000000   \n",
       "4        0.559666       0.976134  0.356802       0.230310  0.998807   \n",
       "\n",
       "         contract_period  group_visits        age  \\\n",
       "cluster                                             \n",
       "0              10.889109      0.542574  29.982178   \n",
       "1               4.787013      0.425974  29.301299   \n",
       "2               2.352475      0.215842  28.477228   \n",
       "3               1.948494      0.341521  28.167987   \n",
       "4               2.669451      0.473747  30.125298   \n",
       "\n",
       "         avg_additional_charges_total  month_to_end_contract  lifetime  \\\n",
       "cluster                                                                  \n",
       "0                          160.761016               9.954455  4.736634   \n",
       "1                          143.957664               4.475325  3.924675   \n",
       "2                          135.457501               2.198020  2.809901   \n",
       "3                          131.622204               1.856577  2.440571   \n",
       "4                          161.657905               2.459427  4.898568   \n",
       "\n",
       "         avg_class_frequency_total  avg_class_frequency_current_month  \\\n",
       "cluster                                                                 \n",
       "0                         1.982055                           1.974789   \n",
       "1                         1.847220                           1.716369   \n",
       "2                         1.660461                           1.477324   \n",
       "3                         1.247634                           1.012983   \n",
       "4                         2.852002                           2.850161   \n",
       "\n",
       "            churn  \n",
       "cluster            \n",
       "0        0.027723  \n",
       "1        0.267532  \n",
       "2        0.443564  \n",
       "3        0.514263  \n",
       "4        0.068019  "
      ]
     },
     "execution_count": 20,
     "metadata": {},
     "output_type": "execute_result"
    }
   ],
   "source": [
    "# выведем статистику по средним значениям наших признаков по кластеру\n",
    "gym.groupby('cluster').mean()"
   ]
  },
  {
   "cell_type": "markdown",
   "metadata": {},
   "source": [
    "Описание кластеров:\n",
    "\n",
    "**Кластер 0**. Кластер с самым низким уровнем оттока клиентов - 3%. Основные особенности:\n",
    "- в основном клиенты живут или работают недалеко от фитнес-центра;\n",
    "- высокая доля сотрудников компаний-партнеров - 78%;\n",
    "- больше половины пришли по акции \"приведи друга\";\n",
    "- наибольший срок абонемента - в среднем 11 месяцев (точнее - 12 - максимальный абонемент);\n",
    "- чаще клиентов в других кластерах посещают групповые занятия;\n",
    "- трятят немного больше на прочие услуги фитнес-центра.\n",
    "\n",
    "**Кластер 1** Уровень оттока составляет 27%. Основные особенности:\n",
    "- клиенты не оставляют контактные данные;\n",
    "- большой срок абонемента - в среднем около пяти месяцев.\n",
    "\n",
    "**Кластер 2** Уровень оттока составляет 44% - второй по целевому показателю. Основные особенности:\n",
    "- живут или работают в другом районе;\n",
    "- около половины клиентов - сотрудники компаний-партнеров;\n",
    "- крайне редко приходят по промо-акции;\n",
    "- реже клиентов в других кластерах посещают групповые занятия;\n",
    "- в среднем посещают занятия 1-2 раза в неделю.\n",
    "\n",
    "**Кластер 3** Кластер с самым высоким уровнем оттока клиентов - 51%. Основные особенности:\n",
    "- все клиенты живут или работают недалеко от фитнес-центра;\n",
    "- низкая доля сотрудников компаний-партнеров - 34%;\n",
    "- меньше четверти клиентов пришли по промо-акции \"приведи друга\";\n",
    "- наименьший срок абонемента - в среднем менее 2-х месяцев (т.е. в основном абонементы выдаются на 1 или 3 месяца);\n",
    "- средний возраст клиента младше клиентов в других кластерах;\n",
    "- трятят меньше клиентов в других кластерах на прочие услуги фитнес-центра;\n",
    "- уходят в основном новенькие клиенты - проходившие чуть более двух месяцев;\n",
    "- реже других посещают занятия как за все время, так и в последний месяц - один раз в неделю или реже.\n",
    "\n",
    "\n",
    "\n",
    "**Кластер 4** Уровень оттока составляет 7%. Основные особенности:\n",
    "- небольшое преобладание одного из полов;\n",
    "- средний возраст клиента старше клиентов в других кластерах;\n",
    "- трятят много на прочие услуги фитнес-центра.\n",
    "- дольше других посещают занятия - в среднем около пяти месяцев с момента первого обращения;\n",
    "- чаще клиентов в других кластерах посещают фитнес-клуб около 3 раз в неделю.\n",
    "\n",
    "Построим распределения признаков для кластеров"
   ]
  },
  {
   "cell_type": "code",
   "execution_count": 21,
   "metadata": {
    "scrolled": true
   },
   "outputs": [
    {
     "data": {
      "image/png": "[encoded data removed]",
      "text/plain": [
       "<Figure size 720x288 with 1 Axes>"
      ]
     },
     "metadata": {
      "needs_background": "light"
     },
     "output_type": "display_data"
    },
    {
     "data": {
      "image/png": "[encoded data removed]",
      "text/plain": [
       "<Figure size 720x288 with 1 Axes>"
      ]
     },
     "metadata": {
      "needs_background": "light"
     },
     "output_type": "display_data"
    },
    {
     "data": {
      "image/png": "[encoded data removed]",
      "text/plain": [
       "<Figure size 720x288 with 1 Axes>"
      ]
     },
     "metadata": {
      "needs_background": "light"
     },
     "output_type": "display_data"
    },
    {
     "data": {
      "image/png": "[encoded data removed]",
      "text/plain": [
       "<Figure size 720x288 with 1 Axes>"
      ]
     },
     "metadata": {
      "needs_background": "light"
     },
     "output_type": "display_data"
    },
    {
     "data": {
      "image/png": "[encoded data removed]",
      "text/plain": [
       "<Figure size 720x288 with 1 Axes>"
      ]
     },
     "metadata": {
      "needs_background": "light"
     },
     "output_type": "display_data"
    },
    {
     "data": {
      "image/png": "[encoded data removed]",
      "text/plain": [
       "<Figure size 720x288 with 1 Axes>"
      ]
     },
     "metadata": {
      "needs_background": "light"
     },
     "output_type": "display_data"
    },
    {
     "data": {
      "image/png": "[encoded data removed]",
      "text/plain": [
       "<Figure size 720x288 with 1 Axes>"
      ]
     },
     "metadata": {
      "needs_background": "light"
     },
     "output_type": "display_data"
    }
   ],
   "source": [
    "# графики распределения для дискетный переменных отрисуем функцией countplot():\n",
    "\n",
    "for sign in discret_signs: \n",
    "    plt.figure(figsize=(10,4)) \n",
    "\n",
    "    sns.countplot(x = gym[sign], hue='cluster', data=gym)\n",
    "    plt.title(sign)\n",
    "    plt.show()"
   ]
  },
  {
   "cell_type": "markdown",
   "metadata": {},
   "source": [
    "Выводы по распределению признаков по кластерам:\n",
    "- распределение по полу не отличается;\n",
    "- сотрудники компаний-партнеров чаще остаются посещать фитнесс-центр;\n",
    "- ушедшие клиенты реже участвовали в промо-акции и реже посещали групповые занятия\n",
    "- Особенно хорошо видно распределение по длительности абонемента – у лояльных клиентов это 12 месяцев, у нелояльных -1 месяц\n"
   ]
  },
  {
   "cell_type": "code",
   "execution_count": 22,
   "metadata": {
    "scrolled": true
   },
   "outputs": [
    {
     "data": {
      "image/png": "[encoded data removed]",
      "text/plain": [
       "<Figure size 720x288 with 1 Axes>"
      ]
     },
     "metadata": {
      "needs_background": "light"
     },
     "output_type": "display_data"
    },
    {
     "data": {
      "image/png": "[encoded data removed]",
      "text/plain": [
       "<Figure size 720x288 with 1 Axes>"
      ]
     },
     "metadata": {
      "needs_background": "light"
     },
     "output_type": "display_data"
    },
    {
     "data": {
      "image/png": "[encoded data removed]",
      "text/plain": [
       "<Figure size 720x288 with 1 Axes>"
      ]
     },
     "metadata": {
      "needs_background": "light"
     },
     "output_type": "display_data"
    },
    {
     "data": {
      "image/png": "[encoded data removed]",
      "text/plain": [
       "<Figure size 720x288 with 1 Axes>"
      ]
     },
     "metadata": {
      "needs_background": "light"
     },
     "output_type": "display_data"
    },
    {
     "data": {
      "image/png": "[encoded data removed]",
      "text/plain": [
       "<Figure size 720x288 with 1 Axes>"
      ]
     },
     "metadata": {
      "needs_background": "light"
     },
     "output_type": "display_data"
    },
    {
     "data": {
      "image/png": "[encoded data removed]",
      "text/plain": [
       "<Figure size 720x288 with 1 Axes>"
      ]
     },
     "metadata": {
      "needs_background": "light"
     },
     "output_type": "display_data"
    }
   ],
   "source": [
    "# графики распределения для непрерывных перемен отрисуем функцией boxplot():\n",
    "for sign in gym.drop(discret_signs, axis = 1).drop(['churn', 'cluster'], axis = 1).columns: \n",
    "    plt.figure(figsize=(10,4)) \n",
    "    sns.boxplot(x = 'cluster', y = gym[sign], data=gym)\n",
    "    plt.title(sign)\n",
    "    plt.show()"
   ]
  },
  {
   "cell_type": "markdown",
   "metadata": {},
   "source": [
    "Выводы по оставшимся признакам для кластеров с наиболее лояльными клиентами (0 и 4):\n",
    "- средний возраста клиента выше;\n",
    "- тратят больше на другие услуги фитнес-центра;\n",
    "- больше оставшееся время до окончания срока действия абонемента;\n",
    "- больше среднее количество посещений в неделю за всё время."
   ]
  },
  {
   "cell_type": "markdown",
   "metadata": {},
   "source": [
    "Подтвердилась разница при сравнении кластера 0 с самым низким уровнем оттока с кластером 1 – с самым высоким уровнем оттока клиентов: уходящие клиенты реже являются сотрудниками компаний-партнёров, реже участвовали в промо-акции, абонемент на срок 1 или 3 месяца, младше по возрасту, посещают занятия недолго и редко.\n",
    "\n",
    "Для каждого полученного кластера посчитаем долю оттока."
   ]
  },
  {
   "cell_type": "code",
   "execution_count": 23,
   "metadata": {
    "scrolled": false
   },
   "outputs": [
    {
     "name": "stdout",
     "output_type": "stream",
     "text": [
      "В кластере № 0 в отток попали 28 клиентов из 1010 . Таким образом, доля оттока составила 2.8%\n",
      "В кластере № 1 в отток попали 103 клиентов из 385 . Таким образом, доля оттока составила 26.8%\n",
      "В кластере № 2 в отток попали 224 клиентов из 505 . Таким образом, доля оттока составила 44.4%\n",
      "В кластере № 3 в отток попали 649 клиентов из 1262 . Таким образом, доля оттока составила 51.4%\n",
      "В кластере № 4 в отток попали 57 клиентов из 838 . Таким образом, доля оттока составила 6.8%\n"
     ]
    }
   ],
   "source": [
    "for number in [0, 1, 2, 3, 4]:\n",
    "     print('В кластере №', number, 'в отток попали',\n",
    "           len(gym.query('churn==1 & cluster == @number')),\n",
    "           'клиентов из',\n",
    "           len(gym.query('cluster == @number')),\n",
    "           '. Таким образом, доля оттока составила {:.1%}'.format(\n",
    "           len(gym.query('churn==1 & cluster == @number')) / len(gym.query('cluster == @number')))\n",
    "          )"
   ]
  },
  {
   "cell_type": "markdown",
   "metadata": {},
   "source": [
    "Видим значительные различия по уровню оттока, наиболее склонные к оттоку - клиенты из кластеров 1 и 2."
   ]
  },
  {
   "cell_type": "markdown",
   "metadata": {},
   "source": [
    "<a name=\"5\"></a>\n",
    "## Выводы и рекомендации\n",
    "Перевод в электронный вид множества клиентских анкет позволил провести предварительный анализ данных о 4000 клиентах сети.\n",
    "Данные собраны качественно, во всех ячейках соответсвующий тип данных, пропущенных признаков нет. \n",
    "В отток попали 1061 клиентов, что составляет 26.52% от общей базы. Активных клиентов в имеющейся базе - 2939 человек.\n",
    "\n",
    "Из графиков распределения признаков увидели следующее:\n",
    "- чем больше продолжительность абонемента и чем дольше срок до его истечения, тем меньше показатель оттока;\n",
    "- для работников компаний-партнёров отток в два меньше больше, чем клиентов, не имеющих корпоративные скидки;\n",
    "- после посещений групповых занятий снижается склонность покинуть заведение;\n",
    "- в среднем ушедшие клиенты более молоды, чем оставшиеся — 27 лет против 30 лет;\n",
    "- отток происходит чаще чаще в течение первых двух месяцев занятий, после пятого месяца клиенты уходят крайне редко;\n",
    "- незадолго до ухода снижается частота посещения клиентами фитнес-центра до 1-2 занятий в неделю.\n",
    "\n",
    "В результат построения матрицы корелляций мы обнаружили тесную взаимосвязь между длительностью текущего абонемента и сроком до окончания текущего абонемента; а также между средней частотой посещений в неделю за предыдущий месяц и средней частотой посещений в неделю за все время с начала действия абонемента.\n",
    "\n",
    "По итогам сравнения двух моделей прогнозирования оттока клиента рекомендуется использовать модель по алгоритму обучения логистической регрессии. Благодаря ей можно с точносью в 93% прогнозировать вероятность оттока по каждому клиенту. \n",
    "\n",
    "После стандартизации данных, построения матрицы расстояний и обучения модели кластеризации мы спрогнозировали 5 кластеров клиентов. Можно выделить следующие целевые группы клиентов:\n",
    "\n",
    "Наиболее лояльные клиенты - кластер 0: \n",
    "- в основном клиенты живут или работают недалеко от фитнес-центра;\n",
    "- высокая доля сотрудников компаний-партнеров - 78%;\n",
    "- больше половины пришли по акции \"приведи друга\";\n",
    "- наибольший срок абонемента - в среднем 11 месяцев (точнее - 12 - максимальный абонемент);\n",
    "- чаще клиентов в других кластерах посещают групповые занятия;\n",
    "- трятят немного больше на прочие услуги фитнес-центра.\n",
    "\n",
    "Наименее лояльные клиенты - кластеры 3 и 2 : \n",
    "\n",
    "- невысокая доля сотрудников компаний-партнеров;\n",
    "- крайне редко приходят по промо-акции \"приведи друга\";\n",
    "- редко посещают групповые занятия;\n",
    "- наименьший срок абонемента - 1 или 3 месяца;\n",
    "- средний возраст клиента младше клиентов в других кластерах;\n",
    "- трятят меньше клиентов в других кластерах на прочие услуги фитнес-центра;\n",
    "- недолго посещают занятия - чуть больше двух месяцев;\n",
    "- реже других посещают занятия как за все время, так и в последний месяц - один раз в неделю или реже.\n",
    "\n",
    "Благодаря проделанной работе можем рекомендовать для удержания клиентов следующий план действий:\n",
    "1. Привлекать новые компании в качестве партнёра клуба с предоставлением скидки на абонемент сотрудникам;\n",
    "2. Рекомендуется предоставлять промо-коды на скидку через каждые полгода абонемента для активных посетителей;\n",
    "3. Раздать анкеты-опросники клиентам в возрасте до 30 лет с целью поиска возможности повышения привлекательности для более молодых клиентов;\n",
    "4. Сделать 10% скидки на посещение групповых занятий, т.к. этот показатель влияет на уровень оттока;\n",
    "5. Завлекать клиентов на посещение более двух занятий в неделю - например, предлагать кислородный коктейль в подарок после окончания третьего занятия."
   ]
  }
 ],
 "metadata": {
  "ExecuteTimeLog": [
   {
    "duration": 616,
    "start_time": "2022-01-22T07:34:19.688Z"
   },
   {
    "duration": 2181,
    "start_time": "2022-01-22T07:34:53.229Z"
   },
   {
    "duration": 85,
    "start_time": "2022-01-22T07:35:07.991Z"
   },
   {
    "duration": 361,
    "start_time": "2022-01-23T12:47:44.830Z"
   },
   {
    "duration": 742,
    "start_time": "2022-01-23T12:47:54.185Z"
   },
   {
    "duration": 141,
    "start_time": "2022-01-23T12:47:54.930Z"
   },
   {
    "duration": 464,
    "start_time": "2022-01-23T12:47:55.074Z"
   },
   {
    "duration": 7,
    "start_time": "2022-01-23T12:48:04.325Z"
   },
   {
    "duration": 12,
    "start_time": "2022-01-23T12:48:18.979Z"
   },
   {
    "duration": 10,
    "start_time": "2022-01-23T12:48:26.786Z"
   },
   {
    "duration": 274,
    "start_time": "2022-01-23T12:49:07.622Z"
   },
   {
    "duration": 306,
    "start_time": "2022-01-23T12:49:15.306Z"
   },
   {
    "duration": 6,
    "start_time": "2022-01-23T12:49:22.458Z"
   },
   {
    "duration": 5,
    "start_time": "2022-01-23T12:49:30.266Z"
   },
   {
    "duration": 4,
    "start_time": "2022-01-23T12:49:42.137Z"
   },
   {
    "duration": 5,
    "start_time": "2022-01-23T12:49:45.204Z"
   },
   {
    "duration": 270,
    "start_time": "2022-01-23T12:50:34.986Z"
   },
   {
    "duration": 4,
    "start_time": "2022-01-23T12:50:39.005Z"
   },
   {
    "duration": 4,
    "start_time": "2022-01-23T12:51:15.793Z"
   },
   {
    "duration": 6,
    "start_time": "2022-01-23T12:51:18.881Z"
   },
   {
    "duration": 779,
    "start_time": "2022-01-23T12:53:36.831Z"
   },
   {
    "duration": 8,
    "start_time": "2022-01-23T12:54:09.126Z"
   },
   {
    "duration": 8,
    "start_time": "2022-01-23T12:54:10.738Z"
   },
   {
    "duration": 14,
    "start_time": "2022-01-23T12:54:14.089Z"
   },
   {
    "duration": 13,
    "start_time": "2022-01-23T12:55:03.394Z"
   },
   {
    "duration": 8,
    "start_time": "2022-01-23T12:55:10.313Z"
   },
   {
    "duration": 9,
    "start_time": "2022-01-23T12:55:15.905Z"
   },
   {
    "duration": 13,
    "start_time": "2022-01-23T12:55:21.125Z"
   },
   {
    "duration": 25,
    "start_time": "2022-01-23T13:27:33.783Z"
   },
   {
    "duration": 26,
    "start_time": "2022-01-23T13:27:39.606Z"
   },
   {
    "duration": 27,
    "start_time": "2022-01-23T13:27:41.774Z"
   },
   {
    "duration": 27,
    "start_time": "2022-01-23T13:27:49.106Z"
   },
   {
    "duration": 339,
    "start_time": "2022-01-23T13:28:50.286Z"
   },
   {
    "duration": 25,
    "start_time": "2022-01-23T13:28:55.947Z"
   },
   {
    "duration": 10,
    "start_time": "2022-01-23T13:30:08.615Z"
   },
   {
    "duration": 25,
    "start_time": "2022-01-23T13:30:10.168Z"
   },
   {
    "duration": 30,
    "start_time": "2022-01-23T13:32:33.977Z"
   },
   {
    "duration": 34,
    "start_time": "2022-01-23T13:33:43.097Z"
   },
   {
    "duration": 32,
    "start_time": "2022-01-23T13:33:58.688Z"
   },
   {
    "duration": 35,
    "start_time": "2022-01-23T13:34:01.872Z"
   },
   {
    "duration": 35,
    "start_time": "2022-01-23T13:34:31.057Z"
   },
   {
    "duration": 33,
    "start_time": "2022-01-23T13:34:33.113Z"
   },
   {
    "duration": 12,
    "start_time": "2022-01-23T13:36:19.679Z"
   },
   {
    "duration": 122,
    "start_time": "2022-01-23T13:38:40.882Z"
   },
   {
    "duration": 36,
    "start_time": "2022-01-23T13:38:55.933Z"
   },
   {
    "duration": 37,
    "start_time": "2022-01-23T13:39:37.240Z"
   },
   {
    "duration": 37,
    "start_time": "2022-01-23T13:40:00.417Z"
   },
   {
    "duration": 38,
    "start_time": "2022-01-23T13:40:08.603Z"
   },
   {
    "duration": 15,
    "start_time": "2022-01-23T13:44:03.757Z"
   },
   {
    "duration": -312,
    "start_time": "2022-01-23T13:44:09.224Z"
   },
   {
    "duration": 13,
    "start_time": "2022-01-23T13:44:15.443Z"
   },
   {
    "duration": 301,
    "start_time": "2022-01-23T13:44:18.342Z"
   },
   {
    "duration": 37,
    "start_time": "2022-01-23T13:44:26.582Z"
   },
   {
    "duration": 263,
    "start_time": "2022-01-23T13:55:28.561Z"
   },
   {
    "duration": 614,
    "start_time": "2022-01-23T13:55:43.772Z"
   },
   {
    "duration": 312,
    "start_time": "2022-01-23T13:55:48.629Z"
   },
   {
    "duration": 203,
    "start_time": "2022-01-23T13:55:59.636Z"
   },
   {
    "duration": 340,
    "start_time": "2022-01-23T13:56:02.732Z"
   },
   {
    "duration": 4,
    "start_time": "2022-01-23T13:56:59.516Z"
   },
   {
    "duration": 387,
    "start_time": "2022-01-23T13:57:08.321Z"
   },
   {
    "duration": 2015,
    "start_time": "2022-01-23T13:57:18.366Z"
   },
   {
    "duration": 3,
    "start_time": "2022-01-23T13:59:26.995Z"
   },
   {
    "duration": 299,
    "start_time": "2022-01-23T13:59:55.901Z"
   },
   {
    "duration": 617,
    "start_time": "2022-01-23T14:06:20.391Z"
   },
   {
    "duration": 569,
    "start_time": "2022-01-23T14:06:34.919Z"
   },
   {
    "duration": 268,
    "start_time": "2022-01-23T14:06:42.985Z"
   },
   {
    "duration": 319,
    "start_time": "2022-01-23T14:06:56.970Z"
   },
   {
    "duration": 14,
    "start_time": "2022-01-23T14:07:04.433Z"
   },
   {
    "duration": 291,
    "start_time": "2022-01-23T14:07:08.998Z"
   },
   {
    "duration": 378,
    "start_time": "2022-01-23T14:07:20.629Z"
   },
   {
    "duration": 29,
    "start_time": "2022-01-23T14:09:18.147Z"
   },
   {
    "duration": 5,
    "start_time": "2022-01-23T14:09:59.676Z"
   },
   {
    "duration": 28,
    "start_time": "2022-01-23T14:10:05.659Z"
   },
   {
    "duration": 91,
    "start_time": "2022-01-23T14:11:08.928Z"
   },
   {
    "duration": 28,
    "start_time": "2022-01-23T14:11:19.646Z"
   },
   {
    "duration": 544,
    "start_time": "2022-01-23T14:11:35.560Z"
   },
   {
    "duration": 84,
    "start_time": "2022-01-23T14:11:49.392Z"
   },
   {
    "duration": 89,
    "start_time": "2022-01-23T14:11:57.439Z"
   },
   {
    "duration": 28,
    "start_time": "2022-01-23T14:12:26.053Z"
   },
   {
    "duration": 579,
    "start_time": "2022-01-23T14:13:41.390Z"
   },
   {
    "duration": 5113,
    "start_time": "2022-01-23T14:14:51.114Z"
   },
   {
    "duration": 550,
    "start_time": "2022-01-23T14:17:51.739Z"
   },
   {
    "duration": 111,
    "start_time": "2022-01-23T14:18:03.934Z"
   },
   {
    "duration": 8959,
    "start_time": "2022-01-23T14:18:06.240Z"
   },
   {
    "duration": 4963,
    "start_time": "2022-01-23T14:18:21.993Z"
   },
   {
    "duration": 4990,
    "start_time": "2022-01-23T14:18:27.121Z"
   },
   {
    "duration": 5862,
    "start_time": "2022-01-23T14:20:22.809Z"
   },
   {
    "duration": 9178,
    "start_time": "2022-01-23T14:20:59.555Z"
   },
   {
    "duration": 10788,
    "start_time": "2022-01-23T14:21:10.120Z"
   },
   {
    "duration": 2491,
    "start_time": "2022-01-23T14:25:42.118Z"
   },
   {
    "duration": 5134,
    "start_time": "2022-01-23T14:27:51.053Z"
   },
   {
    "duration": 7091,
    "start_time": "2022-01-23T14:31:28.818Z"
   },
   {
    "duration": 6743,
    "start_time": "2022-01-23T14:32:51.095Z"
   },
   {
    "duration": 1779,
    "start_time": "2022-01-23T14:33:34.087Z"
   },
   {
    "duration": 6393,
    "start_time": "2022-01-23T14:33:37.744Z"
   },
   {
    "duration": 454,
    "start_time": "2022-01-23T14:34:39.757Z"
   },
   {
    "duration": 3585,
    "start_time": "2022-01-23T14:34:45.550Z"
   },
   {
    "duration": 3058,
    "start_time": "2022-01-23T14:34:59.929Z"
   },
   {
    "duration": 1415,
    "start_time": "2022-01-23T14:35:26.272Z"
   },
   {
    "duration": 1452,
    "start_time": "2022-01-23T14:35:45.772Z"
   },
   {
    "duration": 9360,
    "start_time": "2022-01-23T14:36:03.817Z"
   },
   {
    "duration": 11365,
    "start_time": "2022-01-23T14:36:13.751Z"
   },
   {
    "duration": 47739,
    "start_time": "2022-01-23T14:36:29.065Z"
   },
   {
    "duration": 5089,
    "start_time": "2022-01-23T14:37:16.806Z"
   },
   {
    "duration": 9747,
    "start_time": "2022-01-23T14:44:03.229Z"
   },
   {
    "duration": 2163,
    "start_time": "2022-01-23T14:45:43.508Z"
   },
   {
    "duration": 5177,
    "start_time": "2022-01-23T14:46:05.186Z"
   },
   {
    "duration": 7902,
    "start_time": "2022-01-23T14:46:28.862Z"
   },
   {
    "duration": 6568,
    "start_time": "2022-01-23T14:47:32.241Z"
   },
   {
    "duration": 2549,
    "start_time": "2022-01-23T14:48:05.630Z"
   },
   {
    "duration": 2424,
    "start_time": "2022-01-23T14:53:04.182Z"
   },
   {
    "duration": 7511,
    "start_time": "2022-01-23T14:53:14.294Z"
   },
   {
    "duration": 2228,
    "start_time": "2022-01-23T14:53:47.782Z"
   },
   {
    "duration": 2491,
    "start_time": "2022-01-23T14:54:18.742Z"
   },
   {
    "duration": 4940,
    "start_time": "2022-01-23T14:54:48.078Z"
   },
   {
    "duration": 615,
    "start_time": "2022-01-23T14:57:24.264Z"
   },
   {
    "duration": 682,
    "start_time": "2022-01-23T14:57:26.351Z"
   },
   {
    "duration": 1441,
    "start_time": "2022-01-23T14:59:53.021Z"
   },
   {
    "duration": 118,
    "start_time": "2022-01-23T14:59:54.465Z"
   },
   {
    "duration": 13,
    "start_time": "2022-01-23T14:59:54.586Z"
   },
   {
    "duration": 11,
    "start_time": "2022-01-23T14:59:54.601Z"
   },
   {
    "duration": 60,
    "start_time": "2022-01-23T14:59:54.615Z"
   },
   {
    "duration": 5138,
    "start_time": "2022-01-23T14:59:54.677Z"
   },
   {
    "duration": 375393,
    "start_time": "2022-01-23T14:59:59.818Z"
   },
   {
    "duration": 353,
    "start_time": "2022-01-23T15:06:15.215Z"
   },
   {
    "duration": 1564,
    "start_time": "2022-01-23T15:06:15.571Z"
   },
   {
    "duration": 1970,
    "start_time": "2022-01-23T15:06:17.138Z"
   },
   {
    "duration": 5315,
    "start_time": "2022-01-23T15:06:19.110Z"
   },
   {
    "duration": 9,
    "start_time": "2022-01-23T15:30:15.236Z"
   },
   {
    "duration": 11,
    "start_time": "2022-01-23T15:30:31.102Z"
   },
   {
    "duration": 9,
    "start_time": "2022-01-23T15:30:33.356Z"
   },
   {
    "duration": 1105,
    "start_time": "2022-01-23T18:30:17.714Z"
   },
   {
    "duration": 78,
    "start_time": "2022-01-23T18:30:18.823Z"
   },
   {
    "duration": 8,
    "start_time": "2022-01-23T18:30:18.904Z"
   },
   {
    "duration": 8,
    "start_time": "2022-01-23T18:30:18.914Z"
   },
   {
    "duration": 20,
    "start_time": "2022-01-23T18:30:18.924Z"
   },
   {
    "duration": 3293,
    "start_time": "2022-01-23T18:30:18.946Z"
   },
   {
    "duration": 1115,
    "start_time": "2022-01-23T18:31:20.808Z"
   },
   {
    "duration": 73,
    "start_time": "2022-01-23T18:31:21.925Z"
   },
   {
    "duration": 8,
    "start_time": "2022-01-23T18:31:22.000Z"
   },
   {
    "duration": 7,
    "start_time": "2022-01-23T18:31:22.010Z"
   },
   {
    "duration": 18,
    "start_time": "2022-01-23T18:31:22.018Z"
   },
   {
    "duration": 3129,
    "start_time": "2022-01-23T18:31:22.038Z"
   },
   {
    "duration": 1081,
    "start_time": "2022-01-23T18:31:56.242Z"
   },
   {
    "duration": 74,
    "start_time": "2022-01-23T18:31:57.325Z"
   },
   {
    "duration": 9,
    "start_time": "2022-01-23T18:31:57.401Z"
   },
   {
    "duration": 18,
    "start_time": "2022-01-23T18:31:57.411Z"
   },
   {
    "duration": 46,
    "start_time": "2022-01-23T18:31:57.430Z"
   },
   {
    "duration": 20,
    "start_time": "2022-01-23T18:31:57.478Z"
   },
   {
    "duration": 20,
    "start_time": "2022-01-23T18:31:57.499Z"
   },
   {
    "duration": 228,
    "start_time": "2022-01-23T18:31:57.521Z"
   },
   {
    "duration": 1278,
    "start_time": "2022-01-23T18:31:57.750Z"
   },
   {
    "duration": 6,
    "start_time": "2022-01-23T18:31:59.030Z"
   },
   {
    "duration": 16,
    "start_time": "2022-01-23T18:34:28.173Z"
   },
   {
    "duration": 2,
    "start_time": "2022-01-23T18:34:32.213Z"
   },
   {
    "duration": 286,
    "start_time": "2022-01-23T18:38:01.163Z"
   },
   {
    "duration": 26,
    "start_time": "2022-01-23T18:38:31.858Z"
   },
   {
    "duration": 24,
    "start_time": "2022-01-23T18:39:46.713Z"
   },
   {
    "duration": 24,
    "start_time": "2022-01-23T18:42:58.195Z"
   },
   {
    "duration": 4,
    "start_time": "2022-01-23T18:43:10.226Z"
   },
   {
    "duration": 4,
    "start_time": "2022-01-23T18:43:23.248Z"
   },
   {
    "duration": 24,
    "start_time": "2022-01-23T18:44:32.425Z"
   },
   {
    "duration": 10,
    "start_time": "2022-01-23T18:44:35.201Z"
   },
   {
    "duration": 180,
    "start_time": "2022-01-23T18:50:04.250Z"
   },
   {
    "duration": 3,
    "start_time": "2022-01-23T18:50:24.911Z"
   },
   {
    "duration": 228,
    "start_time": "2022-01-23T18:50:28.238Z"
   },
   {
    "duration": 4,
    "start_time": "2022-01-23T18:50:40.870Z"
   },
   {
    "duration": 8,
    "start_time": "2022-01-23T18:51:04.754Z"
   },
   {
    "duration": 6,
    "start_time": "2022-01-23T18:58:10.962Z"
   },
   {
    "duration": 31,
    "start_time": "2022-01-23T18:58:12.603Z"
   },
   {
    "duration": 5,
    "start_time": "2022-01-23T18:58:14.472Z"
   },
   {
    "duration": 11,
    "start_time": "2022-01-23T18:58:16.358Z"
   },
   {
    "duration": 9,
    "start_time": "2022-01-23T18:58:19.612Z"
   },
   {
    "duration": 4,
    "start_time": "2022-01-23T19:03:26.326Z"
   },
   {
    "duration": 7,
    "start_time": "2022-01-23T19:03:41.054Z"
   },
   {
    "duration": 8,
    "start_time": "2022-01-23T19:03:57.241Z"
   },
   {
    "duration": 17,
    "start_time": "2022-01-23T19:04:21.714Z"
   },
   {
    "duration": 18,
    "start_time": "2022-01-23T19:04:51.768Z"
   },
   {
    "duration": 6,
    "start_time": "2022-01-23T19:04:57.848Z"
   },
   {
    "duration": 105,
    "start_time": "2022-01-23T19:05:00.992Z"
   },
   {
    "duration": 8,
    "start_time": "2022-01-23T19:05:24.436Z"
   },
   {
    "duration": 292,
    "start_time": "2022-01-23T19:06:46.815Z"
   },
   {
    "duration": 24,
    "start_time": "2022-01-23T19:07:04.941Z"
   },
   {
    "duration": 342,
    "start_time": "2022-01-23T19:07:07.860Z"
   },
   {
    "duration": 7,
    "start_time": "2022-01-23T19:07:15.113Z"
   },
   {
    "duration": 28,
    "start_time": "2022-01-23T19:10:28.035Z"
   },
   {
    "duration": 4,
    "start_time": "2022-01-23T19:10:29.434Z"
   },
   {
    "duration": 13,
    "start_time": "2022-01-23T19:10:31.218Z"
   },
   {
    "duration": 8,
    "start_time": "2022-01-23T19:10:34.252Z"
   },
   {
    "duration": 8,
    "start_time": "2022-01-23T19:19:57.729Z"
   },
   {
    "duration": 4,
    "start_time": "2022-01-23T19:20:16.417Z"
   },
   {
    "duration": 4,
    "start_time": "2022-01-23T19:21:03.395Z"
   },
   {
    "duration": 9,
    "start_time": "2022-01-23T19:21:39.165Z"
   },
   {
    "duration": 176,
    "start_time": "2022-01-23T19:22:07.938Z"
   },
   {
    "duration": 558,
    "start_time": "2022-01-23T19:22:18.621Z"
   },
   {
    "duration": 87857,
    "start_time": "2022-01-23T19:22:54.920Z"
   },
   {
    "duration": 17,
    "start_time": "2022-01-23T19:25:58.607Z"
   },
   {
    "duration": 174,
    "start_time": "2022-01-23T19:26:40.397Z"
   },
   {
    "duration": 1271,
    "start_time": "2022-01-23T19:26:45.526Z"
   },
   {
    "duration": 54,
    "start_time": "2022-01-23T19:27:05.474Z"
   },
   {
    "duration": 1567,
    "start_time": "2022-01-23T19:27:37.137Z"
   },
   {
    "duration": 6,
    "start_time": "2022-01-23T19:28:30.926Z"
   },
   {
    "duration": 5,
    "start_time": "2022-01-23T19:28:56.486Z"
   },
   {
    "duration": 1534,
    "start_time": "2022-01-24T17:13:28.632Z"
   },
   {
    "duration": 116,
    "start_time": "2022-01-24T17:13:30.169Z"
   },
   {
    "duration": 13,
    "start_time": "2022-01-24T17:13:30.288Z"
   },
   {
    "duration": 29,
    "start_time": "2022-01-24T17:13:30.305Z"
   },
   {
    "duration": 27,
    "start_time": "2022-01-24T17:13:30.337Z"
   },
   {
    "duration": 3,
    "start_time": "2022-01-24T17:13:30.367Z"
   },
   {
    "duration": 11,
    "start_time": "2022-01-24T17:13:30.373Z"
   },
   {
    "duration": 357,
    "start_time": "2022-01-24T17:13:30.388Z"
   },
   {
    "duration": 1946,
    "start_time": "2022-01-24T17:13:30.748Z"
   },
   {
    "duration": 9,
    "start_time": "2022-01-24T17:13:32.697Z"
   },
   {
    "duration": 68,
    "start_time": "2022-01-24T17:13:32.708Z"
   },
   {
    "duration": 63,
    "start_time": "2022-01-24T17:13:32.778Z"
   },
   {
    "duration": 104,
    "start_time": "2022-01-24T17:13:32.933Z"
   },
   {
    "duration": 10,
    "start_time": "2022-01-24T17:13:33.040Z"
   },
   {
    "duration": 12,
    "start_time": "2022-01-24T17:13:33.052Z"
   },
   {
    "duration": 534,
    "start_time": "2022-01-24T17:13:33.066Z"
   },
   {
    "duration": 11,
    "start_time": "2022-01-24T17:13:33.602Z"
   },
   {
    "duration": 25,
    "start_time": "2022-01-24T17:13:33.615Z"
   },
   {
    "duration": 797,
    "start_time": "2022-01-24T17:13:33.643Z"
   },
   {
    "duration": 140661,
    "start_time": "2022-01-24T17:13:34.442Z"
   },
   {
    "duration": 1827,
    "start_time": "2022-01-24T17:15:55.106Z"
   },
   {
    "duration": 7,
    "start_time": "2022-01-24T17:15:56.936Z"
   },
   {
    "duration": 1129,
    "start_time": "2022-01-24T17:17:45.007Z"
   },
   {
    "duration": 982,
    "start_time": "2022-01-24T17:18:57.087Z"
   },
   {
    "duration": 763,
    "start_time": "2022-01-24T17:19:09.403Z"
   },
   {
    "duration": 993,
    "start_time": "2022-01-24T17:24:58.585Z"
   },
   {
    "duration": 394,
    "start_time": "2022-01-24T17:26:00.944Z"
   },
   {
    "duration": 455,
    "start_time": "2022-01-24T17:26:13.536Z"
   },
   {
    "duration": 809,
    "start_time": "2022-01-24T17:26:47.291Z"
   },
   {
    "duration": 499,
    "start_time": "2022-01-24T17:26:58.856Z"
   },
   {
    "duration": 467,
    "start_time": "2022-01-24T17:27:12.935Z"
   },
   {
    "duration": 1258,
    "start_time": "2022-01-24T17:27:23.807Z"
   },
   {
    "duration": 1698,
    "start_time": "2022-01-24T17:28:00.735Z"
   },
   {
    "duration": 1227,
    "start_time": "2022-01-24T17:28:12.207Z"
   },
   {
    "duration": 1141,
    "start_time": "2022-01-24T17:28:15.643Z"
   },
   {
    "duration": 1163,
    "start_time": "2022-01-24T17:28:18.889Z"
   },
   {
    "duration": 1282,
    "start_time": "2022-01-24T17:28:28.171Z"
   },
   {
    "duration": 2134,
    "start_time": "2022-01-24T17:28:46.845Z"
   },
   {
    "duration": 3320,
    "start_time": "2022-01-24T17:30:08.758Z"
   },
   {
    "duration": 8078,
    "start_time": "2022-01-24T17:30:18.750Z"
   },
   {
    "duration": 15568,
    "start_time": "2022-01-24T17:30:45.491Z"
   },
   {
    "duration": 12512,
    "start_time": "2022-01-24T17:31:13.846Z"
   },
   {
    "duration": 1540,
    "start_time": "2022-01-24T17:34:20.443Z"
   },
   {
    "duration": 114,
    "start_time": "2022-01-24T17:34:21.986Z"
   },
   {
    "duration": 35,
    "start_time": "2022-01-24T17:34:22.104Z"
   },
   {
    "duration": 13,
    "start_time": "2022-01-24T17:34:22.142Z"
   },
   {
    "duration": 38,
    "start_time": "2022-01-24T17:34:22.158Z"
   },
   {
    "duration": 4,
    "start_time": "2022-01-24T17:34:22.234Z"
   },
   {
    "duration": 9,
    "start_time": "2022-01-24T17:34:22.241Z"
   },
   {
    "duration": 17678,
    "start_time": "2022-01-24T17:34:22.255Z"
   },
   {
    "duration": 1551,
    "start_time": "2022-01-24T17:39:25.956Z"
   },
   {
    "duration": 135,
    "start_time": "2022-01-24T17:39:27.510Z"
   },
   {
    "duration": 14,
    "start_time": "2022-01-24T17:39:27.649Z"
   },
   {
    "duration": 10,
    "start_time": "2022-01-24T17:39:27.665Z"
   },
   {
    "duration": 65,
    "start_time": "2022-01-24T17:39:27.677Z"
   },
   {
    "duration": 3,
    "start_time": "2022-01-24T17:39:27.745Z"
   },
   {
    "duration": 10,
    "start_time": "2022-01-24T17:39:27.751Z"
   },
   {
    "duration": 13597,
    "start_time": "2022-01-24T17:39:27.764Z"
   },
   {
    "duration": 1783,
    "start_time": "2022-01-24T17:41:29.579Z"
   },
   {
    "duration": 127,
    "start_time": "2022-01-24T17:41:31.365Z"
   },
   {
    "duration": 15,
    "start_time": "2022-01-24T17:41:31.495Z"
   },
   {
    "duration": 20,
    "start_time": "2022-01-24T17:41:31.533Z"
   },
   {
    "duration": 39,
    "start_time": "2022-01-24T17:41:31.556Z"
   },
   {
    "duration": 3,
    "start_time": "2022-01-24T17:41:31.599Z"
   },
   {
    "duration": 31,
    "start_time": "2022-01-24T17:41:31.605Z"
   },
   {
    "duration": 12842,
    "start_time": "2022-01-24T17:41:31.641Z"
   },
   {
    "duration": 4392,
    "start_time": "2022-01-24T17:41:44.486Z"
   },
   {
    "duration": 6385,
    "start_time": "2022-01-24T17:48:04.360Z"
   },
   {
    "duration": 4164,
    "start_time": "2022-01-24T17:48:31.455Z"
   },
   {
    "duration": 83,
    "start_time": "2022-01-24T17:48:40.062Z"
   },
   {
    "duration": 10672,
    "start_time": "2022-01-24T17:48:43.852Z"
   },
   {
    "duration": 3757,
    "start_time": "2022-01-24T17:49:23.558Z"
   },
   {
    "duration": 3776,
    "start_time": "2022-01-24T17:49:40.845Z"
   },
   {
    "duration": 673,
    "start_time": "2022-01-24T17:49:59.857Z"
   },
   {
    "duration": 3304,
    "start_time": "2022-01-24T17:50:14.402Z"
   },
   {
    "duration": 17957,
    "start_time": "2022-01-24T17:50:21.781Z"
   },
   {
    "duration": 16398,
    "start_time": "2022-01-24T17:51:03.992Z"
   },
   {
    "duration": 18421,
    "start_time": "2022-01-24T17:51:28.147Z"
   },
   {
    "duration": 14489,
    "start_time": "2022-01-24T17:51:51.769Z"
   },
   {
    "duration": 20114,
    "start_time": "2022-01-24T17:52:06.864Z"
   },
   {
    "duration": 14081,
    "start_time": "2022-01-24T17:52:48.871Z"
   },
   {
    "duration": 4214,
    "start_time": "2022-01-24T17:53:16.123Z"
   },
   {
    "duration": 3599,
    "start_time": "2022-01-24T17:53:27.278Z"
   },
   {
    "duration": 4856,
    "start_time": "2022-01-24T17:53:40.815Z"
   },
   {
    "duration": 4319,
    "start_time": "2022-01-24T17:53:58.371Z"
   },
   {
    "duration": 6260,
    "start_time": "2022-01-24T17:54:14.907Z"
   },
   {
    "duration": 5511,
    "start_time": "2022-01-24T17:54:56.826Z"
   },
   {
    "duration": 14541,
    "start_time": "2022-01-24T17:55:25.938Z"
   },
   {
    "duration": 3,
    "start_time": "2022-01-24T17:57:12.693Z"
   },
   {
    "duration": 8615,
    "start_time": "2022-01-24T17:57:50.268Z"
   },
   {
    "duration": 273,
    "start_time": "2022-01-24T17:58:40.804Z"
   },
   {
    "duration": 8922,
    "start_time": "2022-01-24T17:58:54.668Z"
   },
   {
    "duration": 7847,
    "start_time": "2022-01-24T18:01:50.279Z"
   },
   {
    "duration": 7789,
    "start_time": "2022-01-24T18:02:11.927Z"
   },
   {
    "duration": 7821,
    "start_time": "2022-01-24T18:03:02.024Z"
   },
   {
    "duration": 10972,
    "start_time": "2022-01-24T18:04:15.760Z"
   },
   {
    "duration": 21,
    "start_time": "2022-01-24T18:04:55.197Z"
   },
   {
    "duration": 9522,
    "start_time": "2022-01-24T18:05:26.180Z"
   },
   {
    "duration": 1673,
    "start_time": "2022-01-24T18:06:10.610Z"
   },
   {
    "duration": 130,
    "start_time": "2022-01-24T18:06:12.287Z"
   },
   {
    "duration": 16,
    "start_time": "2022-01-24T18:06:12.433Z"
   },
   {
    "duration": 80,
    "start_time": "2022-01-24T18:06:12.451Z"
   },
   {
    "duration": 61,
    "start_time": "2022-01-24T18:06:12.534Z"
   },
   {
    "duration": 7280,
    "start_time": "2022-01-24T18:06:12.597Z"
   },
   {
    "duration": 452,
    "start_time": "2022-01-24T18:06:19.880Z"
   },
   {
    "duration": 2102,
    "start_time": "2022-01-24T18:06:20.338Z"
   },
   {
    "duration": 14,
    "start_time": "2022-01-24T18:06:22.444Z"
   },
   {
    "duration": 171,
    "start_time": "2022-01-24T18:06:22.462Z"
   },
   {
    "duration": 98,
    "start_time": "2022-01-24T18:06:22.636Z"
   },
   {
    "duration": 18,
    "start_time": "2022-01-24T18:06:22.737Z"
   },
   {
    "duration": 12,
    "start_time": "2022-01-24T18:06:22.757Z"
   },
   {
    "duration": 9,
    "start_time": "2022-01-24T18:06:22.772Z"
   },
   {
    "duration": 620,
    "start_time": "2022-01-24T18:06:22.784Z"
   },
   {
    "duration": 31,
    "start_time": "2022-01-24T18:06:23.420Z"
   },
   {
    "duration": 19,
    "start_time": "2022-01-24T18:06:23.455Z"
   },
   {
    "duration": 844,
    "start_time": "2022-01-24T18:06:23.477Z"
   },
   {
    "duration": 146699,
    "start_time": "2022-01-24T18:06:24.324Z"
   },
   {
    "duration": 1717,
    "start_time": "2022-01-24T18:08:51.033Z"
   },
   {
    "duration": 10,
    "start_time": "2022-01-24T18:08:52.753Z"
   },
   {
    "duration": 3174,
    "start_time": "2022-01-24T18:23:52.388Z"
   },
   {
    "duration": 11,
    "start_time": "2022-01-24T18:27:30.712Z"
   },
   {
    "duration": 8,
    "start_time": "2022-01-24T18:28:26.079Z"
   },
   {
    "duration": 880,
    "start_time": "2022-01-24T18:28:32.275Z"
   },
   {
    "duration": 161531,
    "start_time": "2022-01-24T18:29:18.804Z"
   },
   {
    "duration": 1893,
    "start_time": "2022-01-24T18:32:08.741Z"
   },
   {
    "duration": 17,
    "start_time": "2022-01-24T18:32:30.429Z"
   },
   {
    "duration": 34,
    "start_time": "2022-01-24T18:32:41.229Z"
   },
   {
    "duration": 30,
    "start_time": "2022-01-24T18:33:22.315Z"
   },
   {
    "duration": 19763,
    "start_time": "2022-01-24T18:34:56.255Z"
   },
   {
    "duration": 1599,
    "start_time": "2022-01-25T15:53:11.519Z"
   },
   {
    "duration": 112,
    "start_time": "2022-01-25T15:53:13.121Z"
   },
   {
    "duration": 32,
    "start_time": "2022-01-25T15:53:13.236Z"
   },
   {
    "duration": 10,
    "start_time": "2022-01-25T15:53:13.271Z"
   },
   {
    "duration": 21,
    "start_time": "2022-01-25T15:53:13.283Z"
   },
   {
    "duration": 6865,
    "start_time": "2022-01-25T15:53:13.307Z"
   },
   {
    "duration": 2024,
    "start_time": "2022-01-25T15:53:20.174Z"
   },
   {
    "duration": 10,
    "start_time": "2022-01-25T15:53:22.200Z"
   },
   {
    "duration": 85,
    "start_time": "2022-01-25T15:53:22.213Z"
   },
   {
    "duration": 102,
    "start_time": "2022-01-25T15:53:22.369Z"
   },
   {
    "duration": 10,
    "start_time": "2022-01-25T15:53:22.473Z"
   },
   {
    "duration": 588,
    "start_time": "2022-01-25T15:53:22.485Z"
   },
   {
    "duration": 11,
    "start_time": "2022-01-25T15:53:23.076Z"
   },
   {
    "duration": 142168,
    "start_time": "2022-01-25T15:53:23.089Z"
   },
   {
    "duration": 1700,
    "start_time": "2022-01-25T15:55:45.266Z"
   },
   {
    "duration": 22,
    "start_time": "2022-01-25T15:55:46.968Z"
   },
   {
    "duration": 18023,
    "start_time": "2022-01-25T15:55:46.992Z"
   },
   {
    "duration": 648,
    "start_time": "2022-01-25T16:02:21.442Z"
   },
   {
    "duration": 3,
    "start_time": "2022-01-25T16:02:46.916Z"
   },
   {
    "duration": 9,
    "start_time": "2022-01-25T16:03:11.606Z"
   },
   {
    "duration": 9,
    "start_time": "2022-01-25T16:04:09.390Z"
   },
   {
    "duration": 26,
    "start_time": "2022-01-25T16:04:14.042Z"
   },
   {
    "duration": 138,
    "start_time": "2022-01-25T16:04:38.328Z"
   },
   {
    "duration": 124,
    "start_time": "2022-01-25T16:04:44.688Z"
   },
   {
    "duration": 8316,
    "start_time": "2022-01-25T16:04:54.415Z"
   },
   {
    "duration": 474,
    "start_time": "2022-01-25T16:05:13.618Z"
   },
   {
    "duration": 14862,
    "start_time": "2022-01-25T16:05:19.990Z"
   },
   {
    "duration": 20248,
    "start_time": "2022-01-25T16:25:47.312Z"
   },
   {
    "duration": 61942,
    "start_time": "2022-01-25T16:26:34.141Z"
   },
   {
    "duration": 482,
    "start_time": "2022-01-25T16:28:49.988Z"
   },
   {
    "duration": 1826,
    "start_time": "2022-01-25T16:45:11.236Z"
   },
   {
    "duration": 126,
    "start_time": "2022-01-25T16:45:13.065Z"
   },
   {
    "duration": 12,
    "start_time": "2022-01-25T16:45:13.194Z"
   },
   {
    "duration": 10,
    "start_time": "2022-01-25T16:45:13.210Z"
   },
   {
    "duration": 54,
    "start_time": "2022-01-25T16:45:13.223Z"
   },
   {
    "duration": 7390,
    "start_time": "2022-01-25T16:45:13.279Z"
   },
   {
    "duration": 2298,
    "start_time": "2022-01-25T16:45:20.672Z"
   },
   {
    "duration": 14,
    "start_time": "2022-01-25T16:45:22.973Z"
   },
   {
    "duration": 107,
    "start_time": "2022-01-25T16:45:22.993Z"
   },
   {
    "duration": 14,
    "start_time": "2022-01-25T16:45:23.176Z"
   },
   {
    "duration": 117,
    "start_time": "2022-01-25T16:45:23.194Z"
   },
   {
    "duration": 784,
    "start_time": "2022-01-25T16:45:23.317Z"
   },
   {
    "duration": 13,
    "start_time": "2022-01-25T16:45:24.104Z"
   },
   {
    "duration": 151350,
    "start_time": "2022-01-25T16:45:24.120Z"
   },
   {
    "duration": 1317,
    "start_time": "2022-01-25T16:47:55.473Z"
   },
   {
    "duration": 23,
    "start_time": "2022-01-25T16:47:56.870Z"
   },
   {
    "duration": 19168,
    "start_time": "2022-01-25T16:47:56.896Z"
   },
   {
    "duration": 5,
    "start_time": "2022-01-25T16:48:16.067Z"
   },
   {
    "duration": 15,
    "start_time": "2022-01-25T16:48:16.078Z"
   },
   {
    "duration": 473,
    "start_time": "2022-01-25T16:53:20.354Z"
   },
   {
    "duration": 405,
    "start_time": "2022-01-25T16:53:35.206Z"
   },
   {
    "duration": 11,
    "start_time": "2022-01-25T16:53:56.280Z"
   },
   {
    "duration": 10,
    "start_time": "2022-01-25T16:54:16.326Z"
   },
   {
    "duration": 12,
    "start_time": "2022-01-25T16:54:25.195Z"
   },
   {
    "duration": 10,
    "start_time": "2022-01-25T16:54:27.587Z"
   },
   {
    "duration": 95,
    "start_time": "2022-01-25T16:55:22.131Z"
   },
   {
    "duration": 316,
    "start_time": "2022-01-25T16:55:29.542Z"
   },
   {
    "duration": 22,
    "start_time": "2022-01-25T16:56:11.679Z"
   },
   {
    "duration": 21,
    "start_time": "2022-01-25T16:56:32.065Z"
   },
   {
    "duration": 276,
    "start_time": "2022-01-25T16:56:47.114Z"
   },
   {
    "duration": 92,
    "start_time": "2022-01-25T16:56:55.359Z"
   },
   {
    "duration": 160,
    "start_time": "2022-01-25T16:56:57.765Z"
   },
   {
    "duration": 93,
    "start_time": "2022-01-25T16:57:02.838Z"
   },
   {
    "duration": 99,
    "start_time": "2022-01-25T16:57:16.910Z"
   },
   {
    "duration": 6,
    "start_time": "2022-01-25T16:57:22.234Z"
   },
   {
    "duration": 5,
    "start_time": "2022-01-25T16:57:53.093Z"
   },
   {
    "duration": 7,
    "start_time": "2022-01-25T16:58:03.802Z"
   },
   {
    "duration": 95,
    "start_time": "2022-01-25T16:58:15.561Z"
   },
   {
    "duration": 22,
    "start_time": "2022-01-25T16:58:19.633Z"
   },
   {
    "duration": 23,
    "start_time": "2022-01-25T16:58:49.077Z"
   },
   {
    "duration": 100,
    "start_time": "2022-01-25T16:59:25.337Z"
   },
   {
    "duration": 10,
    "start_time": "2022-01-25T16:59:29.333Z"
   },
   {
    "duration": 10,
    "start_time": "2022-01-25T16:59:43.796Z"
   },
   {
    "duration": 9,
    "start_time": "2022-01-25T17:00:35.756Z"
   },
   {
    "duration": 8,
    "start_time": "2022-01-25T17:00:41.715Z"
   },
   {
    "duration": 10,
    "start_time": "2022-01-25T17:01:03.919Z"
   },
   {
    "duration": 10,
    "start_time": "2022-01-25T17:01:08.383Z"
   },
   {
    "duration": 9,
    "start_time": "2022-01-25T17:01:13.295Z"
   },
   {
    "duration": 9,
    "start_time": "2022-01-25T17:01:24.379Z"
   },
   {
    "duration": 94,
    "start_time": "2022-01-25T17:01:39.243Z"
   },
   {
    "duration": 134,
    "start_time": "2022-01-25T17:01:41.411Z"
   },
   {
    "duration": 151,
    "start_time": "2022-01-25T17:01:45.237Z"
   },
   {
    "duration": 10,
    "start_time": "2022-01-25T17:01:47.750Z"
   },
   {
    "duration": 10,
    "start_time": "2022-01-25T17:01:54.431Z"
   },
   {
    "duration": 17,
    "start_time": "2022-01-25T17:18:08.718Z"
   },
   {
    "duration": 296,
    "start_time": "2022-01-25T17:18:20.181Z"
   },
   {
    "duration": 28,
    "start_time": "2022-01-25T17:18:31.825Z"
   },
   {
    "duration": 2509,
    "start_time": "2022-01-25T17:20:18.296Z"
   },
   {
    "duration": 8,
    "start_time": "2022-01-25T17:20:46.948Z"
   },
   {
    "duration": 7541,
    "start_time": "2022-01-25T17:21:25.927Z"
   },
   {
    "duration": 8380,
    "start_time": "2022-01-25T17:21:37.006Z"
   },
   {
    "duration": 10217,
    "start_time": "2022-01-25T17:22:27.487Z"
   },
   {
    "duration": 90,
    "start_time": "2022-01-25T17:22:52.706Z"
   },
   {
    "duration": 18,
    "start_time": "2022-01-25T17:22:56.337Z"
   },
   {
    "duration": 2059,
    "start_time": "2022-01-25T17:25:43.529Z"
   },
   {
    "duration": 98,
    "start_time": "2022-01-25T17:29:15.671Z"
   },
   {
    "duration": 107,
    "start_time": "2022-01-25T17:29:18.838Z"
   },
   {
    "duration": 94,
    "start_time": "2022-01-25T17:29:21.735Z"
   },
   {
    "duration": 695,
    "start_time": "2022-01-25T17:29:43.706Z"
   },
   {
    "duration": 92,
    "start_time": "2022-01-25T17:31:15.509Z"
   },
   {
    "duration": 66,
    "start_time": "2022-01-25T17:31:18.621Z"
   },
   {
    "duration": 449,
    "start_time": "2022-01-25T17:31:40.250Z"
   },
   {
    "duration": 432,
    "start_time": "2022-01-25T17:31:54.066Z"
   },
   {
    "duration": 311,
    "start_time": "2022-01-25T17:32:12.549Z"
   },
   {
    "duration": 31,
    "start_time": "2022-01-25T17:33:42.199Z"
   },
   {
    "duration": 15,
    "start_time": "2022-01-25T17:33:49.960Z"
   },
   {
    "duration": 10,
    "start_time": "2022-01-25T17:33:58.108Z"
   },
   {
    "duration": 30,
    "start_time": "2022-01-25T17:34:48.571Z"
   },
   {
    "duration": 10,
    "start_time": "2022-01-25T17:34:55.979Z"
   },
   {
    "duration": 44,
    "start_time": "2022-01-25T17:35:32.110Z"
   },
   {
    "duration": 78,
    "start_time": "2022-01-25T17:36:31.854Z"
   },
   {
    "duration": 103,
    "start_time": "2022-01-25T17:37:26.118Z"
   },
   {
    "duration": 107,
    "start_time": "2022-01-25T17:37:37.395Z"
   },
   {
    "duration": 123,
    "start_time": "2022-01-25T17:37:41.497Z"
   },
   {
    "duration": 82,
    "start_time": "2022-01-25T17:37:48.858Z"
   },
   {
    "duration": 77,
    "start_time": "2022-01-25T17:41:02.717Z"
   },
   {
    "duration": 6,
    "start_time": "2022-01-25T17:42:29.480Z"
   },
   {
    "duration": 115,
    "start_time": "2022-01-25T17:42:31.767Z"
   },
   {
    "duration": 5,
    "start_time": "2022-01-25T17:42:36.655Z"
   },
   {
    "duration": 113,
    "start_time": "2022-01-25T17:42:37.960Z"
   },
   {
    "duration": 108,
    "start_time": "2022-01-25T17:42:42.423Z"
   },
   {
    "duration": 1811,
    "start_time": "2022-01-25T17:42:59.723Z"
   },
   {
    "duration": 153,
    "start_time": "2022-01-25T17:43:01.537Z"
   },
   {
    "duration": 15,
    "start_time": "2022-01-25T17:43:01.693Z"
   },
   {
    "duration": 16,
    "start_time": "2022-01-25T17:43:01.712Z"
   },
   {
    "duration": 58,
    "start_time": "2022-01-25T17:43:01.731Z"
   },
   {
    "duration": 8499,
    "start_time": "2022-01-25T17:43:01.793Z"
   },
   {
    "duration": 2062,
    "start_time": "2022-01-25T17:43:10.294Z"
   },
   {
    "duration": 11,
    "start_time": "2022-01-25T17:43:12.364Z"
   },
   {
    "duration": 96,
    "start_time": "2022-01-25T17:43:12.381Z"
   },
   {
    "duration": 81,
    "start_time": "2022-01-25T17:43:12.492Z"
   },
   {
    "duration": 38,
    "start_time": "2022-01-25T17:43:12.665Z"
   },
   {
    "duration": 644,
    "start_time": "2022-01-25T17:43:12.705Z"
   },
   {
    "duration": 21,
    "start_time": "2022-01-25T17:43:13.352Z"
   },
   {
    "duration": 150263,
    "start_time": "2022-01-25T17:43:13.376Z"
   },
   {
    "duration": 1336,
    "start_time": "2022-01-25T17:45:43.641Z"
   },
   {
    "duration": 28,
    "start_time": "2022-01-25T17:45:44.979Z"
   },
   {
    "duration": 19299,
    "start_time": "2022-01-25T17:45:45.010Z"
   },
   {
    "duration": 3,
    "start_time": "2022-01-25T17:46:04.312Z"
   },
   {
    "duration": 22,
    "start_time": "2022-01-25T17:46:04.317Z"
   },
   {
    "duration": 91,
    "start_time": "2022-01-25T17:46:04.342Z"
   },
   {
    "duration": 174,
    "start_time": "2022-01-25T17:47:50.471Z"
   },
   {
    "duration": 10,
    "start_time": "2022-01-25T17:51:47.532Z"
   },
   {
    "duration": 1563,
    "start_time": "2022-01-25T17:52:07.933Z"
   },
   {
    "duration": 121,
    "start_time": "2022-01-25T17:52:09.500Z"
   },
   {
    "duration": 13,
    "start_time": "2022-01-25T17:52:09.624Z"
   },
   {
    "duration": 27,
    "start_time": "2022-01-25T17:52:09.640Z"
   },
   {
    "duration": 27,
    "start_time": "2022-01-25T17:52:09.669Z"
   },
   {
    "duration": 7090,
    "start_time": "2022-01-25T17:52:09.699Z"
   },
   {
    "duration": 1985,
    "start_time": "2022-01-25T17:52:16.793Z"
   },
   {
    "duration": 10,
    "start_time": "2022-01-25T17:52:18.782Z"
   },
   {
    "duration": 88,
    "start_time": "2022-01-25T17:52:18.795Z"
   },
   {
    "duration": 104,
    "start_time": "2022-01-25T17:52:18.886Z"
   },
   {
    "duration": 77,
    "start_time": "2022-01-25T17:52:18.994Z"
   },
   {
    "duration": 543,
    "start_time": "2022-01-25T17:52:19.074Z"
   },
   {
    "duration": 10,
    "start_time": "2022-01-25T17:52:19.620Z"
   },
   {
    "duration": 148009,
    "start_time": "2022-01-25T17:52:19.633Z"
   },
   {
    "duration": 1643,
    "start_time": "2022-01-25T17:54:47.645Z"
   },
   {
    "duration": 29,
    "start_time": "2022-01-25T17:54:49.290Z"
   },
   {
    "duration": 19661,
    "start_time": "2022-01-25T17:54:49.321Z"
   },
   {
    "duration": 4,
    "start_time": "2022-01-25T17:55:08.984Z"
   },
   {
    "duration": 13,
    "start_time": "2022-01-25T17:55:08.990Z"
   },
   {
    "duration": 131,
    "start_time": "2022-01-25T17:55:09.006Z"
   },
   {
    "duration": 499,
    "start_time": "2022-01-25T18:10:42.809Z"
   },
   {
    "duration": 1176,
    "start_time": "2022-01-25T18:11:10.770Z"
   },
   {
    "duration": 5193,
    "start_time": "2022-01-25T18:11:27.958Z"
   },
   {
    "duration": 4877,
    "start_time": "2022-01-25T18:11:36.189Z"
   },
   {
    "duration": 22,
    "start_time": "2022-01-25T18:12:02.769Z"
   },
   {
    "duration": 5003,
    "start_time": "2022-01-25T18:12:06.081Z"
   },
   {
    "duration": 545,
    "start_time": "2022-01-25T18:12:50.657Z"
   },
   {
    "duration": 24,
    "start_time": "2022-01-25T18:13:15.358Z"
   },
   {
    "duration": 100,
    "start_time": "2022-01-25T18:13:29.412Z"
   },
   {
    "duration": 32,
    "start_time": "2022-01-25T18:13:40.305Z"
   },
   {
    "duration": 31,
    "start_time": "2022-01-25T18:13:55.648Z"
   },
   {
    "duration": 33,
    "start_time": "2022-01-25T18:14:07.492Z"
   },
   {
    "duration": 25,
    "start_time": "2022-01-25T18:14:12.052Z"
   },
   {
    "duration": 41,
    "start_time": "2022-01-25T18:14:27.379Z"
   },
   {
    "duration": 14136,
    "start_time": "2022-01-25T18:19:01.213Z"
   },
   {
    "duration": 17634,
    "start_time": "2022-01-25T18:29:11.292Z"
   },
   {
    "duration": 12,
    "start_time": "2022-01-25T18:35:09.734Z"
   },
   {
    "duration": 14,
    "start_time": "2022-01-25T18:35:29.876Z"
   },
   {
    "duration": 11,
    "start_time": "2022-01-25T18:35:33.704Z"
   },
   {
    "duration": 13,
    "start_time": "2022-01-25T18:36:00.728Z"
   },
   {
    "duration": 18932,
    "start_time": "2022-01-25T19:03:12.451Z"
   },
   {
    "duration": 19484,
    "start_time": "2022-01-25T19:04:14.505Z"
   },
   {
    "duration": 931,
    "start_time": "2022-01-25T19:12:50.828Z"
   },
   {
    "duration": 7431,
    "start_time": "2022-01-25T19:14:09.033Z"
   },
   {
    "duration": 13269,
    "start_time": "2022-01-25T19:14:38.844Z"
   },
   {
    "duration": 14003,
    "start_time": "2022-01-25T19:15:12.816Z"
   },
   {
    "duration": 29,
    "start_time": "2022-01-25T19:33:16.387Z"
   },
   {
    "duration": 26,
    "start_time": "2022-01-25T19:33:26.447Z"
   },
   {
    "duration": 27,
    "start_time": "2022-01-25T19:33:34.183Z"
   },
   {
    "duration": 27,
    "start_time": "2022-01-25T19:33:37.031Z"
   },
   {
    "duration": 28,
    "start_time": "2022-01-25T19:33:55.027Z"
   },
   {
    "duration": 1689,
    "start_time": "2022-01-25T20:00:24.998Z"
   },
   {
    "duration": 126,
    "start_time": "2022-01-25T20:00:26.690Z"
   },
   {
    "duration": 22,
    "start_time": "2022-01-25T20:00:26.820Z"
   },
   {
    "duration": 25,
    "start_time": "2022-01-25T20:00:26.845Z"
   },
   {
    "duration": 40,
    "start_time": "2022-01-25T20:00:26.873Z"
   },
   {
    "duration": 7617,
    "start_time": "2022-01-25T20:00:26.916Z"
   },
   {
    "duration": 2223,
    "start_time": "2022-01-25T20:00:34.535Z"
   },
   {
    "duration": 11,
    "start_time": "2022-01-25T20:00:36.765Z"
   },
   {
    "duration": 88,
    "start_time": "2022-01-25T20:00:36.778Z"
   },
   {
    "duration": 106,
    "start_time": "2022-01-25T20:00:36.869Z"
   },
   {
    "duration": 96,
    "start_time": "2022-01-25T20:00:36.978Z"
   },
   {
    "duration": 626,
    "start_time": "2022-01-25T20:00:37.077Z"
   },
   {
    "duration": 16,
    "start_time": "2022-01-25T20:00:37.706Z"
   },
   {
    "duration": 144286,
    "start_time": "2022-01-25T20:00:37.724Z"
   },
   {
    "duration": 1860,
    "start_time": "2022-01-25T20:03:02.013Z"
   },
   {
    "duration": 29,
    "start_time": "2022-01-25T20:03:03.876Z"
   },
   {
    "duration": 13227,
    "start_time": "2022-01-25T20:03:03.908Z"
   },
   {
    "duration": 16941,
    "start_time": "2022-01-25T20:03:17.138Z"
   },
   {
    "duration": 19046,
    "start_time": "2022-01-25T20:03:34.083Z"
   },
   {
    "duration": 15925,
    "start_time": "2022-01-25T20:03:53.132Z"
   },
   {
    "duration": -817,
    "start_time": "2022-01-25T20:04:09.876Z"
   },
   {
    "duration": -837,
    "start_time": "2022-01-25T20:04:09.901Z"
   },
   {
    "duration": 13114,
    "start_time": "2022-01-25T20:04:33.498Z"
   },
   {
    "duration": 7950,
    "start_time": "2022-01-25T20:05:26.193Z"
   },
   {
    "duration": 14499,
    "start_time": "2022-01-25T20:05:37.828Z"
   },
   {
    "duration": 1215,
    "start_time": "2022-01-26T17:27:01.466Z"
   },
   {
    "duration": 76,
    "start_time": "2022-01-26T17:27:02.685Z"
   },
   {
    "duration": 15,
    "start_time": "2022-01-26T17:27:02.762Z"
   },
   {
    "duration": 16,
    "start_time": "2022-01-26T17:27:02.779Z"
   },
   {
    "duration": 18,
    "start_time": "2022-01-26T17:27:02.797Z"
   },
   {
    "duration": 3822,
    "start_time": "2022-01-26T17:27:02.817Z"
   },
   {
    "duration": 1187,
    "start_time": "2022-01-26T17:27:06.642Z"
   },
   {
    "duration": 7,
    "start_time": "2022-01-26T17:27:07.831Z"
   },
   {
    "duration": 46,
    "start_time": "2022-01-26T17:27:07.839Z"
   },
   {
    "duration": 99,
    "start_time": "2022-01-26T17:27:07.973Z"
   },
   {
    "duration": 6,
    "start_time": "2022-01-26T17:27:08.074Z"
   },
   {
    "duration": 327,
    "start_time": "2022-01-26T17:27:08.081Z"
   },
   {
    "duration": 7,
    "start_time": "2022-01-26T17:27:08.410Z"
   },
   {
    "duration": 80245,
    "start_time": "2022-01-26T17:27:08.418Z"
   },
   {
    "duration": 1217,
    "start_time": "2022-01-26T17:28:28.665Z"
   },
   {
    "duration": 103,
    "start_time": "2022-01-26T17:28:29.883Z"
   },
   {
    "duration": 8364,
    "start_time": "2022-01-26T17:28:29.988Z"
   },
   {
    "duration": 8743,
    "start_time": "2022-01-26T17:28:38.354Z"
   },
   {
    "duration": 10141,
    "start_time": "2022-01-26T17:28:47.099Z"
   },
   {
    "duration": 13668,
    "start_time": "2022-01-26T17:28:57.242Z"
   },
   {
    "duration": -2873,
    "start_time": "2022-01-26T17:29:13.785Z"
   },
   {
    "duration": 3950,
    "start_time": "2022-01-26T17:38:23.770Z"
   },
   {
    "duration": 4134,
    "start_time": "2022-01-26T17:39:28.448Z"
   },
   {
    "duration": 5581,
    "start_time": "2022-01-26T17:43:40.943Z"
   },
   {
    "duration": 19,
    "start_time": "2022-01-26T17:45:10.331Z"
   },
   {
    "duration": 113,
    "start_time": "2022-01-26T17:49:44.863Z"
   },
   {
    "duration": 16543,
    "start_time": "2022-01-26T17:50:13.808Z"
   },
   {
    "duration": 16571,
    "start_time": "2022-01-26T17:50:39.644Z"
   },
   {
    "duration": 16150,
    "start_time": "2022-01-26T17:51:28.094Z"
   },
   {
    "duration": 6202,
    "start_time": "2022-01-26T17:52:28.415Z"
   },
   {
    "duration": 5777,
    "start_time": "2022-01-26T17:53:41.155Z"
   },
   {
    "duration": 6313,
    "start_time": "2022-01-26T17:54:41.874Z"
   },
   {
    "duration": 7055,
    "start_time": "2022-01-26T17:54:52.842Z"
   },
   {
    "duration": 5024,
    "start_time": "2022-01-26T17:57:04.481Z"
   },
   {
    "duration": 5226,
    "start_time": "2022-01-26T17:59:13.625Z"
   },
   {
    "duration": 44,
    "start_time": "2022-01-26T18:05:24.152Z"
   },
   {
    "duration": 1137,
    "start_time": "2022-01-26T18:34:57.009Z"
   },
   {
    "duration": 301,
    "start_time": "2022-01-26T18:34:58.148Z"
   },
   {
    "duration": 9,
    "start_time": "2022-01-26T18:34:58.451Z"
   },
   {
    "duration": 9,
    "start_time": "2022-01-26T18:34:58.462Z"
   },
   {
    "duration": 15,
    "start_time": "2022-01-26T18:34:58.472Z"
   },
   {
    "duration": 4474,
    "start_time": "2022-01-26T18:34:58.489Z"
   },
   {
    "duration": 1322,
    "start_time": "2022-01-26T18:35:02.965Z"
   },
   {
    "duration": 9,
    "start_time": "2022-01-26T18:35:04.292Z"
   },
   {
    "duration": 79,
    "start_time": "2022-01-26T18:35:04.303Z"
   },
   {
    "duration": 19,
    "start_time": "2022-01-26T18:35:04.384Z"
   },
   {
    "duration": 8,
    "start_time": "2022-01-26T18:35:04.480Z"
   },
   {
    "duration": 404,
    "start_time": "2022-01-26T18:35:04.492Z"
   },
   {
    "duration": 10,
    "start_time": "2022-01-26T18:35:04.898Z"
   },
   {
    "duration": 94470,
    "start_time": "2022-01-26T18:35:04.910Z"
   },
   {
    "duration": 1292,
    "start_time": "2022-01-26T18:36:39.382Z"
   },
   {
    "duration": 19,
    "start_time": "2022-01-26T18:36:40.676Z"
   },
   {
    "duration": 6425,
    "start_time": "2022-01-26T18:36:40.697Z"
   },
   {
    "duration": 58,
    "start_time": "2022-01-26T18:36:47.123Z"
   },
   {
    "duration": 1536,
    "start_time": "2022-01-27T16:08:57.872Z"
   },
   {
    "duration": 120,
    "start_time": "2022-01-27T16:08:59.411Z"
   },
   {
    "duration": 34,
    "start_time": "2022-01-27T16:08:59.539Z"
   },
   {
    "duration": 12,
    "start_time": "2022-01-27T16:08:59.576Z"
   },
   {
    "duration": 21,
    "start_time": "2022-01-27T16:08:59.590Z"
   },
   {
    "duration": 6965,
    "start_time": "2022-01-27T16:08:59.613Z"
   },
   {
    "duration": 2678,
    "start_time": "2022-01-27T16:09:06.582Z"
   },
   {
    "duration": 9,
    "start_time": "2022-01-27T16:09:09.263Z"
   },
   {
    "duration": 286,
    "start_time": "2022-01-27T16:09:09.274Z"
   },
   {
    "duration": 101,
    "start_time": "2022-01-27T16:09:09.564Z"
   },
   {
    "duration": 9,
    "start_time": "2022-01-27T16:09:09.668Z"
   },
   {
    "duration": 849,
    "start_time": "2022-01-27T16:09:09.680Z"
   },
   {
    "duration": 29,
    "start_time": "2022-01-27T16:09:10.531Z"
   },
   {
    "duration": 146901,
    "start_time": "2022-01-27T16:09:10.562Z"
   },
   {
    "duration": 1903,
    "start_time": "2022-01-27T16:11:37.467Z"
   },
   {
    "duration": 26,
    "start_time": "2022-01-27T16:11:39.373Z"
   },
   {
    "duration": 11635,
    "start_time": "2022-01-27T16:11:39.401Z"
   },
   {
    "duration": 124,
    "start_time": "2022-01-27T16:11:51.039Z"
   },
   {
    "duration": 273,
    "start_time": "2022-01-28T14:36:07.958Z"
   },
   {
    "duration": 1181,
    "start_time": "2022-01-28T14:36:15.454Z"
   },
   {
    "duration": 117,
    "start_time": "2022-01-28T14:36:16.637Z"
   },
   {
    "duration": 9,
    "start_time": "2022-01-28T14:36:16.756Z"
   },
   {
    "duration": 7,
    "start_time": "2022-01-28T14:36:16.767Z"
   },
   {
    "duration": 43,
    "start_time": "2022-01-28T14:36:16.776Z"
   },
   {
    "duration": 154602,
    "start_time": "2022-01-28T14:36:30.520Z"
   },
   {
    "duration": 1274,
    "start_time": "2022-01-28T14:39:40.185Z"
   },
   {
    "duration": 864,
    "start_time": "2022-01-28T14:39:59.007Z"
   },
   {
    "duration": 781,
    "start_time": "2022-01-28T14:40:50.135Z"
   },
   {
    "duration": 885,
    "start_time": "2022-01-28T14:41:56.758Z"
   },
   {
    "duration": 76,
    "start_time": "2022-01-28T14:43:08.125Z"
   },
   {
    "duration": 249,
    "start_time": "2022-01-28T14:43:19.169Z"
   },
   {
    "duration": 2969,
    "start_time": "2022-01-28T14:44:05.833Z"
   },
   {
    "duration": 1278,
    "start_time": "2022-01-28T14:44:36.160Z"
   },
   {
    "duration": 2892,
    "start_time": "2022-01-28T14:44:51.956Z"
   },
   {
    "duration": 2672,
    "start_time": "2022-01-28T14:45:10.224Z"
   },
   {
    "duration": 2550,
    "start_time": "2022-01-28T14:49:00.832Z"
   },
   {
    "duration": 2113,
    "start_time": "2022-01-28T14:49:35.501Z"
   },
   {
    "duration": 2005,
    "start_time": "2022-01-28T14:49:50.945Z"
   },
   {
    "duration": 1223,
    "start_time": "2022-01-28T14:51:10.848Z"
   },
   {
    "duration": 12,
    "start_time": "2022-01-28T15:00:28.299Z"
   },
   {
    "duration": 29,
    "start_time": "2022-01-28T15:00:34.227Z"
   },
   {
    "duration": 7,
    "start_time": "2022-01-28T15:00:37.644Z"
   },
   {
    "duration": 193,
    "start_time": "2022-01-28T15:01:46.326Z"
   },
   {
    "duration": 3,
    "start_time": "2022-01-28T15:02:03.518Z"
   },
   {
    "duration": 68,
    "start_time": "2022-01-28T15:02:03.523Z"
   },
   {
    "duration": 7,
    "start_time": "2022-01-28T15:02:03.593Z"
   },
   {
    "duration": 14,
    "start_time": "2022-01-28T15:02:03.601Z"
   },
   {
    "duration": 12,
    "start_time": "2022-01-28T15:02:03.616Z"
   },
   {
    "duration": 1948,
    "start_time": "2022-01-28T15:02:03.630Z"
   },
   {
    "duration": 1121,
    "start_time": "2022-01-28T15:02:05.580Z"
   },
   {
    "duration": 1309,
    "start_time": "2022-01-28T15:02:06.704Z"
   },
   {
    "duration": 8,
    "start_time": "2022-01-28T15:02:08.015Z"
   },
   {
    "duration": 30,
    "start_time": "2022-01-28T15:02:08.025Z"
   },
   {
    "duration": 8,
    "start_time": "2022-01-28T15:02:10.265Z"
   },
   {
    "duration": 7,
    "start_time": "2022-01-28T15:02:14.466Z"
   },
   {
    "duration": 318,
    "start_time": "2022-01-28T15:02:15.841Z"
   },
   {
    "duration": 7,
    "start_time": "2022-01-28T15:02:17.331Z"
   },
   {
    "duration": 199,
    "start_time": "2022-01-28T15:03:37.403Z"
   },
   {
    "duration": 83077,
    "start_time": "2022-01-28T15:03:42.049Z"
   },
   {
    "duration": 1459,
    "start_time": "2022-01-28T15:05:22.160Z"
   },
   {
    "duration": 18,
    "start_time": "2022-01-28T15:05:29.511Z"
   },
   {
    "duration": 5708,
    "start_time": "2022-01-28T15:06:14.033Z"
   },
   {
    "duration": 1687,
    "start_time": "2022-01-28T15:41:24.534Z"
   },
   {
    "duration": 1616,
    "start_time": "2022-01-28T15:41:29.910Z"
   },
   {
    "duration": 1494,
    "start_time": "2022-01-28T15:48:25.442Z"
   },
   {
    "duration": 1983,
    "start_time": "2022-01-28T15:50:51.734Z"
   },
   {
    "duration": 1653,
    "start_time": "2022-01-28T15:51:27.170Z"
   },
   {
    "duration": 1111,
    "start_time": "2022-01-28T15:51:40.360Z"
   },
   {
    "duration": 76,
    "start_time": "2022-01-28T15:51:41.473Z"
   },
   {
    "duration": 8,
    "start_time": "2022-01-28T15:51:41.550Z"
   },
   {
    "duration": 7,
    "start_time": "2022-01-28T15:51:41.560Z"
   },
   {
    "duration": 13,
    "start_time": "2022-01-28T15:51:41.568Z"
   },
   {
    "duration": 2015,
    "start_time": "2022-01-28T15:51:41.582Z"
   },
   {
    "duration": 1202,
    "start_time": "2022-01-28T15:51:43.598Z"
   },
   {
    "duration": 1251,
    "start_time": "2022-01-28T15:51:44.802Z"
   },
   {
    "duration": 9,
    "start_time": "2022-01-28T15:51:46.055Z"
   },
   {
    "duration": 47,
    "start_time": "2022-01-28T15:51:46.066Z"
   },
   {
    "duration": 100,
    "start_time": "2022-01-28T15:51:46.116Z"
   },
   {
    "duration": 94,
    "start_time": "2022-01-28T15:51:46.219Z"
   },
   {
    "duration": 353,
    "start_time": "2022-01-28T15:51:46.315Z"
   },
   {
    "duration": 8,
    "start_time": "2022-01-28T15:51:46.669Z"
   },
   {
    "duration": 86183,
    "start_time": "2022-01-28T15:51:46.678Z"
   },
   {
    "duration": 1459,
    "start_time": "2022-01-28T15:53:12.862Z"
   },
   {
    "duration": 16,
    "start_time": "2022-01-28T15:53:14.413Z"
   },
   {
    "duration": 5507,
    "start_time": "2022-01-28T15:53:14.430Z"
   },
   {
    "duration": 1658,
    "start_time": "2022-01-28T15:53:19.939Z"
   },
   {
    "duration": 1385,
    "start_time": "2022-01-28T15:53:21.598Z"
   },
   {
    "duration": 50,
    "start_time": "2022-01-28T15:53:22.985Z"
   },
   {
    "duration": 68,
    "start_time": "2022-01-28T15:58:16.347Z"
   },
   {
    "duration": 2,
    "start_time": "2022-01-28T15:59:49.335Z"
   },
   {
    "duration": 1354,
    "start_time": "2022-01-28T16:00:45.453Z"
   },
   {
    "duration": 1389,
    "start_time": "2022-01-28T16:17:36.133Z"
   },
   {
    "duration": 1271,
    "start_time": "2022-01-28T16:17:40.182Z"
   },
   {
    "duration": 1241,
    "start_time": "2022-01-29T08:59:27.867Z"
   },
   {
    "duration": 89,
    "start_time": "2022-01-29T08:59:29.110Z"
   },
   {
    "duration": 11,
    "start_time": "2022-01-29T08:59:29.202Z"
   },
   {
    "duration": 9,
    "start_time": "2022-01-29T08:59:29.215Z"
   },
   {
    "duration": 21,
    "start_time": "2022-01-29T08:59:29.226Z"
   },
   {
    "duration": 2462,
    "start_time": "2022-01-29T08:59:29.249Z"
   },
   {
    "duration": 1487,
    "start_time": "2022-01-29T08:59:31.713Z"
   },
   {
    "duration": 1459,
    "start_time": "2022-01-29T08:59:33.203Z"
   },
   {
    "duration": 8,
    "start_time": "2022-01-29T08:59:34.664Z"
   },
   {
    "duration": 129,
    "start_time": "2022-01-29T08:59:34.674Z"
   },
   {
    "duration": 192,
    "start_time": "2022-01-29T08:59:34.807Z"
   },
   {
    "duration": 25,
    "start_time": "2022-01-29T08:59:35.001Z"
   },
   {
    "duration": 364,
    "start_time": "2022-01-29T08:59:35.028Z"
   },
   {
    "duration": 8,
    "start_time": "2022-01-29T08:59:35.394Z"
   },
   {
    "duration": 102454,
    "start_time": "2022-01-29T08:59:35.404Z"
   },
   {
    "duration": 1639,
    "start_time": "2022-01-29T09:01:17.860Z"
   },
   {
    "duration": 22,
    "start_time": "2022-01-29T09:01:19.500Z"
   },
   {
    "duration": 3,
    "start_time": "2022-01-29T09:01:19.524Z"
   },
   {
    "duration": 1598,
    "start_time": "2022-01-29T09:01:19.529Z"
   },
   {
    "duration": 1523,
    "start_time": "2022-01-29T09:01:21.130Z"
   },
   {
    "duration": 58,
    "start_time": "2022-01-29T09:01:22.655Z"
   }
  ],
  "kernelspec": {
   "display_name": "Python 3",
   "language": "python",
   "name": "python3"
  },
  "language_info": {
   "codemirror_mode": {
    "name": "ipython",
    "version": 3
   },
   "file_extension": ".py",
   "mimetype": "text/x-python",
   "name": "python",
   "nbconvert_exporter": "python",
   "pygments_lexer": "ipython3",
   "version": "3.8.8"
  },
  "toc": {
   "base_numbering": 1,
   "nav_menu": {},
   "number_sections": true,
   "sideBar": true,
   "skip_h1_title": true,
   "title_cell": "Table of Contents",
   "title_sidebar": "Contents",
   "toc_cell": false,
   "toc_position": {},
   "toc_section_display": true,
   "toc_window_display": false
  }
 },
 "nbformat": 4,
 "nbformat_minor": 2
}
