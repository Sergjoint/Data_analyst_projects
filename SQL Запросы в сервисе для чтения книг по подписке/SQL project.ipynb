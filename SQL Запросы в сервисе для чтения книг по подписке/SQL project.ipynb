{
 "cells": [
  {
   "cell_type": "markdown",
   "metadata": {},
   "source": [
    "[Описание](#0)\n",
    "\n",
    "[Подготовка данных](#1)\n",
    "\n",
    "[Исследование таблиц](#2)\n",
    "\n",
    "[Выполнение задач](#3)\n",
    "\n",
    "[Выводы](#4)"
   ]
  },
  {
   "cell_type": "markdown",
   "metadata": {},
   "source": [
    "# Анализ базы данных сервиса для чтения книг по подписке\n",
    "<a name=\"0\"></a>\n",
    "# Описание проекта\n",
    "**Цель проекта - проанализировать имеющуюся базу данных с информацией о книгах, издательствах, обзорах книг. На основании проведённого анализа сформулировать ценностное предложени для нового продукта.** \n",
    "\n",
    "**Цель будет достигнута путём решения следующих задач:**\n",
    "1. Подсчёта книг, вышедших после 1 января 2000 года;\n",
    "2. Подсчёта количества обзоров и средней оценки для каждой книги;\n",
    "3. Определения издательство, выпустившее наибольшее число книг толще 50 страниц (не брошюры);\n",
    "4. Определения автора с наивысшей средней оценкой книг;\n",
    "5. Подсчёта среднего количества обзоров от пользователей, которые поставили больше 50 оценок.\n",
    "\n",
    "**Располагаем данными:**\n",
    "- таблица \"books\" с данными о книгах;\n",
    "- таблица \"authors\" с данными об авторах;\n",
    "- таблица \"publishers\" с данными об издательствах;\n",
    "- таблица \"ratings\" с данными о пользовательских оценках книг;\n",
    "- таблица \"reviews\" с данными опользовательских обзорах на книги.\n",
    "***\n",
    "<a name=\"1\"></a>\n",
    "## Подготовка данных"
   ]
  },
  {
   "cell_type": "code",
   "execution_count": 1,
   "metadata": {},
   "outputs": [],
   "source": [
    "# импортируем библиотеки\n",
    "import pandas as pd\n",
    "from sqlalchemy import create_engine\n",
    "\n",
    "# выведем два числа после запятой плавающих чисел:\n",
    "pd.set_option('display.float_format', '{:.2f}'.format)      \n",
    "\n",
    "# устанавливаем параметры\n",
    "db_config = {'user': 'praktikum_student', # имя пользователя\n",
    "             'pwd': 'Sdf4$2;d-d30pp', # пароль\n",
    "             'host': 'rc1b-wcoijxj3yxfsf3fs.mdb.yandexcloud.net',\n",
    "             'port': 6432, # порт подключения\n",
    "             'db': 'data-analyst-final-project-db'} # название базы данных\n",
    "connection_string = 'postgresql://{}:{}@{}:{}/{}'.format(db_config['user'],\n",
    "    db_config['pwd'],\n",
    "    db_config['host'],\n",
    "    db_config['port'],\n",
    "    db_config['db'])\n",
    "\n",
    "# сохраняем коннектор\n",
    "engine = create_engine(connection_string, connect_args={'sslmode':'require'})"
   ]
  },
  {
   "cell_type": "markdown",
   "metadata": {},
   "source": [
    "***\n",
    "<a name=\"2\"></a>\n",
    "## Исследование таблиц\n",
    "Выведем первые строки каждой таблицы"
   ]
  },
  {
   "cell_type": "code",
   "execution_count": 2,
   "metadata": {},
   "outputs": [],
   "source": [
    "#Список со всеми таблицами:\n",
    "tables = ['books','authors','publishers','ratings','reviews']"
   ]
  },
  {
   "cell_type": "code",
   "execution_count": 3,
   "metadata": {},
   "outputs": [],
   "source": [
    "# Создадим функцию для упрощения выполнения запросов.\n",
    "def show(query):\n",
    "    display (pd.io.sql.read_sql(query, con = engine))"
   ]
  },
  {
   "cell_type": "code",
   "execution_count": 4,
   "metadata": {},
   "outputs": [
    {
     "data": {
      "text/html": [
       "<div>\n",
       "<style scoped>\n",
       "    .dataframe tbody tr th:only-of-type {\n",
       "        vertical-align: middle;\n",
       "    }\n",
       "\n",
       "    .dataframe tbody tr th {\n",
       "        vertical-align: top;\n",
       "    }\n",
       "\n",
       "    .dataframe thead th {\n",
       "        text-align: right;\n",
       "    }\n",
       "</style>\n",
       "<table border=\"1\" class=\"dataframe\">\n",
       "  <thead>\n",
       "    <tr style=\"text-align: right;\">\n",
       "      <th></th>\n",
       "      <th>book_id</th>\n",
       "      <th>author_id</th>\n",
       "      <th>title</th>\n",
       "      <th>num_pages</th>\n",
       "      <th>publication_date</th>\n",
       "      <th>publisher_id</th>\n",
       "    </tr>\n",
       "  </thead>\n",
       "  <tbody>\n",
       "    <tr>\n",
       "      <th>0</th>\n",
       "      <td>1</td>\n",
       "      <td>546</td>\n",
       "      <td>'Salem's Lot</td>\n",
       "      <td>594</td>\n",
       "      <td>2005-11-01</td>\n",
       "      <td>93</td>\n",
       "    </tr>\n",
       "    <tr>\n",
       "      <th>1</th>\n",
       "      <td>2</td>\n",
       "      <td>465</td>\n",
       "      <td>1 000 Places to See Before You Die</td>\n",
       "      <td>992</td>\n",
       "      <td>2003-05-22</td>\n",
       "      <td>336</td>\n",
       "    </tr>\n",
       "    <tr>\n",
       "      <th>2</th>\n",
       "      <td>3</td>\n",
       "      <td>407</td>\n",
       "      <td>13 Little Blue Envelopes (Little Blue Envelope...</td>\n",
       "      <td>322</td>\n",
       "      <td>2010-12-21</td>\n",
       "      <td>135</td>\n",
       "    </tr>\n",
       "    <tr>\n",
       "      <th>3</th>\n",
       "      <td>4</td>\n",
       "      <td>82</td>\n",
       "      <td>1491: New Revelations of the Americas Before C...</td>\n",
       "      <td>541</td>\n",
       "      <td>2006-10-10</td>\n",
       "      <td>309</td>\n",
       "    </tr>\n",
       "    <tr>\n",
       "      <th>4</th>\n",
       "      <td>5</td>\n",
       "      <td>125</td>\n",
       "      <td>1776</td>\n",
       "      <td>386</td>\n",
       "      <td>2006-07-04</td>\n",
       "      <td>268</td>\n",
       "    </tr>\n",
       "  </tbody>\n",
       "</table>\n",
       "</div>"
      ],
      "text/plain": [
       "   book_id  author_id                                              title  \\\n",
       "0        1        546                                       'Salem's Lot   \n",
       "1        2        465                 1 000 Places to See Before You Die   \n",
       "2        3        407  13 Little Blue Envelopes (Little Blue Envelope...   \n",
       "3        4         82  1491: New Revelations of the Americas Before C...   \n",
       "4        5        125                                               1776   \n",
       "\n",
       "   num_pages publication_date  publisher_id  \n",
       "0        594       2005-11-01            93  \n",
       "1        992       2003-05-22           336  \n",
       "2        322       2010-12-21           135  \n",
       "3        541       2006-10-10           309  \n",
       "4        386       2006-07-04           268  "
      ]
     },
     "metadata": {},
     "output_type": "display_data"
    },
    {
     "data": {
      "text/html": [
       "<div>\n",
       "<style scoped>\n",
       "    .dataframe tbody tr th:only-of-type {\n",
       "        vertical-align: middle;\n",
       "    }\n",
       "\n",
       "    .dataframe tbody tr th {\n",
       "        vertical-align: top;\n",
       "    }\n",
       "\n",
       "    .dataframe thead th {\n",
       "        text-align: right;\n",
       "    }\n",
       "</style>\n",
       "<table border=\"1\" class=\"dataframe\">\n",
       "  <thead>\n",
       "    <tr style=\"text-align: right;\">\n",
       "      <th></th>\n",
       "      <th>author_id</th>\n",
       "      <th>author</th>\n",
       "    </tr>\n",
       "  </thead>\n",
       "  <tbody>\n",
       "    <tr>\n",
       "      <th>0</th>\n",
       "      <td>1</td>\n",
       "      <td>A.S. Byatt</td>\n",
       "    </tr>\n",
       "    <tr>\n",
       "      <th>1</th>\n",
       "      <td>2</td>\n",
       "      <td>Aesop/Laura Harris/Laura Gibbs</td>\n",
       "    </tr>\n",
       "    <tr>\n",
       "      <th>2</th>\n",
       "      <td>3</td>\n",
       "      <td>Agatha Christie</td>\n",
       "    </tr>\n",
       "    <tr>\n",
       "      <th>3</th>\n",
       "      <td>4</td>\n",
       "      <td>Alan Brennert</td>\n",
       "    </tr>\n",
       "    <tr>\n",
       "      <th>4</th>\n",
       "      <td>5</td>\n",
       "      <td>Alan Moore/David   Lloyd</td>\n",
       "    </tr>\n",
       "  </tbody>\n",
       "</table>\n",
       "</div>"
      ],
      "text/plain": [
       "   author_id                          author\n",
       "0          1                      A.S. Byatt\n",
       "1          2  Aesop/Laura Harris/Laura Gibbs\n",
       "2          3                 Agatha Christie\n",
       "3          4                   Alan Brennert\n",
       "4          5        Alan Moore/David   Lloyd"
      ]
     },
     "metadata": {},
     "output_type": "display_data"
    },
    {
     "data": {
      "text/html": [
       "<div>\n",
       "<style scoped>\n",
       "    .dataframe tbody tr th:only-of-type {\n",
       "        vertical-align: middle;\n",
       "    }\n",
       "\n",
       "    .dataframe tbody tr th {\n",
       "        vertical-align: top;\n",
       "    }\n",
       "\n",
       "    .dataframe thead th {\n",
       "        text-align: right;\n",
       "    }\n",
       "</style>\n",
       "<table border=\"1\" class=\"dataframe\">\n",
       "  <thead>\n",
       "    <tr style=\"text-align: right;\">\n",
       "      <th></th>\n",
       "      <th>publisher_id</th>\n",
       "      <th>publisher</th>\n",
       "    </tr>\n",
       "  </thead>\n",
       "  <tbody>\n",
       "    <tr>\n",
       "      <th>0</th>\n",
       "      <td>1</td>\n",
       "      <td>Ace</td>\n",
       "    </tr>\n",
       "    <tr>\n",
       "      <th>1</th>\n",
       "      <td>2</td>\n",
       "      <td>Ace Book</td>\n",
       "    </tr>\n",
       "    <tr>\n",
       "      <th>2</th>\n",
       "      <td>3</td>\n",
       "      <td>Ace Books</td>\n",
       "    </tr>\n",
       "    <tr>\n",
       "      <th>3</th>\n",
       "      <td>4</td>\n",
       "      <td>Ace Hardcover</td>\n",
       "    </tr>\n",
       "    <tr>\n",
       "      <th>4</th>\n",
       "      <td>5</td>\n",
       "      <td>Addison Wesley Publishing Company</td>\n",
       "    </tr>\n",
       "  </tbody>\n",
       "</table>\n",
       "</div>"
      ],
      "text/plain": [
       "   publisher_id                          publisher\n",
       "0             1                                Ace\n",
       "1             2                           Ace Book\n",
       "2             3                          Ace Books\n",
       "3             4                      Ace Hardcover\n",
       "4             5  Addison Wesley Publishing Company"
      ]
     },
     "metadata": {},
     "output_type": "display_data"
    },
    {
     "data": {
      "text/html": [
       "<div>\n",
       "<style scoped>\n",
       "    .dataframe tbody tr th:only-of-type {\n",
       "        vertical-align: middle;\n",
       "    }\n",
       "\n",
       "    .dataframe tbody tr th {\n",
       "        vertical-align: top;\n",
       "    }\n",
       "\n",
       "    .dataframe thead th {\n",
       "        text-align: right;\n",
       "    }\n",
       "</style>\n",
       "<table border=\"1\" class=\"dataframe\">\n",
       "  <thead>\n",
       "    <tr style=\"text-align: right;\">\n",
       "      <th></th>\n",
       "      <th>rating_id</th>\n",
       "      <th>book_id</th>\n",
       "      <th>username</th>\n",
       "      <th>rating</th>\n",
       "    </tr>\n",
       "  </thead>\n",
       "  <tbody>\n",
       "    <tr>\n",
       "      <th>0</th>\n",
       "      <td>1</td>\n",
       "      <td>1</td>\n",
       "      <td>ryanfranco</td>\n",
       "      <td>4</td>\n",
       "    </tr>\n",
       "    <tr>\n",
       "      <th>1</th>\n",
       "      <td>2</td>\n",
       "      <td>1</td>\n",
       "      <td>grantpatricia</td>\n",
       "      <td>2</td>\n",
       "    </tr>\n",
       "    <tr>\n",
       "      <th>2</th>\n",
       "      <td>3</td>\n",
       "      <td>1</td>\n",
       "      <td>brandtandrea</td>\n",
       "      <td>5</td>\n",
       "    </tr>\n",
       "    <tr>\n",
       "      <th>3</th>\n",
       "      <td>4</td>\n",
       "      <td>2</td>\n",
       "      <td>lorichen</td>\n",
       "      <td>3</td>\n",
       "    </tr>\n",
       "    <tr>\n",
       "      <th>4</th>\n",
       "      <td>5</td>\n",
       "      <td>2</td>\n",
       "      <td>mariokeller</td>\n",
       "      <td>2</td>\n",
       "    </tr>\n",
       "  </tbody>\n",
       "</table>\n",
       "</div>"
      ],
      "text/plain": [
       "   rating_id  book_id       username  rating\n",
       "0          1        1     ryanfranco       4\n",
       "1          2        1  grantpatricia       2\n",
       "2          3        1   brandtandrea       5\n",
       "3          4        2       lorichen       3\n",
       "4          5        2    mariokeller       2"
      ]
     },
     "metadata": {},
     "output_type": "display_data"
    },
    {
     "data": {
      "text/html": [
       "<div>\n",
       "<style scoped>\n",
       "    .dataframe tbody tr th:only-of-type {\n",
       "        vertical-align: middle;\n",
       "    }\n",
       "\n",
       "    .dataframe tbody tr th {\n",
       "        vertical-align: top;\n",
       "    }\n",
       "\n",
       "    .dataframe thead th {\n",
       "        text-align: right;\n",
       "    }\n",
       "</style>\n",
       "<table border=\"1\" class=\"dataframe\">\n",
       "  <thead>\n",
       "    <tr style=\"text-align: right;\">\n",
       "      <th></th>\n",
       "      <th>review_id</th>\n",
       "      <th>book_id</th>\n",
       "      <th>username</th>\n",
       "      <th>text</th>\n",
       "    </tr>\n",
       "  </thead>\n",
       "  <tbody>\n",
       "    <tr>\n",
       "      <th>0</th>\n",
       "      <td>1</td>\n",
       "      <td>1</td>\n",
       "      <td>brandtandrea</td>\n",
       "      <td>Mention society tell send professor analysis. ...</td>\n",
       "    </tr>\n",
       "    <tr>\n",
       "      <th>1</th>\n",
       "      <td>2</td>\n",
       "      <td>1</td>\n",
       "      <td>ryanfranco</td>\n",
       "      <td>Foot glass pretty audience hit themselves. Amo...</td>\n",
       "    </tr>\n",
       "    <tr>\n",
       "      <th>2</th>\n",
       "      <td>3</td>\n",
       "      <td>2</td>\n",
       "      <td>lorichen</td>\n",
       "      <td>Listen treat keep worry. Miss husband tax but ...</td>\n",
       "    </tr>\n",
       "    <tr>\n",
       "      <th>3</th>\n",
       "      <td>4</td>\n",
       "      <td>3</td>\n",
       "      <td>johnsonamanda</td>\n",
       "      <td>Finally month interesting blue could nature cu...</td>\n",
       "    </tr>\n",
       "    <tr>\n",
       "      <th>4</th>\n",
       "      <td>5</td>\n",
       "      <td>3</td>\n",
       "      <td>scotttamara</td>\n",
       "      <td>Nation purpose heavy give wait song will. List...</td>\n",
       "    </tr>\n",
       "  </tbody>\n",
       "</table>\n",
       "</div>"
      ],
      "text/plain": [
       "   review_id  book_id       username  \\\n",
       "0          1        1   brandtandrea   \n",
       "1          2        1     ryanfranco   \n",
       "2          3        2       lorichen   \n",
       "3          4        3  johnsonamanda   \n",
       "4          5        3    scotttamara   \n",
       "\n",
       "                                                text  \n",
       "0  Mention society tell send professor analysis. ...  \n",
       "1  Foot glass pretty audience hit themselves. Amo...  \n",
       "2  Listen treat keep worry. Miss husband tax but ...  \n",
       "3  Finally month interesting blue could nature cu...  \n",
       "4  Nation purpose heavy give wait song will. List...  "
      ]
     },
     "metadata": {},
     "output_type": "display_data"
    }
   ],
   "source": [
    "# изучим данные о всех таблицах:\n",
    "for dataframe in tables:\n",
    "    query = 'SELECT * FROM ' + dataframe + ' LIMIT 5'\n",
    "    show(query)"
   ]
  },
  {
   "cell_type": "code",
   "execution_count": 5,
   "metadata": {
    "scrolled": true
   },
   "outputs": [
    {
     "data": {
      "text/html": [
       "<div>\n",
       "<style scoped>\n",
       "    .dataframe tbody tr th:only-of-type {\n",
       "        vertical-align: middle;\n",
       "    }\n",
       "\n",
       "    .dataframe tbody tr th {\n",
       "        vertical-align: top;\n",
       "    }\n",
       "\n",
       "    .dataframe thead th {\n",
       "        text-align: right;\n",
       "    }\n",
       "</style>\n",
       "<table border=\"1\" class=\"dataframe\">\n",
       "  <thead>\n",
       "    <tr style=\"text-align: right;\">\n",
       "      <th></th>\n",
       "      <th>book_id</th>\n",
       "      <th>author_id</th>\n",
       "      <th>title</th>\n",
       "      <th>num_pages</th>\n",
       "      <th>publication_date</th>\n",
       "      <th>publisher_id</th>\n",
       "    </tr>\n",
       "  </thead>\n",
       "  <tbody>\n",
       "    <tr>\n",
       "      <th>0</th>\n",
       "      <td>1000</td>\n",
       "      <td>509</td>\n",
       "      <td>Zen and the Art of Motorcycle Maintenance: An ...</td>\n",
       "      <td>540</td>\n",
       "      <td>2006-04-25</td>\n",
       "      <td>143</td>\n",
       "    </tr>\n",
       "    <tr>\n",
       "      <th>1</th>\n",
       "      <td>999</td>\n",
       "      <td>94</td>\n",
       "      <td>You Suck (A Love Story  #2)</td>\n",
       "      <td>328</td>\n",
       "      <td>2007-01-16</td>\n",
       "      <td>331</td>\n",
       "    </tr>\n",
       "    <tr>\n",
       "      <th>2</th>\n",
       "      <td>998</td>\n",
       "      <td>201</td>\n",
       "      <td>Year of Wonders</td>\n",
       "      <td>358</td>\n",
       "      <td>2002-04-30</td>\n",
       "      <td>212</td>\n",
       "    </tr>\n",
       "    <tr>\n",
       "      <th>3</th>\n",
       "      <td>997</td>\n",
       "      <td>454</td>\n",
       "      <td>Xenocide (Ender's Saga  #3)</td>\n",
       "      <td>592</td>\n",
       "      <td>1996-07-15</td>\n",
       "      <td>297</td>\n",
       "    </tr>\n",
       "    <tr>\n",
       "      <th>4</th>\n",
       "      <td>996</td>\n",
       "      <td>571</td>\n",
       "      <td>Wyrd Sisters (Discworld  #6; Witches #2)</td>\n",
       "      <td>265</td>\n",
       "      <td>2001-02-06</td>\n",
       "      <td>147</td>\n",
       "    </tr>\n",
       "  </tbody>\n",
       "</table>\n",
       "</div>"
      ],
      "text/plain": [
       "   book_id  author_id                                              title  \\\n",
       "0     1000        509  Zen and the Art of Motorcycle Maintenance: An ...   \n",
       "1      999         94                        You Suck (A Love Story  #2)   \n",
       "2      998        201                                    Year of Wonders   \n",
       "3      997        454                        Xenocide (Ender's Saga  #3)   \n",
       "4      996        571           Wyrd Sisters (Discworld  #6; Witches #2)   \n",
       "\n",
       "   num_pages publication_date  publisher_id  \n",
       "0        540       2006-04-25           143  \n",
       "1        328       2007-01-16           331  \n",
       "2        358       2002-04-30           212  \n",
       "3        592       1996-07-15           297  \n",
       "4        265       2001-02-06           147  "
      ]
     },
     "metadata": {},
     "output_type": "display_data"
    }
   ],
   "source": [
    "# Поищем названия книг не на английском языке\n",
    "query = 'SELECT * FROM books ORDER BY book_id DESC LIMIT 5'\n",
    "show(query)    "
   ]
  },
  {
   "cell_type": "code",
   "execution_count": 6,
   "metadata": {},
   "outputs": [
    {
     "data": {
      "text/html": [
       "<div>\n",
       "<style scoped>\n",
       "    .dataframe tbody tr th:only-of-type {\n",
       "        vertical-align: middle;\n",
       "    }\n",
       "\n",
       "    .dataframe tbody tr th {\n",
       "        vertical-align: top;\n",
       "    }\n",
       "\n",
       "    .dataframe thead th {\n",
       "        text-align: right;\n",
       "    }\n",
       "</style>\n",
       "<table border=\"1\" class=\"dataframe\">\n",
       "  <thead>\n",
       "    <tr style=\"text-align: right;\">\n",
       "      <th></th>\n",
       "      <th>author_id</th>\n",
       "      <th>author</th>\n",
       "    </tr>\n",
       "  </thead>\n",
       "  <tbody>\n",
       "    <tr>\n",
       "      <th>0</th>\n",
       "      <td>636</td>\n",
       "      <td>Åsne Seierstad/Ingrid Christopherson</td>\n",
       "    </tr>\n",
       "    <tr>\n",
       "      <th>1</th>\n",
       "      <td>635</td>\n",
       "      <td>Zora Neale Hurston</td>\n",
       "    </tr>\n",
       "    <tr>\n",
       "      <th>2</th>\n",
       "      <td>634</td>\n",
       "      <td>Zilpha Keatley Snyder</td>\n",
       "    </tr>\n",
       "    <tr>\n",
       "      <th>3</th>\n",
       "      <td>633</td>\n",
       "      <td>Zadie Smith</td>\n",
       "    </tr>\n",
       "    <tr>\n",
       "      <th>4</th>\n",
       "      <td>632</td>\n",
       "      <td>William Strunk Jr./E.B. White</td>\n",
       "    </tr>\n",
       "  </tbody>\n",
       "</table>\n",
       "</div>"
      ],
      "text/plain": [
       "   author_id                                author\n",
       "0        636  Åsne Seierstad/Ingrid Christopherson\n",
       "1        635                    Zora Neale Hurston\n",
       "2        634                 Zilpha Keatley Snyder\n",
       "3        633                           Zadie Smith\n",
       "4        632         William Strunk Jr./E.B. White"
      ]
     },
     "metadata": {},
     "output_type": "display_data"
    }
   ],
   "source": [
    "# Поищем фамилии авторов не на английском языке\n",
    "query = 'SELECT * FROM authors ORDER BY author DESC LIMIT 5'\n",
    "show(query)    "
   ]
  },
  {
   "cell_type": "markdown",
   "metadata": {},
   "source": [
    "Видим, что в базах данных используется англоязычный ввод. Общее количество книг-1000, авторов - 636. Учитывая, что у нас есть схема данных с корректно указанными типами данных, можем приступить непосредственно к выполнению задач"
   ]
  },
  {
   "cell_type": "markdown",
   "metadata": {},
   "source": [
    "***\n",
    "<a name=\"3\"></a>\n",
    "## Выполнение задач\n",
    "### Подсчёт книг, вышедших после 1 января 2000 года"
   ]
  },
  {
   "cell_type": "code",
   "execution_count": 8,
   "metadata": {},
   "outputs": [
    {
     "data": {
      "text/html": [
       "<div>\n",
       "<style scoped>\n",
       "    .dataframe tbody tr th:only-of-type {\n",
       "        vertical-align: middle;\n",
       "    }\n",
       "\n",
       "    .dataframe tbody tr th {\n",
       "        vertical-align: top;\n",
       "    }\n",
       "\n",
       "    .dataframe thead th {\n",
       "        text-align: right;\n",
       "    }\n",
       "</style>\n",
       "<table border=\"1\" class=\"dataframe\">\n",
       "  <thead>\n",
       "    <tr style=\"text-align: right;\">\n",
       "      <th></th>\n",
       "      <th>cnt</th>\n",
       "    </tr>\n",
       "  </thead>\n",
       "  <tbody>\n",
       "    <tr>\n",
       "      <th>0</th>\n",
       "      <td>819</td>\n",
       "    </tr>\n",
       "  </tbody>\n",
       "</table>\n",
       "</div>"
      ],
      "text/plain": [
       "   cnt\n",
       "0  819"
      ]
     },
     "metadata": {},
     "output_type": "display_data"
    }
   ],
   "source": [
    "query = '''SELECT COUNT (*) AS cnt\n",
    "           FROM books\n",
    "           WHERE publication_date > '2000-01-01' '''\n",
    " \n",
    "show(query)"
   ]
  },
  {
   "cell_type": "markdown",
   "metadata": {},
   "source": [
    "После 1 января было выпущено 819 книг.\n"
   ]
  },
  {
   "cell_type": "markdown",
   "metadata": {},
   "source": [
    "\n",
    "### Подсчёт количества обзоров и средней оценки для каждой книги"
   ]
  },
  {
   "cell_type": "code",
   "execution_count": 9,
   "metadata": {
    "scrolled": false
   },
   "outputs": [
    {
     "data": {
      "text/html": [
       "<div>\n",
       "<style scoped>\n",
       "    .dataframe tbody tr th:only-of-type {\n",
       "        vertical-align: middle;\n",
       "    }\n",
       "\n",
       "    .dataframe tbody tr th {\n",
       "        vertical-align: top;\n",
       "    }\n",
       "\n",
       "    .dataframe thead th {\n",
       "        text-align: right;\n",
       "    }\n",
       "</style>\n",
       "<table border=\"1\" class=\"dataframe\">\n",
       "  <thead>\n",
       "    <tr style=\"text-align: right;\">\n",
       "      <th></th>\n",
       "      <th>book_id</th>\n",
       "      <th>book_title</th>\n",
       "      <th>reviews_cnt</th>\n",
       "      <th>avg_rating</th>\n",
       "    </tr>\n",
       "  </thead>\n",
       "  <tbody>\n",
       "    <tr>\n",
       "      <th>0</th>\n",
       "      <td>948</td>\n",
       "      <td>Twilight (Twilight  #1)</td>\n",
       "      <td>7</td>\n",
       "      <td>3.66</td>\n",
       "    </tr>\n",
       "    <tr>\n",
       "      <th>1</th>\n",
       "      <td>963</td>\n",
       "      <td>Water for Elephants</td>\n",
       "      <td>6</td>\n",
       "      <td>3.98</td>\n",
       "    </tr>\n",
       "    <tr>\n",
       "      <th>2</th>\n",
       "      <td>734</td>\n",
       "      <td>The Glass Castle</td>\n",
       "      <td>6</td>\n",
       "      <td>4.21</td>\n",
       "    </tr>\n",
       "    <tr>\n",
       "      <th>3</th>\n",
       "      <td>302</td>\n",
       "      <td>Harry Potter and the Prisoner of Azkaban (Harr...</td>\n",
       "      <td>6</td>\n",
       "      <td>4.41</td>\n",
       "    </tr>\n",
       "    <tr>\n",
       "      <th>4</th>\n",
       "      <td>695</td>\n",
       "      <td>The Curious Incident of the Dog in the Night-Time</td>\n",
       "      <td>6</td>\n",
       "      <td>4.08</td>\n",
       "    </tr>\n",
       "    <tr>\n",
       "      <th>...</th>\n",
       "      <td>...</td>\n",
       "      <td>...</td>\n",
       "      <td>...</td>\n",
       "      <td>...</td>\n",
       "    </tr>\n",
       "    <tr>\n",
       "      <th>995</th>\n",
       "      <td>83</td>\n",
       "      <td>Anne Rice's The Vampire Lestat: A Graphic Novel</td>\n",
       "      <td>0</td>\n",
       "      <td>3.67</td>\n",
       "    </tr>\n",
       "    <tr>\n",
       "      <th>996</th>\n",
       "      <td>808</td>\n",
       "      <td>The Natural Way to Draw</td>\n",
       "      <td>0</td>\n",
       "      <td>3.00</td>\n",
       "    </tr>\n",
       "    <tr>\n",
       "      <th>997</th>\n",
       "      <td>672</td>\n",
       "      <td>The Cat in the Hat and Other Dr. Seuss Favorites</td>\n",
       "      <td>0</td>\n",
       "      <td>5.00</td>\n",
       "    </tr>\n",
       "    <tr>\n",
       "      <th>998</th>\n",
       "      <td>221</td>\n",
       "      <td>Essential Tales and Poems</td>\n",
       "      <td>0</td>\n",
       "      <td>4.00</td>\n",
       "    </tr>\n",
       "    <tr>\n",
       "      <th>999</th>\n",
       "      <td>191</td>\n",
       "      <td>Disney's Beauty and the Beast (A Little Golden...</td>\n",
       "      <td>0</td>\n",
       "      <td>4.00</td>\n",
       "    </tr>\n",
       "  </tbody>\n",
       "</table>\n",
       "<p>1000 rows × 4 columns</p>\n",
       "</div>"
      ],
      "text/plain": [
       "     book_id                                         book_title  reviews_cnt  \\\n",
       "0        948                            Twilight (Twilight  #1)            7   \n",
       "1        963                                Water for Elephants            6   \n",
       "2        734                                   The Glass Castle            6   \n",
       "3        302  Harry Potter and the Prisoner of Azkaban (Harr...            6   \n",
       "4        695  The Curious Incident of the Dog in the Night-Time            6   \n",
       "..       ...                                                ...          ...   \n",
       "995       83    Anne Rice's The Vampire Lestat: A Graphic Novel            0   \n",
       "996      808                            The Natural Way to Draw            0   \n",
       "997      672   The Cat in the Hat and Other Dr. Seuss Favorites            0   \n",
       "998      221                          Essential Tales and Poems            0   \n",
       "999      191  Disney's Beauty and the Beast (A Little Golden...            0   \n",
       "\n",
       "     avg_rating  \n",
       "0          3.66  \n",
       "1          3.98  \n",
       "2          4.21  \n",
       "3          4.41  \n",
       "4          4.08  \n",
       "..          ...  \n",
       "995        3.67  \n",
       "996        3.00  \n",
       "997        5.00  \n",
       "998        4.00  \n",
       "999        4.00  \n",
       "\n",
       "[1000 rows x 4 columns]"
      ]
     },
     "metadata": {},
     "output_type": "display_data"
    }
   ],
   "source": [
    "query = '''\n",
    "    SELECT\n",
    "        books.book_id AS book_id,\n",
    "        books.title AS book_title,\n",
    "        COUNT (DISTINCT review_id) AS reviews_cnt,\n",
    "        AVG (rating) AS avg_rating\n",
    "    FROM books             -- используем LEFT JOIN для исключения потерь книг \n",
    "    LEFT JOIN reviews ON reviews.book_id = books.book_id\n",
    "    LEFT JOIN ratings ON ratings.book_id = books.book_id  \n",
    "    GROUP BY books.book_id   \n",
    "    ORDER BY reviews_cnt DESC    \n",
    "'''\n",
    "show(query)"
   ]
  },
  {
   "cell_type": "markdown",
   "metadata": {},
   "source": [
    "Больше всего обзоров у книги \"Сумерки\" - 7 обзоров. Средний пользовательский рейтинг этой книги - 3,66. Что примечательно: для книг, на которых нет обзоров, рейтинг выше - \"The Cat in the Hat and Other Dr. Seuss Favorites\" - 5 баллов, \"Essential Tales and Poems\" и \"Disney's Beauty and the Beast \" по 4 балла. Отсюда вывод - количество отзывов не влияет на среднюю оценку."
   ]
  },
  {
   "cell_type": "markdown",
   "metadata": {},
   "source": [
    "### Определение издательства, выпустившего наибольшее число книг толще 50 страниц"
   ]
  },
  {
   "cell_type": "code",
   "execution_count": 10,
   "metadata": {
    "scrolled": true
   },
   "outputs": [
    {
     "data": {
      "text/html": [
       "<div>\n",
       "<style scoped>\n",
       "    .dataframe tbody tr th:only-of-type {\n",
       "        vertical-align: middle;\n",
       "    }\n",
       "\n",
       "    .dataframe tbody tr th {\n",
       "        vertical-align: top;\n",
       "    }\n",
       "\n",
       "    .dataframe thead th {\n",
       "        text-align: right;\n",
       "    }\n",
       "</style>\n",
       "<table border=\"1\" class=\"dataframe\">\n",
       "  <thead>\n",
       "    <tr style=\"text-align: right;\">\n",
       "      <th></th>\n",
       "      <th>publisher</th>\n",
       "      <th>book_cnt</th>\n",
       "    </tr>\n",
       "  </thead>\n",
       "  <tbody>\n",
       "    <tr>\n",
       "      <th>0</th>\n",
       "      <td>Penguin Books</td>\n",
       "      <td>42</td>\n",
       "    </tr>\n",
       "  </tbody>\n",
       "</table>\n",
       "</div>"
      ],
      "text/plain": [
       "       publisher  book_cnt\n",
       "0  Penguin Books        42"
      ]
     },
     "metadata": {},
     "output_type": "display_data"
    }
   ],
   "source": [
    "query = '''\n",
    "    SELECT\n",
    "        publishers.publisher AS publisher,\n",
    "        COUNT (book_id) as book_cnt\n",
    "    FROM books\n",
    "    INNER JOIN publishers \n",
    "        ON publishers.publisher_id = books.publisher_id    \n",
    "    WHERE num_pages > 50\n",
    "    GROUP BY publisher\n",
    "    ORDER BY book_cnt DESC\n",
    "    LIMIT 1\n",
    "    '''\n",
    "\n",
    "show(query)"
   ]
  },
  {
   "cell_type": "markdown",
   "metadata": {},
   "source": [
    "Лидером по выпуску книг толще 50 страниц является издательство \"Penguin Books\", которое выпустило 42 книги."
   ]
  },
  {
   "cell_type": "markdown",
   "metadata": {},
   "source": [
    "\n",
    "### Определение автора с самой высокой средней оценкой книг\n",
    "Для решения задания необходимо учитывать только книги с 50 и более оценками."
   ]
  },
  {
   "cell_type": "code",
   "execution_count": 11,
   "metadata": {},
   "outputs": [
    {
     "data": {
      "text/html": [
       "<div>\n",
       "<style scoped>\n",
       "    .dataframe tbody tr th:only-of-type {\n",
       "        vertical-align: middle;\n",
       "    }\n",
       "\n",
       "    .dataframe tbody tr th {\n",
       "        vertical-align: top;\n",
       "    }\n",
       "\n",
       "    .dataframe thead th {\n",
       "        text-align: right;\n",
       "    }\n",
       "</style>\n",
       "<table border=\"1\" class=\"dataframe\">\n",
       "  <thead>\n",
       "    <tr style=\"text-align: right;\">\n",
       "      <th></th>\n",
       "      <th>author</th>\n",
       "      <th>avg_rating</th>\n",
       "    </tr>\n",
       "  </thead>\n",
       "  <tbody>\n",
       "    <tr>\n",
       "      <th>0</th>\n",
       "      <td>J.K. Rowling/Mary GrandPré</td>\n",
       "      <td>4.28</td>\n",
       "    </tr>\n",
       "  </tbody>\n",
       "</table>\n",
       "</div>"
      ],
      "text/plain": [
       "                       author  avg_rating\n",
       "0  J.K. Rowling/Mary GrandPré        4.28"
      ]
     },
     "metadata": {},
     "output_type": "display_data"
    }
   ],
   "source": [
    "query = '''\n",
    "    SELECT \n",
    "        SUBQ.author AS author,\n",
    "        AVG(SUBQ.avg_rating) AS avg_rating\n",
    "    FROM(\n",
    "        SELECT    -- создадим подзапрос для книг с более 50-ю оценками\n",
    "            authors.author AS author,\n",
    "            books.book_id AS id,\n",
    "            AVG (rating) AS avg_rating,\n",
    "            COUNT (ratings.rating) AS rating_cnt\n",
    "        FROM books         \n",
    "        LEFT JOIN authors ON authors.author_id = books.author_id\n",
    "        LEFT JOIN ratings ON ratings.book_id = books.book_id\n",
    "        GROUP BY author, id\n",
    "        HAVING COUNT(ratings.rating) >= 50\n",
    "            ) AS SUBQ\n",
    "    GROUP BY\n",
    "        author\n",
    "    ORDER BY\n",
    "        avg_rating DESC\n",
    "    LIMIT 1     \n",
    "    '''\n",
    "\n",
    "show(query)"
   ]
  },
  {
   "cell_type": "markdown",
   "metadata": {},
   "source": [
    "Автором с самой высокой средней оценкой книг - является Дж. К. Роулинг. Учитывая, что рядом указан иллюстратор обложек книг серии о \"Гарри Поттере\" -  Мэри Грандпре, можно сказать что именно эта серия набрала самую высокую среднюю оценку.\n",
    "\n"
   ]
  },
  {
   "cell_type": "markdown",
   "metadata": {},
   "source": [
    "### Подсчёт среднего количества обзоров от пользователей, которые поставили больше 50 оценок."
   ]
  },
  {
   "cell_type": "code",
   "execution_count": 12,
   "metadata": {},
   "outputs": [
    {
     "data": {
      "text/html": [
       "<div>\n",
       "<style scoped>\n",
       "    .dataframe tbody tr th:only-of-type {\n",
       "        vertical-align: middle;\n",
       "    }\n",
       "\n",
       "    .dataframe tbody tr th {\n",
       "        vertical-align: top;\n",
       "    }\n",
       "\n",
       "    .dataframe thead th {\n",
       "        text-align: right;\n",
       "    }\n",
       "</style>\n",
       "<table border=\"1\" class=\"dataframe\">\n",
       "  <thead>\n",
       "    <tr style=\"text-align: right;\">\n",
       "      <th></th>\n",
       "      <th>avg_rev_cnt</th>\n",
       "    </tr>\n",
       "  </thead>\n",
       "  <tbody>\n",
       "    <tr>\n",
       "      <th>0</th>\n",
       "      <td>24.33</td>\n",
       "    </tr>\n",
       "  </tbody>\n",
       "</table>\n",
       "</div>"
      ],
      "text/plain": [
       "   avg_rev_cnt\n",
       "0        24.33"
      ]
     },
     "metadata": {},
     "output_type": "display_data"
    }
   ],
   "source": [
    "query = '''\n",
    "    SELECT\n",
    "        AVG (SUBQ.review_cnt) AS avg_rev_cnt\n",
    "        FROM\n",
    "            (\n",
    "                SELECT\n",
    "                    COUNT (review_id) as review_cnt\n",
    "                FROM\n",
    "                    reviews\n",
    "                WHERE\n",
    "                    username IN\n",
    "                                (-- выделим пользователей, которые поставили больше 50-ти оценок:\n",
    "                                    SELECT username\n",
    "                                    FROM ratings\n",
    "                                    GROUP BY username\n",
    "                                    HAVING COUNT (ratings) > 50\n",
    "                                )\n",
    "                GROUP BY username\n",
    "            ) AS SUBQ\n",
    "    '''\n",
    "\n",
    "show(query)"
   ]
  },
  {
   "cell_type": "markdown",
   "metadata": {},
   "source": [
    "Среднее количество обзоров от пользователей, которые поставили больше 50 оценок - 24 обзора. "
   ]
  },
  {
   "cell_type": "markdown",
   "metadata": {},
   "source": [
    "\n",
    "***\n",
    "<a name=\"4\"></a>\n",
    "## Выводы и итоги\n",
    "- В базах данных используется англоязычный ввод;\n",
    "- После 1 января было выпущено 819 книг, 81,9% от представленной базы;\n",
    "- Составлена таблица с количество обзоров и средней оценкой для каждой книги. Больше всего обзоров у книги \"Сумерки\" - 7 обзоров (но средний бал - 3,66);\n",
    "- Лидером по выпуску книг толще 50 страниц является издательство \"Penguin Books\", которое выпустило 42 книги;\n",
    "- Автором с самой высокой средней оценкой книг - является Дж. К. Роулинг;\n",
    "- Среднее количество обзоров от пользователей, которые поставили больше 50 оценок - 24 обзора."
   ]
  }
 ],
 "metadata": {
  "ExecuteTimeLog": [
   {
    "duration": 92,
    "start_time": "2022-02-18T11:42:03.078Z"
   },
   {
    "duration": 189,
    "start_time": "2022-02-18T11:43:04.911Z"
   },
   {
    "duration": 66,
    "start_time": "2022-02-18T11:43:29.915Z"
   },
   {
    "duration": 65,
    "start_time": "2022-02-18T11:43:44.204Z"
   },
   {
    "duration": 219,
    "start_time": "2022-02-18T11:44:01.075Z"
   },
   {
    "duration": 690,
    "start_time": "2022-02-18T11:44:09.543Z"
   },
   {
    "duration": 203,
    "start_time": "2022-02-18T11:44:11.592Z"
   },
   {
    "duration": 88,
    "start_time": "2022-02-18T11:44:29.413Z"
   },
   {
    "duration": 142,
    "start_time": "2022-02-18T11:45:33.073Z"
   },
   {
    "duration": 260,
    "start_time": "2022-02-18T11:55:20.942Z"
   },
   {
    "duration": 59,
    "start_time": "2022-02-18T11:55:23.113Z"
   },
   {
    "duration": 642,
    "start_time": "2022-02-18T12:05:13.574Z"
   },
   {
    "duration": 255,
    "start_time": "2022-02-18T12:05:14.218Z"
   },
   {
    "duration": 63,
    "start_time": "2022-02-18T12:05:14.475Z"
   },
   {
    "duration": 65,
    "start_time": "2022-02-18T12:05:38.329Z"
   },
   {
    "duration": 71,
    "start_time": "2022-02-18T12:05:40.019Z"
   },
   {
    "duration": 2,
    "start_time": "2022-02-18T12:08:40.452Z"
   },
   {
    "duration": 2,
    "start_time": "2022-02-18T12:08:55.365Z"
   },
   {
    "duration": 3,
    "start_time": "2022-02-18T12:09:25.398Z"
   },
   {
    "duration": 264,
    "start_time": "2022-02-18T12:09:28.811Z"
   },
   {
    "duration": 437,
    "start_time": "2022-02-18T12:09:32.317Z"
   },
   {
    "duration": 5,
    "start_time": "2022-02-18T12:09:54.376Z"
   },
   {
    "duration": 60,
    "start_time": "2022-02-18T12:10:53.572Z"
   },
   {
    "duration": 254,
    "start_time": "2022-02-18T12:11:25.674Z"
   },
   {
    "duration": 244,
    "start_time": "2022-02-18T12:14:24.346Z"
   },
   {
    "duration": 104,
    "start_time": "2022-02-18T12:14:40.066Z"
   },
   {
    "duration": 94,
    "start_time": "2022-02-18T12:14:54.470Z"
   },
   {
    "duration": 94,
    "start_time": "2022-02-18T12:15:02.612Z"
   },
   {
    "duration": 295,
    "start_time": "2022-02-18T12:16:35.592Z"
   },
   {
    "duration": 80,
    "start_time": "2022-02-18T12:16:46.008Z"
   },
   {
    "duration": 75,
    "start_time": "2022-02-18T12:17:10.155Z"
   },
   {
    "duration": 8,
    "start_time": "2022-02-18T12:17:14.220Z"
   },
   {
    "duration": 73,
    "start_time": "2022-02-18T12:17:24.747Z"
   },
   {
    "duration": 8,
    "start_time": "2022-02-18T12:17:28.493Z"
   },
   {
    "duration": 2,
    "start_time": "2022-02-18T12:19:18.820Z"
   },
   {
    "duration": 9,
    "start_time": "2022-02-18T12:19:25.014Z"
   },
   {
    "duration": 8,
    "start_time": "2022-02-18T12:19:47.672Z"
   },
   {
    "duration": 8,
    "start_time": "2022-02-18T12:19:53.092Z"
   },
   {
    "duration": 9,
    "start_time": "2022-02-18T12:20:04.309Z"
   },
   {
    "duration": 8,
    "start_time": "2022-02-18T12:20:56.736Z"
   },
   {
    "duration": 239,
    "start_time": "2022-02-18T12:21:06.222Z"
   },
   {
    "duration": 67,
    "start_time": "2022-02-18T12:21:15.679Z"
   },
   {
    "duration": 67,
    "start_time": "2022-02-18T12:21:37.064Z"
   },
   {
    "duration": 66,
    "start_time": "2022-02-18T12:21:42.557Z"
   },
   {
    "duration": 97,
    "start_time": "2022-02-18T12:22:45.466Z"
   },
   {
    "duration": 3,
    "start_time": "2022-02-18T12:24:02.746Z"
   },
   {
    "duration": 84,
    "start_time": "2022-02-18T12:24:07.663Z"
   },
   {
    "duration": 325,
    "start_time": "2022-02-20T17:35:19.196Z"
   },
   {
    "duration": 864,
    "start_time": "2022-02-20T17:35:21.862Z"
   },
   {
    "duration": 227,
    "start_time": "2022-02-20T17:35:24.131Z"
   },
   {
    "duration": 61,
    "start_time": "2022-02-20T17:36:17.526Z"
   },
   {
    "duration": 62,
    "start_time": "2022-02-20T17:37:39.596Z"
   },
   {
    "duration": 3,
    "start_time": "2022-02-20T17:38:55.358Z"
   },
   {
    "duration": 389,
    "start_time": "2022-02-20T17:39:20.035Z"
   },
   {
    "duration": 93,
    "start_time": "2022-02-20T17:39:46.192Z"
   },
   {
    "duration": 400,
    "start_time": "2022-02-20T17:39:49.751Z"
   },
   {
    "duration": 329,
    "start_time": "2022-02-20T17:39:53.367Z"
   },
   {
    "duration": 344,
    "start_time": "2022-02-20T17:39:58.507Z"
   },
   {
    "duration": 63,
    "start_time": "2022-02-20T17:40:05.657Z"
   },
   {
    "duration": 65,
    "start_time": "2022-02-20T17:40:35.101Z"
   },
   {
    "duration": 63,
    "start_time": "2022-02-20T17:40:58.562Z"
   },
   {
    "duration": 320,
    "start_time": "2022-02-20T17:45:32.267Z"
   },
   {
    "duration": 341,
    "start_time": "2022-02-20T17:48:13.289Z"
   },
   {
    "duration": 303,
    "start_time": "2022-02-20T17:48:34.428Z"
   },
   {
    "duration": 311,
    "start_time": "2022-02-20T17:48:54.172Z"
   },
   {
    "duration": 85,
    "start_time": "2022-02-20T17:50:27.432Z"
   },
   {
    "duration": 408,
    "start_time": "2022-02-20T17:50:36.724Z"
   },
   {
    "duration": 169,
    "start_time": "2022-02-20T17:50:45.036Z"
   },
   {
    "duration": 94,
    "start_time": "2022-02-20T17:50:49.972Z"
   },
   {
    "duration": 90,
    "start_time": "2022-02-20T17:50:53.711Z"
   },
   {
    "duration": 65,
    "start_time": "2022-02-20T17:50:57.031Z"
   },
   {
    "duration": 272,
    "start_time": "2022-02-20T17:51:07.127Z"
   },
   {
    "duration": 300,
    "start_time": "2022-02-20T17:51:18.027Z"
   },
   {
    "duration": 4,
    "start_time": "2022-02-20T17:52:00.199Z"
   },
   {
    "duration": 442,
    "start_time": "2022-02-20T17:52:52.101Z"
   },
   {
    "duration": 305,
    "start_time": "2022-02-20T17:53:07.022Z"
   },
   {
    "duration": 93,
    "start_time": "2022-02-20T17:53:57.615Z"
   },
   {
    "duration": 61,
    "start_time": "2022-02-20T17:54:09.386Z"
   },
   {
    "duration": 383,
    "start_time": "2022-02-20T17:54:33.161Z"
   },
   {
    "duration": 62,
    "start_time": "2022-02-20T17:54:35.109Z"
   },
   {
    "duration": 616,
    "start_time": "2022-02-20T17:55:15.889Z"
   },
   {
    "duration": 899,
    "start_time": "2022-02-20T17:55:53.007Z"
   },
   {
    "duration": 4,
    "start_time": "2022-02-20T17:55:53.909Z"
   },
   {
    "duration": 827,
    "start_time": "2022-02-20T17:55:53.927Z"
   },
   {
    "duration": 65,
    "start_time": "2022-02-20T17:55:54.757Z"
   },
   {
    "duration": 115,
    "start_time": "2022-02-20T17:55:54.825Z"
   },
   {
    "duration": 324,
    "start_time": "2022-02-20T17:58:35.109Z"
   },
   {
    "duration": 87,
    "start_time": "2022-02-20T18:01:54.467Z"
   },
   {
    "duration": 80,
    "start_time": "2022-02-20T18:01:57.482Z"
   },
   {
    "duration": 70,
    "start_time": "2022-02-20T18:02:12.070Z"
   },
   {
    "duration": 72,
    "start_time": "2022-02-20T18:02:31.343Z"
   },
   {
    "duration": 114,
    "start_time": "2022-02-20T18:03:18.936Z"
   },
   {
    "duration": 104,
    "start_time": "2022-02-20T18:03:31.978Z"
   },
   {
    "duration": 498,
    "start_time": "2022-02-20T18:03:43.218Z"
   },
   {
    "duration": 3,
    "start_time": "2022-02-20T18:08:32.265Z"
   },
   {
    "duration": 612,
    "start_time": "2022-02-20T18:08:44.865Z"
   },
   {
    "duration": 333,
    "start_time": "2022-02-20T18:09:12.575Z"
   },
   {
    "duration": 296,
    "start_time": "2022-02-20T18:09:27.683Z"
   },
   {
    "duration": 4,
    "start_time": "2022-02-20T18:09:39.099Z"
   },
   {
    "duration": 326,
    "start_time": "2022-02-20T18:09:41.148Z"
   },
   {
    "duration": 326,
    "start_time": "2022-02-20T18:10:08.991Z"
   },
   {
    "duration": 72,
    "start_time": "2022-02-20T18:10:23.995Z"
   },
   {
    "duration": 77,
    "start_time": "2022-02-20T18:12:08.341Z"
   },
   {
    "duration": 67,
    "start_time": "2022-02-20T18:13:13.273Z"
   },
   {
    "duration": 6,
    "start_time": "2022-02-20T18:15:17.769Z"
   },
   {
    "duration": 6,
    "start_time": "2022-02-20T18:15:47.660Z"
   },
   {
    "duration": 5,
    "start_time": "2022-02-20T18:16:05.977Z"
   },
   {
    "duration": 66,
    "start_time": "2022-02-20T18:18:14.602Z"
   },
   {
    "duration": 88,
    "start_time": "2022-02-20T18:18:25.100Z"
   },
   {
    "duration": 385,
    "start_time": "2022-02-20T18:18:28.011Z"
   },
   {
    "duration": 470,
    "start_time": "2022-02-20T18:18:32.043Z"
   },
   {
    "duration": 380,
    "start_time": "2022-02-20T18:18:38.755Z"
   },
   {
    "duration": 407,
    "start_time": "2022-02-20T18:18:44.442Z"
   },
   {
    "duration": 321,
    "start_time": "2022-02-20T18:18:49.852Z"
   },
   {
    "duration": 70,
    "start_time": "2022-02-20T18:18:54.527Z"
   },
   {
    "duration": 66,
    "start_time": "2022-02-20T18:18:59.830Z"
   },
   {
    "duration": 66,
    "start_time": "2022-02-20T18:19:07.055Z"
   },
   {
    "duration": 330,
    "start_time": "2022-02-20T18:19:25.962Z"
   },
   {
    "duration": 65,
    "start_time": "2022-02-20T18:22:06.653Z"
   },
   {
    "duration": 67,
    "start_time": "2022-02-20T18:22:13.144Z"
   },
   {
    "duration": 74,
    "start_time": "2022-02-20T18:22:23.392Z"
   },
   {
    "duration": 68,
    "start_time": "2022-02-20T18:22:27.105Z"
   },
   {
    "duration": 6477,
    "start_time": "2022-02-20T18:22:32.328Z"
   },
   {
    "duration": 6790,
    "start_time": "2022-02-20T18:22:39.276Z"
   },
   {
    "duration": 67,
    "start_time": "2022-02-20T18:22:53.796Z"
   },
   {
    "duration": 73,
    "start_time": "2022-02-20T18:23:08.311Z"
   },
   {
    "duration": 73,
    "start_time": "2022-02-20T18:23:27.607Z"
   },
   {
    "duration": 7,
    "start_time": "2022-02-20T18:23:36.492Z"
   },
   {
    "duration": 23,
    "start_time": "2022-02-20T18:23:50.075Z"
   },
   {
    "duration": 7,
    "start_time": "2022-02-20T18:23:55.259Z"
   },
   {
    "duration": -871,
    "start_time": "2022-02-20T18:24:07.675Z"
   },
   {
    "duration": 6659,
    "start_time": "2022-02-20T18:24:10.855Z"
   },
   {
    "duration": 70,
    "start_time": "2022-02-20T18:25:05.318Z"
   },
   {
    "duration": 4,
    "start_time": "2022-02-20T18:27:31.151Z"
   },
   {
    "duration": 67,
    "start_time": "2022-02-20T18:28:25.691Z"
   },
   {
    "duration": 66,
    "start_time": "2022-02-20T18:28:33.883Z"
   },
   {
    "duration": 4,
    "start_time": "2022-02-20T18:35:50.850Z"
   },
   {
    "duration": 606,
    "start_time": "2022-02-20T18:35:58.133Z"
   },
   {
    "duration": 658,
    "start_time": "2022-02-20T18:36:28.122Z"
   },
   {
    "duration": 571,
    "start_time": "2022-02-20T18:37:14.291Z"
   },
   {
    "duration": 607,
    "start_time": "2022-02-20T18:40:56.021Z"
   },
   {
    "duration": 1471,
    "start_time": "2022-02-20T18:41:20.375Z"
   },
   {
    "duration": 620,
    "start_time": "2022-02-20T18:41:37.003Z"
   },
   {
    "duration": 654,
    "start_time": "2022-02-20T18:42:22.941Z"
   },
   {
    "duration": 4,
    "start_time": "2022-02-20T18:42:58.721Z"
   },
   {
    "duration": 90,
    "start_time": "2022-02-20T18:43:07.294Z"
   },
   {
    "duration": 878,
    "start_time": "2022-02-20T18:44:08.464Z"
   },
   {
    "duration": 579,
    "start_time": "2022-02-20T18:44:17.486Z"
   },
   {
    "duration": 677,
    "start_time": "2022-02-20T18:44:24.155Z"
   },
   {
    "duration": 641,
    "start_time": "2022-02-20T18:44:35.377Z"
   },
   {
    "duration": 803,
    "start_time": "2022-02-20T18:44:54.238Z"
   },
   {
    "duration": 107,
    "start_time": "2022-02-20T18:45:00.901Z"
   },
   {
    "duration": 594,
    "start_time": "2022-02-20T18:45:36.576Z"
   },
   {
    "duration": 4,
    "start_time": "2022-02-20T18:47:15.584Z"
   },
   {
    "duration": 100,
    "start_time": "2022-02-20T18:47:22.190Z"
   },
   {
    "duration": 91,
    "start_time": "2022-02-20T18:49:51.322Z"
   },
   {
    "duration": 132,
    "start_time": "2022-02-20T18:49:54.330Z"
   },
   {
    "duration": 267,
    "start_time": "2022-02-20T18:50:02.696Z"
   },
   {
    "duration": 111,
    "start_time": "2022-02-20T18:50:11.012Z"
   },
   {
    "duration": 251,
    "start_time": "2022-02-20T18:51:50.306Z"
   },
   {
    "duration": 256,
    "start_time": "2022-02-20T18:52:08.237Z"
   },
   {
    "duration": 727,
    "start_time": "2022-02-20T18:53:39.700Z"
   },
   {
    "duration": 610,
    "start_time": "2022-02-20T18:53:54.697Z"
   },
   {
    "duration": 620,
    "start_time": "2022-02-20T18:54:20.632Z"
   },
   {
    "duration": 600,
    "start_time": "2022-02-20T18:54:42.707Z"
   },
   {
    "duration": 101,
    "start_time": "2022-02-20T18:55:19.945Z"
   },
   {
    "duration": 106,
    "start_time": "2022-02-20T18:55:50.854Z"
   },
   {
    "duration": 104,
    "start_time": "2022-02-20T18:56:06.476Z"
   },
   {
    "duration": 105,
    "start_time": "2022-02-20T18:56:12.378Z"
   },
   {
    "duration": 105,
    "start_time": "2022-02-20T18:57:06.987Z"
   },
   {
    "duration": 104,
    "start_time": "2022-02-20T18:57:29.036Z"
   },
   {
    "duration": 101,
    "start_time": "2022-02-20T18:59:33.040Z"
   },
   {
    "duration": 111,
    "start_time": "2022-02-20T18:59:40.161Z"
   },
   {
    "duration": 104,
    "start_time": "2022-02-20T19:00:46.465Z"
   },
   {
    "duration": 112,
    "start_time": "2022-02-20T19:01:14.844Z"
   },
   {
    "duration": 591,
    "start_time": "2022-02-20T19:03:06.475Z"
   },
   {
    "duration": 592,
    "start_time": "2022-02-20T19:03:20.727Z"
   },
   {
    "duration": 614,
    "start_time": "2022-02-20T19:04:20.838Z"
   },
   {
    "duration": 657,
    "start_time": "2022-02-20T19:04:47.204Z"
   },
   {
    "duration": 614,
    "start_time": "2022-02-20T19:05:29.790Z"
   },
   {
    "duration": 72,
    "start_time": "2022-02-20T19:05:44.466Z"
   },
   {
    "duration": 614,
    "start_time": "2022-02-20T19:06:18.458Z"
   },
   {
    "duration": 572,
    "start_time": "2022-02-20T19:06:40.330Z"
   },
   {
    "duration": 592,
    "start_time": "2022-02-20T19:06:50.937Z"
   },
   {
    "duration": 72,
    "start_time": "2022-02-20T19:07:29.224Z"
   },
   {
    "duration": 72,
    "start_time": "2022-02-20T19:07:42.112Z"
   },
   {
    "duration": 75,
    "start_time": "2022-02-20T19:07:58.556Z"
   },
   {
    "duration": 74,
    "start_time": "2022-02-20T19:08:52.472Z"
   },
   {
    "duration": 303,
    "start_time": "2022-02-20T19:08:55.931Z"
   },
   {
    "duration": 67,
    "start_time": "2022-02-20T19:09:21.615Z"
   },
   {
    "duration": 70,
    "start_time": "2022-02-20T19:09:24.895Z"
   },
   {
    "duration": 861,
    "start_time": "2022-02-20T19:15:12.061Z"
   },
   {
    "duration": 615,
    "start_time": "2022-02-20T19:15:37.291Z"
   },
   {
    "duration": 66,
    "start_time": "2022-02-20T19:16:21.631Z"
   },
   {
    "duration": 140,
    "start_time": "2022-02-20T19:18:47.811Z"
   },
   {
    "duration": 125,
    "start_time": "2022-02-20T19:19:42.205Z"
   },
   {
    "duration": 9,
    "start_time": "2022-02-20T19:21:49.385Z"
   },
   {
    "duration": 1100,
    "start_time": "2022-02-20T19:21:56.326Z"
   },
   {
    "duration": 20,
    "start_time": "2022-02-20T19:21:57.429Z"
   },
   {
    "duration": 9,
    "start_time": "2022-02-20T19:21:57.452Z"
   },
   {
    "duration": 6,
    "start_time": "2022-02-20T19:21:57.464Z"
   },
   {
    "duration": 429,
    "start_time": "2022-02-20T19:21:57.474Z"
   },
   {
    "duration": 61,
    "start_time": "2022-02-20T19:21:57.906Z"
   },
   {
    "duration": 61,
    "start_time": "2022-02-20T19:21:57.970Z"
   },
   {
    "duration": 58,
    "start_time": "2022-02-20T19:21:58.035Z"
   },
   {
    "duration": 108,
    "start_time": "2022-02-20T19:21:58.096Z"
   },
   {
    "duration": 59,
    "start_time": "2022-02-20T19:21:58.207Z"
   },
   {
    "duration": 725,
    "start_time": "2022-02-20T19:21:58.269Z"
   },
   {
    "duration": 617,
    "start_time": "2022-02-20T19:26:22.405Z"
   },
   {
    "duration": 65,
    "start_time": "2022-02-20T19:26:36.868Z"
   },
   {
    "duration": 88,
    "start_time": "2022-02-20T19:27:29.091Z"
   },
   {
    "duration": 773,
    "start_time": "2022-02-20T19:29:46.631Z"
   },
   {
    "duration": 86,
    "start_time": "2022-02-20T19:29:52.488Z"
   },
   {
    "duration": 87,
    "start_time": "2022-02-20T19:36:36.179Z"
   },
   {
    "duration": 87,
    "start_time": "2022-02-20T19:36:47.431Z"
   },
   {
    "duration": 609,
    "start_time": "2022-02-20T19:37:32.459Z"
   },
   {
    "duration": 86,
    "start_time": "2022-02-20T19:37:35.587Z"
   },
   {
    "duration": 611,
    "start_time": "2022-02-20T19:37:45.632Z"
   },
   {
    "duration": 611,
    "start_time": "2022-02-20T19:38:16.442Z"
   },
   {
    "duration": 89,
    "start_time": "2022-02-20T19:38:19.818Z"
   },
   {
    "duration": 88,
    "start_time": "2022-02-20T19:38:43.672Z"
   },
   {
    "duration": 615,
    "start_time": "2022-02-20T19:39:19.509Z"
   },
   {
    "duration": 595,
    "start_time": "2022-02-20T19:39:27.169Z"
   },
   {
    "duration": 88,
    "start_time": "2022-02-20T19:39:41.486Z"
   },
   {
    "duration": 580,
    "start_time": "2022-02-20T19:48:45.821Z"
   },
   {
    "duration": 604,
    "start_time": "2022-02-20T19:48:49.461Z"
   },
   {
    "duration": 1220,
    "start_time": "2022-02-20T19:49:17.495Z"
   },
   {
    "duration": 606,
    "start_time": "2022-02-20T19:49:58.813Z"
   },
   {
    "duration": 567,
    "start_time": "2022-02-20T19:53:52.379Z"
   },
   {
    "duration": 563,
    "start_time": "2022-02-20T19:53:57.394Z"
   },
   {
    "duration": 603,
    "start_time": "2022-02-20T19:54:06.549Z"
   },
   {
    "duration": 603,
    "start_time": "2022-02-20T19:54:20.045Z"
   },
   {
    "duration": 4,
    "start_time": "2022-02-20T19:54:34.320Z"
   },
   {
    "duration": 62,
    "start_time": "2022-02-20T19:54:42.881Z"
   },
   {
    "duration": 6,
    "start_time": "2022-02-20T19:55:09.454Z"
   },
   {
    "duration": 61,
    "start_time": "2022-02-20T19:55:14.373Z"
   },
   {
    "duration": 62,
    "start_time": "2022-02-20T19:55:22.434Z"
   },
   {
    "duration": 63,
    "start_time": "2022-02-20T19:57:07.492Z"
   },
   {
    "duration": 73,
    "start_time": "2022-02-20T19:57:23.748Z"
   },
   {
    "duration": 585,
    "start_time": "2022-02-20T20:02:13.093Z"
   },
   {
    "duration": 568,
    "start_time": "2022-02-20T20:02:33.706Z"
   },
   {
    "duration": 63,
    "start_time": "2022-02-20T20:03:04.132Z"
   },
   {
    "duration": 914,
    "start_time": "2022-02-20T20:09:14.910Z"
   },
   {
    "duration": 13,
    "start_time": "2022-02-20T20:09:15.827Z"
   },
   {
    "duration": 8,
    "start_time": "2022-02-20T20:09:15.843Z"
   },
   {
    "duration": 8,
    "start_time": "2022-02-20T20:09:15.854Z"
   },
   {
    "duration": 453,
    "start_time": "2022-02-20T20:09:15.864Z"
   },
   {
    "duration": 64,
    "start_time": "2022-02-20T20:09:16.321Z"
   },
   {
    "duration": 62,
    "start_time": "2022-02-20T20:09:16.387Z"
   },
   {
    "duration": 62,
    "start_time": "2022-02-20T20:09:16.452Z"
   },
   {
    "duration": 114,
    "start_time": "2022-02-20T20:09:16.516Z"
   },
   {
    "duration": 64,
    "start_time": "2022-02-20T20:09:16.632Z"
   },
   {
    "duration": 67,
    "start_time": "2022-02-20T20:09:16.699Z"
   },
   {
    "duration": 1053,
    "start_time": "2022-02-20T20:17:29.302Z"
   },
   {
    "duration": 589,
    "start_time": "2022-02-20T20:17:56.817Z"
   },
   {
    "duration": 614,
    "start_time": "2022-02-20T20:18:00.846Z"
   },
   {
    "duration": 64,
    "start_time": "2022-02-20T20:19:53.370Z"
   },
   {
    "duration": 65,
    "start_time": "2022-02-20T20:22:38.422Z"
   },
   {
    "duration": 597,
    "start_time": "2022-02-20T20:23:11.349Z"
   },
   {
    "duration": 64,
    "start_time": "2022-02-20T20:23:20.940Z"
   },
   {
    "duration": 63,
    "start_time": "2022-02-20T20:23:52.369Z"
   },
   {
    "duration": 889,
    "start_time": "2022-02-20T20:29:04.563Z"
   },
   {
    "duration": 64,
    "start_time": "2022-02-20T20:29:11.595Z"
   },
   {
    "duration": 62,
    "start_time": "2022-02-20T20:29:16.160Z"
   },
   {
    "duration": 62,
    "start_time": "2022-02-20T20:30:18.756Z"
   },
   {
    "duration": 64,
    "start_time": "2022-02-20T20:31:07.065Z"
   },
   {
    "duration": 64,
    "start_time": "2022-02-20T20:31:59.993Z"
   },
   {
    "duration": 64,
    "start_time": "2022-02-20T20:32:03.368Z"
   },
   {
    "duration": 694,
    "start_time": "2022-02-20T20:32:08.106Z"
   },
   {
    "duration": 63,
    "start_time": "2022-02-20T20:32:14.867Z"
   },
   {
    "duration": 65,
    "start_time": "2022-02-20T20:32:30.906Z"
   },
   {
    "duration": 945,
    "start_time": "2022-02-20T20:37:43.008Z"
   },
   {
    "duration": 13,
    "start_time": "2022-02-20T20:37:43.956Z"
   },
   {
    "duration": 17,
    "start_time": "2022-02-20T20:37:43.972Z"
   },
   {
    "duration": 22,
    "start_time": "2022-02-20T20:37:43.993Z"
   },
   {
    "duration": 487,
    "start_time": "2022-02-20T20:37:44.018Z"
   },
   {
    "duration": 65,
    "start_time": "2022-02-20T20:37:44.508Z"
   },
   {
    "duration": 64,
    "start_time": "2022-02-20T20:37:44.576Z"
   },
   {
    "duration": 61,
    "start_time": "2022-02-20T20:37:44.642Z"
   },
   {
    "duration": 116,
    "start_time": "2022-02-20T20:37:44.706Z"
   },
   {
    "duration": 62,
    "start_time": "2022-02-20T20:37:44.825Z"
   },
   {
    "duration": 66,
    "start_time": "2022-02-20T20:37:44.889Z"
   },
   {
    "duration": 64,
    "start_time": "2022-02-20T20:37:44.958Z"
   },
   {
    "duration": 920,
    "start_time": "2022-02-20T20:40:18.436Z"
   },
   {
    "duration": 15,
    "start_time": "2022-02-20T20:40:19.359Z"
   },
   {
    "duration": 16,
    "start_time": "2022-02-20T20:40:19.378Z"
   },
   {
    "duration": 7,
    "start_time": "2022-02-20T20:40:19.397Z"
   },
   {
    "duration": 498,
    "start_time": "2022-02-20T20:40:19.406Z"
   },
   {
    "duration": 69,
    "start_time": "2022-02-20T20:40:19.907Z"
   },
   {
    "duration": 66,
    "start_time": "2022-02-20T20:40:19.978Z"
   },
   {
    "duration": 64,
    "start_time": "2022-02-20T20:40:20.047Z"
   },
   {
    "duration": 120,
    "start_time": "2022-02-20T20:40:20.115Z"
   },
   {
    "duration": 69,
    "start_time": "2022-02-20T20:40:20.237Z"
   },
   {
    "duration": 72,
    "start_time": "2022-02-20T20:40:20.309Z"
   },
   {
    "duration": 69,
    "start_time": "2022-02-20T20:40:20.384Z"
   },
   {
    "duration": 895,
    "start_time": "2022-02-21T19:28:14.099Z"
   },
   {
    "duration": 24,
    "start_time": "2022-02-21T19:28:14.996Z"
   },
   {
    "duration": 7,
    "start_time": "2022-02-21T19:28:15.023Z"
   },
   {
    "duration": 6,
    "start_time": "2022-02-21T19:28:15.033Z"
   },
   {
    "duration": 94,
    "start_time": "2022-02-21T19:28:15.042Z"
   },
   {
    "duration": 17,
    "start_time": "2022-02-21T19:28:15.138Z"
   },
   {
    "duration": 14,
    "start_time": "2022-02-21T19:28:15.157Z"
   },
   {
    "duration": 12,
    "start_time": "2022-02-21T19:28:15.174Z"
   },
   {
    "duration": 57,
    "start_time": "2022-02-21T19:28:15.188Z"
   },
   {
    "duration": 15,
    "start_time": "2022-02-21T19:28:15.247Z"
   },
   {
    "duration": 18,
    "start_time": "2022-02-21T19:28:15.265Z"
   },
   {
    "duration": 25,
    "start_time": "2022-02-21T19:28:15.285Z"
   }
  ],
  "kernelspec": {
   "display_name": "Python 3",
   "language": "python",
   "name": "python3"
  },
  "language_info": {
   "codemirror_mode": {
    "name": "ipython",
    "version": 3
   },
   "file_extension": ".py",
   "mimetype": "text/x-python",
   "name": "python",
   "nbconvert_exporter": "python",
   "pygments_lexer": "ipython3",
   "version": "3.8.8"
  },
  "toc": {
   "base_numbering": 1,
   "nav_menu": {},
   "number_sections": true,
   "sideBar": true,
   "skip_h1_title": true,
   "title_cell": "Table of Contents",
   "title_sidebar": "Contents",
   "toc_cell": false,
   "toc_position": {},
   "toc_section_display": true,
   "toc_window_display": false
  }
 },
 "nbformat": 4,
 "nbformat_minor": 2
}
